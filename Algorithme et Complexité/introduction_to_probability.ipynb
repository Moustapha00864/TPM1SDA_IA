{
 "cells": [
  {
   "cell_type": "markdown",
   "metadata": {
    "id": "relevant-local"
   },
   "source": [
    "# Introduction aux Probabilites \n",
    "\n",
    "\n",
    "\n",
    "![](https://i.imgur.com/OdvIK56.png)\n",
    "\n",
    "\n",
    "La probabilité est un moyen de mesurer et de décrire les chances qu'un événement se produise ou  qu'une certaine condition soit vraie. C'est un outil mathématique utile pour gérer l'incertitude et le caractère aléatoire. Dans ce didacticiel, nous aborderons certains concepts, techniques et résultats fondamentaux en matière de probabilité et apprendrons à calculer / estimer la probabilité d'un événement."
   ]
  },
  {
   "cell_type": "markdown",
   "metadata": {
    "id": "mexican-bunch"
   },
   "source": [
    "\n",
    "\n",
    "Ce didacticiel couvre les sujets suivants:\n",
    "\n",
    "* Introduction au hasard et à l'incertitude\n",
    "* Probabilité d'un événement en cas d'equiprobabilité\n",
    "* Estimation de la probabilité en menant des expériences\n",
    "* Problèmes courants: tirage au sort, jet de dés, cartes à jouer, etc.\n",
    "* Applications pratiques de la probabilité\n",
    "* Règle d'addition de probabilité et d'événements mutuellement exclusifs\n",
    "* Probabilité de complément et somme des probabilités\n",
    "* Séquence d'événements indépendants et combinaisons de comptage\n",
    "* Les événements dépendants et la règle de multiplication des probabilités\n",
    "* Théorème de Bayes et probabilité postérieure"
   ]
  },
  {
   "cell_type": "markdown",
   "metadata": {
    "id": "continent-paragraph"
   },
   "source": [
    "\n",
    "\n",
    "\n",
    "### Comment exécuter le code\n",
    "\n",
    "La meilleure façon d'apprendre est d'exécuter le code et de l'expérimenter vous-même. Ce tutoriel est un exécutable [Jupyter notebook] (https://jupyter.org). Vous pouvez exécuter ce didacticiel et expérimenter les exemples de code de plusieurs manières: * en utilisant des ressources en ligne gratuites * (recommandé) ou * sur votre ordinateur *.\n",
    "\n",
    "#### Option 1: exécution à l'aide de ressources en ligne gratuites (1 clic, recommandé)\n",
    "\n",
    "Le moyen le plus simple de commencer à exécuter le code est de cliquer sur le bouton ** Exécuter ** en haut de cette page et de sélectionner ** Exécuter sur le classeur **. Vous pouvez également sélectionner \"Exécuter sur Colab\" ou \"Exécuter sur Kaggle\", mais vous devrez créer un compte sur [Google Colab] (https://colab.research.google.com) ou [Kaggle] (https: //kaggle.com) pour utiliser ces plates-formes.\n",
    "\n",
    "\n",
    "#### Option 2: exécution sur votre ordinateur localement\n",
    "\n",
    "Pour exécuter le code sur votre ordinateur localement, vous devrez configurer [Python] (https://www.python.org), télécharger le notebook et installer les bibliothèques requises. Nous vous recommandons d'utiliser la distribution [Conda] (https://docs.conda.io/projects/conda/en/latest/user-guide/install/) de Python. Cliquez sur le bouton ** Exécuter ** en haut de cette page, sélectionnez l'option ** Exécuter localement ** et suivez les instructions."
   ]
  },
  {
   "cell_type": "markdown",
   "metadata": {
    "id": "further-interstate"
   },
   "source": [
    "## Lancer une pièce équitable\n",
    "\n",
    "On dit souvent que les pièces de monnaie ont deux faces: une «tête» et une «queue».\n",
    "\n",
    "<img src=\"https://i.imgur.com/Y80gpdr.png\" width=\"360\">\n",
    "\n",
    "Une pièce * juste * est une pièce qui est également susceptible d'atterrir de chaque côté lorsqu'elle est * lancée * ou * retournée *. Le côté qui apparaît sur le dessus une fois que la pièce a atterri est désigné comme le résultat d'un tirage au sort / retournement de pièces.\n",
    "\n",
    "![](https://media.tenor.com/images/16d4f2d1ab5dfad7224d6b93171926f9/tenor.gif)"
   ]
  },
  {
   "cell_type": "markdown",
   "metadata": {
    "id": "ecological-saturn"
   },
   "source": [
    "\n",
    "\n",
    "Il peut être possible de déterminer le résultat d'un tirage au sort si nous avons des mesures exactes de l'environnement physique et des forces appliquées pour lancer la pièce. Cependant, nous n'avons généralement pas ces informations à portée de main et il est très difficile (voire impossible) d'effectuer toutes ces mesures avec une précision suffisante.\n",
    "\n",
    "\n",
    "L'hypothèse du caractère aléatoire offre une façon de travailler avec des informations limitées et l'incertitude des résultats. Nous disons que lancer une pièce est une * expérience * qui peut conduire à l'un des deux résultats au hasard. La probabilité est la mesure des chances de chaque résultat de survenir.\n",
    "\n",
    "Voici quelques exemples d'aléatoire et d'incertitude:\n",
    "\n",
    "- Météo (température, précipitations, humidité, etc.)\n",
    "- Gagner une loterie d'un million de dollars\n",
    "- Le futur cours de l'action des ordinateurs Apple \n",
    "- Votre ami / frère devine votre mot de passe de messagerie\n",
    "- Un candidat politique remportant une élection\n",
    "- Le PIB d'un pays dans vingt ans\n",
    "\n",
    "N'oubliez pas que nous considérons nombre de ces événements comme étant * aléatoires * non pas parce qu'ils ne sont pas déterministes, mais parce que nous n'avons pas suffisamment d'informations pour déterminer avec précision leur valeur."
   ]
  },
  {
   "cell_type": "markdown",
   "metadata": {
    "id": "valid-reform"
   },
   "source": [
    "\n",
    "\n",
    "## Résultats tout aussi probables\n",
    "\n",
    "> ** Question **: Si vous lancez une pièce juste, quelle est la ** probabilité ** de ** avoir des têtes **?\n",
    "\n",
    "Lorsque nous avons plusieurs résultats possibles equiprobables, la probabilité d'une condition (également appelée événement) est définie comme:\n",
    "\n",
    "> $$ P (\\textrm {condition}) = \\frac {\\textrm {Nombre de résultats satisfaisant la condition}} {\\textrm {Nombre de résultats également probables}} $$\n",
    "\n",
    "** La probabilité d'une condition / d'un événement est un nombre compris entre 0 et 1. **\n",
    "\n",
    "\n",
    "Nous pouvons définir une fonction «probabilité» pour effectuer ce calcul."
   ]
  },
  {
   "cell_type": "code",
   "execution_count": null,
   "metadata": {
    "id": "subject-wallet"
   },
   "outputs": [],
   "source": [
    "def probability(res_satisfaisant_condition, total_resultats):\n",
    "    return res_satisfaisant_condition/total_resultats"
   ]
  },
  {
   "cell_type": "markdown",
   "metadata": {
    "id": "rental-november"
   },
   "source": [
    "Lorsque nous lançons une bonne pièce de monnaie, il n'y a que deux résultats possibles, tous deux également probables: «tête» et «queue». L'un des résultats correspond à la condition «avoir la tête».\n",
    "\n",
    "Avec ces informations, nous pouvons maintenant utiliser la formule pour calculer la probabilité d'avoir une tête."
   ]
  },
  {
   "cell_type": "code",
   "execution_count": null,
   "metadata": {
    "id": "proper-albert",
    "outputId": "791280ea-1375-4792-b6f5-439ecf27eac7"
   },
   "outputs": [
    {
     "data": {
      "text/plain": [
       "0.5"
      ]
     },
     "execution_count": 2,
     "metadata": {
      "tags": []
     },
     "output_type": "execute_result"
    }
   ],
   "source": [
    "p_head = probability(1, 2)\n",
    "p_head"
   ]
  },
  {
   "cell_type": "markdown",
   "metadata": {
    "id": "structural-twist"
   },
   "source": [
    "Ainsi, la probabilité d'obtenir une «tête» lorsque vous lancez une pièce équitable est de  $ 1 / 2 $ ou $ 0,5 $.\n",
    "\n",
    "Calculez la probabilité de certaines autres conditions en essayant les exercices ci-dessous."
   ]
  },
  {
   "cell_type": "markdown",
   "metadata": {
    "id": "loaded-analyst"
   },
   "source": [
    "> **Exercise**: If you flip a fair coin, what is the probability of **getting a tail**?"
   ]
  },
  {
   "cell_type": "code",
   "execution_count": null,
   "metadata": {
    "id": "seasonal-development"
   },
   "outputs": [],
   "source": []
  },
  {
   "cell_type": "markdown",
   "metadata": {
    "id": "automotive-nowhere"
   },
   "source": [
    "> **Exercice**: Si vous lancez une bonne pièce, quelle est la probabilité **d'avoir une tête ou une queue**?"
   ]
  },
  {
   "cell_type": "code",
   "execution_count": null,
   "metadata": {
    "id": "atlantic-collaboration"
   },
   "outputs": [],
   "source": []
  },
  {
   "cell_type": "markdown",
   "metadata": {
    "id": "welcome-oracle"
   },
   "source": [
    "> **Exercice:** Si vous lancez une bonne pièce de monnaie, quelle est **la probabilité de n'avoir ni tête ni queue**?"
   ]
  },
  {
   "cell_type": "code",
   "execution_count": null,
   "metadata": {
    "id": "amateur-status"
   },
   "outputs": [],
   "source": []
  },
  {
   "cell_type": "markdown",
   "metadata": {
    "id": "outdoor-narrow"
   },
   "source": [
    "> **Exercice**: Si vous lancez une bonne pièce de monnaie, quelle est la probabilité **d'obtenir une tête et une queue** sur le même tirage au sort?"
   ]
  },
  {
   "cell_type": "code",
   "execution_count": null,
   "metadata": {
    "id": "bibliographic-satellite"
   },
   "outputs": [],
   "source": []
  },
  {
   "cell_type": "markdown",
   "metadata": {
    "id": "dominican-colorado"
   },
   "source": [
    "> **Exercice**: Si vous lancez une bonne pièce, quelle est la probabilité **qu'il pleuve à Dakar demain**?"
   ]
  },
  {
   "cell_type": "code",
   "execution_count": null,
   "metadata": {
    "id": "aerial-naples"
   },
   "outputs": [],
   "source": []
  },
  {
   "cell_type": "markdown",
   "metadata": {
    "id": "white-letter"
   },
   "source": [
    "## Lancer des dés\n",
    "\n",
    "Un * dé * (pluriel * dés *) est un cube à 6 faces avec chaque face marquée d'un nombre différent de points (un à six). Lorsqu'un dé est lancé ou lancé, le nombre de points qui apparaît sur la face supérieure une fois le dé au repos est connu comme le résultat du lancer / lancer. Ainsi, les résultats possibles d'un lancer de dé sont 1, 2, 3, 4, 5 et 6.\n",
    "\n",
    "<img src=\"https://i.imgur.com/fVfurkk.png\" width=\"200\">\n",
    "\n",
    "> ** Question **: Quelle est la probabilité d'obtenir un quatre quand un dé juste est lancé?\n",
    "\n",
    "Tous les résultats sont également probables pour un dé juste, et le seul résultat 4 satisfait à la condition «obtenir un 4». Ainsi, nous pouvons calculer la probabilité de la condition soit $1/6 $ ou $0,1666 $"
   ]
  },
  {
   "cell_type": "code",
   "execution_count": null,
   "metadata": {
    "id": "commercial-container"
   },
   "outputs": [],
   "source": []
  },
  {
   "cell_type": "markdown",
   "metadata": {
    "id": "colored-thailand"
   },
   "source": [
    "> **Question**: Quelle est la probabilité **d'obtenir un nombre pair** lorsqu'un dé juste est lancé?\n",
    "\n"
   ]
  },
  {
   "cell_type": "code",
   "execution_count": null,
   "metadata": {
    "id": "interior-polyester"
   },
   "outputs": [],
   "source": []
  },
  {
   "cell_type": "markdown",
   "metadata": {
    "id": "increased-union"
   },
   "source": [
    "> **Exercice**: Quelle est la probabilité **d'obtenir un trois ou un six** quand un dé juste est lancé?"
   ]
  },
  {
   "cell_type": "code",
   "execution_count": null,
   "metadata": {
    "id": "cordless-specialist"
   },
   "outputs": [],
   "source": []
  },
  {
   "cell_type": "markdown",
   "metadata": {
    "id": "exact-respect"
   },
   "source": [
    "> **Exercice**: Quelle est la probabilité **d'obtenir un trois et un six** lorsqu'un dé juste est lancé une fois?"
   ]
  },
  {
   "cell_type": "code",
   "execution_count": null,
   "metadata": {
    "id": "commercial-mining"
   },
   "outputs": [],
   "source": []
  },
  {
   "cell_type": "markdown",
   "metadata": {
    "id": "fifth-store"
   },
   "source": [
    "> **Exercice**: Quelle est la probabilité **d'obtenir un multiple de deux ou un multiple de trois** lorsqu'un dé juste est lancé?"
   ]
  },
  {
   "cell_type": "code",
   "execution_count": null,
   "metadata": {
    "id": "congressional-mortality"
   },
   "outputs": [],
   "source": []
  },
  {
   "cell_type": "markdown",
   "metadata": {
    "id": "above-pressure"
   },
   "source": [
    "> **Exercice**: Quelle est la probabilité **d'obtenir un trois ou un sept** quand un dé juste est lancé?"
   ]
  },
  {
   "cell_type": "code",
   "execution_count": null,
   "metadata": {
    "id": "authorized-suffering"
   },
   "outputs": [],
   "source": []
  },
  {
   "cell_type": "markdown",
   "metadata": {
    "id": "photographic-cocktail"
   },
   "source": [
    "> **Exercice**: Quelle est la probabilité **d'obtenir un nombre premier** lorsqu'un dé juste est lancé?"
   ]
  },
  {
   "cell_type": "code",
   "execution_count": null,
   "metadata": {
    "id": "reserved-refund"
   },
   "outputs": [],
   "source": []
  },
  {
   "cell_type": "code",
   "execution_count": null,
   "metadata": {
    "id": "acoustic-floor"
   },
   "outputs": [],
   "source": []
  },
  {
   "cell_type": "code",
   "execution_count": null,
   "metadata": {
    "id": "affecting-pharmaceutical"
   },
   "outputs": [],
   "source": []
  },
  {
   "cell_type": "markdown",
   "metadata": {
    "id": "qualified-defense"
   },
   "source": [
    "## Playing Cards\n",
    "\n",
    "<img src=\"https://i.imgur.com/F7dXnzB.jpg\" width=\"400\">\n",
    "\n",
    "Un jeu de cartes à jouer se compose de 52 cartes. Chaque carte appartient à l'une des quatre couleurs suivantes: Pique ♠ ️, Trefle ♣ ️, Coeur ♥ ️ ou Carrés ♦ ️. Il y a 13 cartes appartenant à chaque couleur: *As, 2, 3, 4, 5, 6, 7, 8, 9, 10, Valet, Reine* et *Roi*. Les piques et les tréfless sont de couleur noire et les cœurs et les carrés sont de couleur rouge.\n",
    "\n",
    "![](https://i.imgur.com/hJtBa4i.png)\n",
    "\n",
    "\n",
    "\n",
    "Dans un jeu de cartes bien mélangé, n'importe quelle carte est également susceptible de se retrouver à n'importe quelle position de la main d'un joueur.\n",
    "\n",
    "![](https://media.giphy.com/media/8gX7CPRgzNt5gIzHam/giphy.gif)\n"
   ]
  },
  {
   "cell_type": "markdown",
   "metadata": {
    "id": "foreign-functionality"
   },
   "source": [
    "> **Question**: Quelle est la probabilité de **tirer un roi de cœur** à partir d'un jeu de cartes bien mélangé?"
   ]
  },
  {
   "cell_type": "markdown",
   "metadata": {
    "id": "technological-rendering"
   },
   "source": [
    "> **Exercice**: Quelle est la probabilité de **tirer une carte rouge** d'un jeu de cartes bien mélangé?\n"
   ]
  },
  {
   "cell_type": "code",
   "execution_count": null,
   "metadata": {
    "id": "postal-brooks"
   },
   "outputs": [],
   "source": []
  },
  {
   "cell_type": "code",
   "execution_count": null,
   "metadata": {
    "id": "entitled-criticism"
   },
   "outputs": [],
   "source": []
  },
  {
   "cell_type": "markdown",
   "metadata": {
    "id": "significant-shirt"
   },
   "source": [
    "> **Exercice**: Quelle est la probabilité de **tirer un pique rouge** d'un jeu de cartes bien mélangé?"
   ]
  },
  {
   "cell_type": "code",
   "execution_count": null,
   "metadata": {
    "id": "silent-genesis"
   },
   "outputs": [],
   "source": []
  },
  {
   "cell_type": "code",
   "execution_count": null,
   "metadata": {
    "id": "actual-inspector"
   },
   "outputs": [],
   "source": []
  },
  {
   "cell_type": "markdown",
   "metadata": {
    "id": "innocent-slave"
   },
   "source": [
    "> **Exercice**: Quelle est la probabilité de **tirer un 7** d'un jeu de cartes bien mélangé?"
   ]
  },
  {
   "cell_type": "code",
   "execution_count": null,
   "metadata": {
    "id": "cognitive-exclusion"
   },
   "outputs": [],
   "source": []
  },
  {
   "cell_type": "code",
   "execution_count": null,
   "metadata": {
    "id": "elect-morocco"
   },
   "outputs": [],
   "source": []
  },
  {
   "cell_type": "markdown",
   "metadata": {
    "id": "acquired-player"
   },
   "source": [
    "> **Exercice**: Quelle est la probabilité de **tirer un pique et un valet** d'un jeu de cartes bien mélangé?"
   ]
  },
  {
   "cell_type": "code",
   "execution_count": null,
   "metadata": {
    "id": "sensitive-killing"
   },
   "outputs": [],
   "source": []
  },
  {
   "cell_type": "code",
   "execution_count": null,
   "metadata": {
    "id": "supreme-tsunami"
   },
   "outputs": [],
   "source": []
  },
  {
   "cell_type": "markdown",
   "metadata": {
    "id": "amino-montana"
   },
   "source": [
    "D'autres problémes sur les probabilités et les cartes: https://www.math-only-math.com/playing-cards-probability.html"
   ]
  },
  {
   "cell_type": "markdown",
   "metadata": {
    "id": "blocked-trance"
   },
   "source": [
    "## Probabilité aux conditions multiples\n",
    "\n",
    "> **Exercice**: Quelle est la probabilité de **tirer un pique ou un valet** d'un jeu de cartes bien mélangé?\n",
    "\n"
   ]
  },
  {
   "cell_type": "markdown",
   "metadata": {
    "id": "documentary-voluntary"
   },
   "source": [
    "\n",
    "\n",
    "> ** Question **: Les participants à un cours en ligne comprennent 8 hommes d'Inde, 9 femmes d'Inde, 5 hommes des Etats-Unis et 7 femmes des Etats-Unis. Si un participant est choisi au hasard, quelle est la probabilité que le participant soit indien ou un homme?\n",
    "\n",
    "![](https://i.imgur.com/ZpyrLRt.png)"
   ]
  },
  {
   "cell_type": "markdown",
   "metadata": {
    "id": "identified-accordance"
   },
   "source": [
    "Si nous utilisons les lettres $ A $ et $ B $ pour représenter respectivement les conditions «choisir un Indien» et «choisir un homme», alors nous pouvons déduire la règle générale suivante:\n",
    "$$ P (A \\cup B) = P (A) + P (B) - P (A \\cap B) $$\n",
    "\n",
    "Les symboles $\\cup$ et et $\\cap$ sont souvent utilisés pour représenter \"ou\" (union) et \"et\" (intersection).\n",
    "\n",
    "\n",
    "\n",
    "La relation ci-dessus est appelée la **règle d'addition de probabilité**."
   ]
  },
  {
   "cell_type": "code",
   "execution_count": null,
   "metadata": {
    "id": "simple-morocco"
   },
   "outputs": [],
   "source": []
  },
  {
   "cell_type": "markdown",
   "metadata": {
    "id": "abstract-awareness"
   },
   "source": [
    "> **Exercice**: Quelle est la probabilité de tirer une carte rouge ou un 6 dans un jeu de cartes bien mélangé?\n",
    "\n",
    "![](https://i.imgur.com/052OCcH.png)"
   ]
  },
  {
   "cell_type": "code",
   "execution_count": null,
   "metadata": {
    "id": "interracial-compatibility"
   },
   "outputs": [],
   "source": []
  },
  {
   "cell_type": "code",
   "execution_count": null,
   "metadata": {
    "id": "grave-mixture"
   },
   "outputs": [],
   "source": []
  },
  {
   "cell_type": "markdown",
   "metadata": {
    "id": "political-rehabilitation"
   },
   "source": [
    "> ** Exercice **: Les participants à un cours en ligne comprennent 8 hommes d'Inde, 9 femmes d'Inde, 5 hommes des Etats-Unis et 7 femmes des Etats-Unis. Si un participant est choisi au hasard, quelle est la probabilité que le participant soit un américain ou une femme?"
   ]
  },
  {
   "cell_type": "code",
   "execution_count": null,
   "metadata": {
    "id": "color-infrastructure"
   },
   "outputs": [],
   "source": []
  },
  {
   "cell_type": "code",
   "execution_count": null,
   "metadata": {
    "id": "arranged-angle"
   },
   "outputs": [],
   "source": []
  },
  {
   "cell_type": "markdown",
   "metadata": {
    "id": "fallen-continuity"
   },
   "source": [
    "> **Exercice**: Un sac contient 3 balles rouges, 5 balles bleues et 2 balles vertes. Quelle est la probabilité de ramasser une balle rouge ou verte?"
   ]
  },
  {
   "cell_type": "code",
   "execution_count": null,
   "metadata": {
    "id": "cellular-monte"
   },
   "outputs": [],
   "source": []
  },
  {
   "cell_type": "code",
   "execution_count": null,
   "metadata": {
    "id": "patent-swimming"
   },
   "outputs": [],
   "source": []
  },
  {
   "cell_type": "markdown",
   "metadata": {
    "id": "soviet-beads"
   },
   "source": [
    "> **Exercice**: Un sac contient 3 balles rouges, 5 balles bleues et 2 balles vertes. Quelle est la probabilité de ramasser une balle jaune ou verte?"
   ]
  },
  {
   "cell_type": "code",
   "execution_count": null,
   "metadata": {
    "id": "acquired-batch"
   },
   "outputs": [],
   "source": []
  },
  {
   "cell_type": "code",
   "execution_count": null,
   "metadata": {
    "id": "bizarre-license"
   },
   "outputs": [],
   "source": []
  },
  {
   "cell_type": "markdown",
   "metadata": {
    "id": "sustainable-castle"
   },
   "source": [
    "## Evenements mutuellement exclusives\n",
    "\n",
    "Étant donné deux événements $ A $ et $ B $, nous savons que\n",
    "\n",
    "$$ P (A \\cup B) = P (A) + P (B) - P (A \\cap B) $$\n",
    "\n",
    "Dans certains cas, $ P (A \\cap B) $ est $ 0 $ par exemple si on lance un dé juste et que A & B représentent les conditions \"obtenir un 2\" et \"obtenir un 3\" respectivement, alors la condition $ A \\cap B $ représente la condition \"obtenir un 2 et un 3\", ce qui est impossible.\n",
    "\n",
    "Si $ P (A \\cap B) $ vaut 0, alors $ A $ et $ B $ sont dit mutuellement exclusifs, et il s'ensuit que\n",
    "\n",
    "$$ P (A \\cup B) = P (A) + P (B) $$"
   ]
  },
  {
   "cell_type": "code",
   "execution_count": null,
   "metadata": {
    "id": "previous-liquid"
   },
   "outputs": [],
   "source": []
  },
  {
   "cell_type": "code",
   "execution_count": null,
   "metadata": {
    "id": "front-drama"
   },
   "outputs": [],
   "source": []
  },
  {
   "cell_type": "markdown",
   "metadata": {
    "id": "willing-amount"
   },
   "source": [
    "** Exercice **: Quelle est la probabilité d'obtenir un 2 ou un 3 en lançant un dé juste?"
   ]
  },
  {
   "cell_type": "code",
   "execution_count": null,
   "metadata": {
    "id": "considerable-entity"
   },
   "outputs": [],
   "source": []
  },
  {
   "cell_type": "code",
   "execution_count": null,
   "metadata": {
    "id": "aware-brick"
   },
   "outputs": [],
   "source": []
  },
  {
   "cell_type": "code",
   "execution_count": null,
   "metadata": {
    "id": "streaming-technical"
   },
   "outputs": [],
   "source": []
  },
  {
   "cell_type": "markdown",
   "metadata": {
    "id": "prescription-terrain"
   },
   "source": [
    "**Exercice:** Si vous choisissez au hasard une personne vivant aux États-Unis, quelle est la probabilité que cette personne vive au Texas ou en Californie?\n",
    "<img src=\"https://i.imgur.com/UcZAYl0.png\" width=\"400\">"
   ]
  },
  {
   "cell_type": "code",
   "execution_count": null,
   "metadata": {
    "id": "nervous-baghdad"
   },
   "outputs": [],
   "source": []
  },
  {
   "cell_type": "code",
   "execution_count": null,
   "metadata": {
    "id": "european-biology"
   },
   "outputs": [],
   "source": []
  },
  {
   "cell_type": "code",
   "execution_count": null,
   "metadata": {
    "id": "weird-accuracy"
   },
   "outputs": [],
   "source": []
  },
  {
   "cell_type": "markdown",
   "metadata": {
    "id": "sustainable-clarity"
   },
   "source": [
    "## Probabilité de complément\n",
    "\n",
    "Parfois, nous nous intéressons à la probabilité qu'une condition ne soit pas vraie.\n",
    "\n",
    "> **Question**: Un sac contient 3 boules rouges, 5 boules bleues et 2 boules vertes. Quelle est la probabilité de ramasser une balle qui n'est pas rouge?\n",
    "\n",
    "Il y a 10 boules au total, et 3 d'entre elles sont rouges, donc $10-3  = 7 $ boules ne sont pas rouges. Donc, la probabilité est de 7/10.\n"
   ]
  },
  {
   "cell_type": "code",
   "execution_count": null,
   "metadata": {
    "id": "combined-queens"
   },
   "outputs": [],
   "source": []
  },
  {
   "cell_type": "markdown",
   "metadata": {
    "id": "gorgeous-navigation"
   },
   "source": [
    "Cependant, nous pouvons également le calculer comme suit:\n",
    "\n",
    "$$ P (\\textrm{pas rouge}) = \\frac {\\textrm {No. de balles} - \\textrm{No. de boules rouges}} {\\textrm{No. de boules}} $$\n",
    "\n",
    "$$ P (\\textrm{pas rouge}) = 1 - \\frac{\\textrm {No. de boules rouges}} {\\textrm {No. de boules}} $$\n",
    "\n",
    "$$ P (\\textrm{pas rouge}) = 1 - P(\\textrm{rouge}) $$\n",
    "\n",
    "Nous pouvons exprimer cela en règle générale. Étant donné un événement $ A $, l'événement $ \\textrm{non}A $ est souvent appelé le * complément * de $ A $ et est représenté par $ A^c $. Ainsi, nous avons la règle générale:\n",
    "\n",
    "\n",
    "\n",
    "$$ P (A ^ C) = 1 - P (A) $$"
   ]
  },
  {
   "cell_type": "markdown",
   "metadata": {
    "id": "incredible-maintenance"
   },
   "source": [
    "> **Exercice**: Si un dé juste est lancé, quelle est la probabilité que le résultat ne soit pas un nombre premier?"
   ]
  },
  {
   "cell_type": "code",
   "execution_count": null,
   "metadata": {
    "id": "judicial-prevention"
   },
   "outputs": [],
   "source": []
  },
  {
   "cell_type": "code",
   "execution_count": null,
   "metadata": {
    "id": "working-probability"
   },
   "outputs": [],
   "source": []
  },
  {
   "cell_type": "markdown",
   "metadata": {
    "id": "professional-palace"
   },
   "source": [
    "> **Exercice**: Si vous choisissez une carte au hasard dans un deck bien mélangé, quelle est la probabilité de piocher une carte qui n'est ni un valet ni un pique?\n",
    "\n",
    "![](https://i.imgur.com/hJtBa4i.png)"
   ]
  },
  {
   "cell_type": "code",
   "execution_count": null,
   "metadata": {
    "id": "hindu-breakdown"
   },
   "outputs": [],
   "source": []
  },
  {
   "cell_type": "code",
   "execution_count": null,
   "metadata": {
    "id": "prospective-orbit"
   },
   "outputs": [],
   "source": []
  },
  {
   "cell_type": "code",
   "execution_count": null,
   "metadata": {
    "id": "bizarre-suspension"
   },
   "outputs": [],
   "source": []
  },
  {
   "cell_type": "markdown",
   "metadata": {
    "id": "spiritual-photographer"
   },
   "source": [
    "> **Exercice**: Si un nombre est choisi au hasard dans la liste «[23, 17, 2, 12, 15, 21, 9, 16]», quelle est la probabilité que le nombre ne soit pas un multiple de 3?"
   ]
  },
  {
   "cell_type": "code",
   "execution_count": null,
   "metadata": {
    "id": "constitutional-organizer"
   },
   "outputs": [],
   "source": []
  },
  {
   "cell_type": "code",
   "execution_count": null,
   "metadata": {
    "id": "handy-montana"
   },
   "outputs": [],
   "source": []
  },
  {
   "cell_type": "markdown",
   "metadata": {
    "id": "judicial-collins"
   },
   "source": [
    "> **Exercice:** Si vous choisissez un emplacement aléatoire à l'intérieur de la frontière des États-Unis, quelle est la probabilité que l'emplacement se trouve en dehors du Texas?\n",
    "\n",
    "<img src=\"https://i.imgur.com/5mpChbk.png\">"
   ]
  },
  {
   "cell_type": "code",
   "execution_count": null,
   "metadata": {
    "id": "about-volume"
   },
   "outputs": [],
   "source": []
  },
  {
   "cell_type": "markdown",
   "metadata": {
    "id": "collected-cookie"
   },
   "source": [
    "> **Exercice:** Si vous choisissez au hasard une personne vivant aux États-Unis, quelle est la probabilité que cette personne ne vive pas au Texas?\n",
    "\n",
    "<img src=\"https://i.imgur.com/5mpChbk.png\">"
   ]
  },
  {
   "cell_type": "code",
   "execution_count": null,
   "metadata": {
    "id": "elementary-london"
   },
   "outputs": [],
   "source": []
  },
  {
   "cell_type": "code",
   "execution_count": null,
   "metadata": {
    "id": "hawaiian-token"
   },
   "outputs": [],
   "source": []
  },
  {
   "cell_type": "code",
   "execution_count": null,
   "metadata": {
    "id": "backed-carter"
   },
   "outputs": [],
   "source": []
  },
  {
   "cell_type": "markdown",
   "metadata": {
    "id": "basic-intelligence"
   },
   "source": [
    "## Somme des probabilités\n",
    "\n",
    "Rappelez-vous la formule de probabilité:\n",
    "\n",
    "> $$ P (\\textrm{condition}) = \\frac {\\textrm {Nombre de résultats satisfaisant la condition}} {\\textrm {Nombre de résultats également probables}} $$\n",
    "\n",
    "L'ensemble de tous les résultats possibles est appelé ensemble d'échantillons et est souvent représenté par «S». Dans toute expérience, la probabilité que le résultat corresponde à l'un des résultats possibles est de 1. (pouvez-vous le vérifier?)\n",
    "\n",
    "$$ P (S) = 1 $$\n",
    "\n",
    "De plus, s'il y a plusieurs conditions / événements mutuellement exclusifs qui, ensemble, couvrent tous les résultats possibles, alors la **somme de leurs probabilités est 1**. Vérifiez cela en résolvant les exercices suivants."
   ]
  },
  {
   "cell_type": "markdown",
   "metadata": {
    "id": "polished-shift"
   },
   "source": [
    "> **Exercises**: If you flip a fair coin, what is the probability of getting a head or a tail?\n",
    "\n",
    "The mutually exclusive conditions/events here are \"head\" and \"tail\". Together they cover all possible outcomes."
   ]
  },
  {
   "cell_type": "code",
   "execution_count": null,
   "metadata": {
    "id": "involved-presentation"
   },
   "outputs": [],
   "source": []
  },
  {
   "cell_type": "markdown",
   "metadata": {
    "id": "superb-luther"
   },
   "source": [
    "> **Exercice**: Si vous lancez un dé juste, quelle est la probabilité d'obtenir un 1, 2, 3, 4, 5 ou 6?\n"
   ]
  },
  {
   "cell_type": "code",
   "execution_count": null,
   "metadata": {
    "id": "split-manufacturer"
   },
   "outputs": [],
   "source": []
  },
  {
   "cell_type": "markdown",
   "metadata": {
    "id": "aware-qualification"
   },
   "source": [
    "> **Exercice**: Si vous lancez un dé juste, quelle est la probabilité d'obtenir un nombre pair ou impair?"
   ]
  },
  {
   "cell_type": "code",
   "execution_count": null,
   "metadata": {
    "id": "thick-proxy"
   },
   "outputs": [],
   "source": []
  },
  {
   "cell_type": "markdown",
   "metadata": {
    "id": "missing-nitrogen"
   },
   "source": [
    "> ** Exercice **: Si vous choisissez une carte au hasard dans un jeu bien mélangé, quelle est la probabilité que la carte appartienne à l'une des quatre suites: Pique, Cœur, Tréfles et Carrés?"
   ]
  },
  {
   "cell_type": "code",
   "execution_count": null,
   "metadata": {
    "id": "medium-ribbon"
   },
   "outputs": [],
   "source": []
  },
  {
   "cell_type": "markdown",
   "metadata": {
    "id": "welsh-copper"
   },
   "source": [
    "> **Exercice**: Un sac contient 3 balles rouges, 5 balles bleues et 2 balles vertes. Quelle est la probabilité de choisir une balle rouge, verte ou bleue?"
   ]
  },
  {
   "cell_type": "code",
   "execution_count": null,
   "metadata": {
    "id": "educated-warner"
   },
   "outputs": [],
   "source": []
  },
  {
   "cell_type": "code",
   "execution_count": null,
   "metadata": {
    "id": "thick-handle"
   },
   "outputs": [],
   "source": []
  },
  {
   "cell_type": "code",
   "execution_count": null,
   "metadata": {
    "id": "characteristic-segment"
   },
   "outputs": [],
   "source": []
  },
  {
   "cell_type": "markdown",
   "metadata": {
    "id": "stunning-spotlight"
   },
   "source": [
    "## Estimation de la probabilité\n",
    "\n",
    "Parfois, on ne sait pas à l'avance si tous les résultats possibles sont équiprobables. Dans un tel cas, nous pouvons * estimer * la probabilité d'une condition en effectuant des expériences répétées. Par exemple. on peut lancer une pièce mille fois pour estimer la probabilité d'avoir une tête.\n",
    "\n",
    "> $$ P (\\textrm {condition}) \\approx \\frac {\\textrm {Nombre d'expériences satisfaisant la condition}} {\\textrm {No. d'expériences réalisées}} $$\n",
    "\n",
    "Plus nous menons d'expériences, plus nous pouvons nous rapprocher de la * vraie * probabilité de chaque résultat.\n",
    "\n",
    "Définissons une fonction `approx_probability` pour effectuer ce calcul."
   ]
  },
  {
   "cell_type": "code",
   "execution_count": null,
   "metadata": {
    "id": "periodic-absorption"
   },
   "outputs": [],
   "source": [
    "def approx_probability(matching_experiments, total_experiments):\n",
    "    \"\"\"Estimate the probability of an event\"\"\"\n",
    "    return matching_experiments / total_experiments"
   ]
  },
  {
   "cell_type": "markdown",
   "metadata": {
    "id": "acceptable-particular"
   },
   "source": [
    "Si nous lançons une pièce 100 fois et qu'elle montre des têtes 48 fois, la probabilité de têtes peut être estimée comme suit:"
   ]
  },
  {
   "cell_type": "markdown",
   "metadata": {
    "id": "ordered-stamp"
   },
   "source": [
    "> **Question**: On vous donne une fonction `flip_coin` définie ci-dessous, qui simule un tirage au sort et renvoie` H` ou `T` pour les résultats\" tête \"ou\" queue \". Trouvez la probabilité d'avoir une tête lorsque nous lançons la pièce."
   ]
  },
  {
   "cell_type": "code",
   "execution_count": null,
   "metadata": {
    "id": "parliamentary-scratch"
   },
   "outputs": [],
   "source": [
    "def flip_coin():\n",
    "    \"\"\"Simulates a coin flip\"\"\"\n",
    "    from random import random\n",
    "    return \"H\" if random() < 0.75 else \"T\""
   ]
  },
  {
   "cell_type": "markdown",
   "metadata": {
    "id": "stuck-smoke"
   },
   "source": [
    "Each time `flip_coin` is invoked, it results in a 'H' or a 'T'."
   ]
  },
  {
   "cell_type": "code",
   "execution_count": null,
   "metadata": {
    "id": "considerable-understanding",
    "outputId": "4c8a8ff9-6006-4667-94ac-e246a6e744e6"
   },
   "outputs": [
    {
     "data": {
      "text/plain": [
       "'T'"
      ]
     },
     "execution_count": 36,
     "metadata": {
      "tags": []
     },
     "output_type": "execute_result"
    }
   ],
   "source": [
    "flip_coin()"
   ]
  },
  {
   "cell_type": "code",
   "execution_count": null,
   "metadata": {
    "id": "charged-prime",
    "outputId": "b13eadd8-becc-46b9-a062-cb4e2f6d5778"
   },
   "outputs": [
    {
     "data": {
      "text/plain": [
       "'H'"
      ]
     },
     "execution_count": 37,
     "metadata": {
      "tags": []
     },
     "output_type": "execute_result"
    }
   ],
   "source": [
    "flip_coin()"
   ]
  },
  {
   "cell_type": "markdown",
   "metadata": {
    "id": "ar2ICNUoCizA"
   },
   "source": [
    "**Exercice** Reecrivez flip_coin de maniére plus propre avec comme paramétre la probabilité p"
   ]
  },
  {
   "cell_type": "code",
   "execution_count": null,
   "metadata": {
    "id": "cutting-philosophy",
    "outputId": "71f04887-d0d3-454a-e0b4-719acbeeee50"
   },
   "outputs": [
    {
     "data": {
      "text/plain": [
       "'T'"
      ]
     },
     "execution_count": 38,
     "metadata": {
      "tags": []
     },
     "output_type": "execute_result"
    }
   ],
   "source": [
    "flip_coin()"
   ]
  },
  {
   "cell_type": "code",
   "execution_count": null,
   "metadata": {
    "id": "WWtd1xZkCd6V"
   },
   "outputs": [],
   "source": []
  },
  {
   "cell_type": "markdown",
   "metadata": {
    "id": "close-excuse"
   },
   "source": [
    "**Exercice:** Ecrire une fonction qui permet de réaliser des experiences aléatoires pour un nombre déterminé  de fois donné. La fonction retourne une liste de résultats"
   ]
  },
  {
   "cell_type": "code",
   "execution_count": null,
   "metadata": {
    "id": "historic-bridge"
   },
   "outputs": [],
   "source": [
    "def perform_experiment(experiment, n):\n",
    "    \"\"\"Performs an experiment n times and returns a list of results\"\"\"\n",
    "    results = []\n",
    "    for _ in range(n):\n",
    "        .......\n",
    "    return results"
   ]
  },
  {
   "cell_type": "markdown",
   "metadata": {
    "id": "secure-track"
   },
   "source": [
    "We can now simulate 10 coin tosses using `flip_coin` and get the results."
   ]
  },
  {
   "cell_type": "code",
   "execution_count": null,
   "metadata": {
    "id": "deluxe-recording",
    "outputId": "eab974c0-668d-4ad9-9350-a9029922c92d"
   },
   "outputs": [
    {
     "data": {
      "text/plain": [
       "['H', 'H', 'T', 'T', 'H', 'H', 'T', 'H', 'H', 'H']"
      ]
     },
     "execution_count": 40,
     "metadata": {
      "tags": []
     },
     "output_type": "execute_result"
    }
   ],
   "source": [
    "num_experiments = 10\n",
    "results = perform_experiment(flip_coin, num_experiments)\n",
    "results"
   ]
  },
  {
   "cell_type": "code",
   "execution_count": null,
   "metadata": {
    "id": "loaded-conjunction"
   },
   "outputs": [],
   "source": []
  },
  {
   "cell_type": "markdown",
   "metadata": {
    "id": "horizontal-techno"
   },
   "source": [
    "Pour estimer la probabilité de \"prendre une tête\", nous devons compter le nombre de résultats qui correspondent à cette condition.\n",
    "\n",
    "> ** Exercice **: Estimer la probabilité \"d'avoir une tête\" en comptant le nombre de têtes dans `results` et en appliquant la fonction` approx_probability`."
   ]
  },
  {
   "cell_type": "code",
   "execution_count": null,
   "metadata": {
    "id": "combined-terrain"
   },
   "outputs": [],
   "source": []
  },
  {
   "cell_type": "markdown",
   "metadata": {
    "id": "liked-choir"
   },
   "source": [
    "Le comptage manuel des résultats correspondants est fastidieux et sujet aux erreurs, définissons donc une fonction pour compter le nombre de résultats qui correspondent à une condition donnée."
   ]
  },
  {
   "cell_type": "code",
   "execution_count": null,
   "metadata": {
    "id": "smoking-national"
   },
   "outputs": [],
   "source": [
    "def count_matching(condition, results):\n",
    "    \"\"\"Counts the number of results matching a given condition\"\"\"\n",
    "    matched = 0\n",
    "    for result in results:\n",
    "        \n",
    "    return matched"
   ]
  },
  {
   "cell_type": "markdown",
   "metadata": {
    "id": "opening-train"
   },
   "source": [
    "**Remarque** La condition d'argument est elle-même une fonction qui accepte un seul résultat comme argument, et renvoie True si le résultat satisfait la condition, et False dans le cas contraire.\n",
    "\n",
    "Voici une condition is_head qui vérifie si un résultat est une tête."
   ]
  },
  {
   "cell_type": "code",
   "execution_count": null,
   "metadata": {
    "id": "oriented-latex"
   },
   "outputs": [],
   "source": [
    "def is_head(result):\n",
    "    \"\"\"Checks if a result is head\"\"\"\n",
    "    return result == 'H'"
   ]
  },
  {
   "cell_type": "code",
   "execution_count": null,
   "metadata": {
    "id": "minute-rally",
    "outputId": "d0ac1b6a-8700-4d92-c143-cab4315c8631"
   },
   "outputs": [
    {
     "data": {
      "text/plain": [
       "True"
      ]
     },
     "execution_count": 43,
     "metadata": {
      "tags": []
     },
     "output_type": "execute_result"
    }
   ],
   "source": [
    "is_head('H')"
   ]
  },
  {
   "cell_type": "code",
   "execution_count": null,
   "metadata": {
    "id": "aggressive-patient",
    "outputId": "c75b4579-f06f-48ed-f541-9103ac886a28"
   },
   "outputs": [
    {
     "data": {
      "text/plain": [
       "False"
      ]
     },
     "execution_count": 44,
     "metadata": {
      "tags": []
     },
     "output_type": "execute_result"
    }
   ],
   "source": [
    "is_head('T')"
   ]
  },
  {
   "cell_type": "markdown",
   "metadata": {
    "id": "needed-seventh"
   },
   "source": [
    "**Exercice:** Nous pouvons utiliser `is_head` et` count_matching` pour compter le nombre de têtes dans `results`."
   ]
  },
  {
   "cell_type": "code",
   "execution_count": null,
   "metadata": {
    "id": "industrial-start",
    "outputId": "a6889447-d6e3-42c1-f574-035b35fc164e"
   },
   "outputs": [
    {
     "data": {
      "text/plain": [
       "7"
      ]
     },
     "execution_count": 45,
     "metadata": {
      "tags": []
     },
     "output_type": "execute_result"
    }
   ],
   "source": []
  },
  {
   "cell_type": "markdown",
   "metadata": {
    "id": "aquatic-texas"
   },
   "source": [
    "**Exercice**  utiliser `approx_probability` pour estimer la probabilité d'avoir une tête en jetant la pièce donnée."
   ]
  },
  {
   "cell_type": "code",
   "execution_count": null,
   "metadata": {
    "id": "accomplished-douglas",
    "outputId": "cf45d994-1f70-4231-ddd4-b30abc8cad9d"
   },
   "outputs": [
    {
     "data": {
      "text/plain": [
       "0.7"
      ]
     },
     "execution_count": 46,
     "metadata": {
      "tags": []
     },
     "output_type": "execute_result"
    }
   ],
   "source": []
  },
  {
   "cell_type": "markdown",
   "metadata": {
    "id": "instructional-listening"
   },
   "source": [
    "On dirait que la probabilité d'obtenir une face en lançant la pièce donnée est d'environ 0,7. Gardez à l'esprit qu'il s'agit d'une estimation de la probabilité non * vraie * de la condition.\n",
    "\n",
    "Pour améliorer notre estimation, il serait utile de répéter l'expérience 100, 1000 ou 10000 fois. Completer la fonction  `estimation_probabilité` qui effectue une expérience un nombre de fois donné et estime la probabilité d'une condition."
   ]
  },
  {
   "cell_type": "code",
   "execution_count": null,
   "metadata": {
    "id": "extended-husband"
   },
   "outputs": [],
   "source": [
    "def estimate_probability(experiment, condition, n):\n",
    "    \"\"\"Performs an experiment `n` times and estimates the probability of a condition\"\"\"\n",
    "    results = .......\n",
    "    matched = ......\n",
    "    return approx_probability(matched, n)"
   ]
  },
  {
   "cell_type": "markdown",
   "metadata": {
    "id": "quiet-senior"
   },
   "source": [
    "We can now improve our probability estimate."
   ]
  },
  {
   "cell_type": "code",
   "execution_count": null,
   "metadata": {
    "id": "other-approval",
    "outputId": "deb9033d-9554-428d-ac05-a223338a702d"
   },
   "outputs": [
    {
     "data": {
      "text/plain": [
       "0.75"
      ]
     },
     "execution_count": 48,
     "metadata": {
      "tags": []
     },
     "output_type": "execute_result"
    }
   ],
   "source": [
    "estimate_probability(flip_coin, is_head, 100)"
   ]
  },
  {
   "cell_type": "code",
   "execution_count": null,
   "metadata": {
    "id": "terminal-yahoo",
    "outputId": "d7737d4a-2309-45b3-dd59-f1d09e1db92f"
   },
   "outputs": [
    {
     "data": {
      "text/plain": [
       "0.744"
      ]
     },
     "execution_count": 24,
     "metadata": {
      "tags": []
     },
     "output_type": "execute_result"
    }
   ],
   "source": [
    "estimate_probability(flip_coin, is_head, 1000)"
   ]
  },
  {
   "cell_type": "code",
   "execution_count": null,
   "metadata": {
    "id": "gorgeous-weather",
    "outputId": "7f43f5a9-bd4d-4161-e8e2-e5607bea85c4"
   },
   "outputs": [
    {
     "data": {
      "text/plain": [
       "0.7499"
      ]
     },
     "execution_count": 25,
     "metadata": {
      "tags": []
     },
     "output_type": "execute_result"
    }
   ],
   "source": [
    "estimate_probability(flip_coin, is_head, 10000)"
   ]
  },
  {
   "cell_type": "code",
   "execution_count": null,
   "metadata": {
    "id": "naughty-volleyball",
    "outputId": "3349fcab-7152-4e24-f9f0-703454528051"
   },
   "outputs": [
    {
     "data": {
      "text/plain": [
       "0.75064"
      ]
     },
     "execution_count": 26,
     "metadata": {
      "tags": []
     },
     "output_type": "execute_result"
    }
   ],
   "source": [
    "estimate_probability(flip_coin, is_head, 100000)"
   ]
  },
  {
   "cell_type": "markdown",
   "metadata": {
    "id": "robust-alert"
   },
   "source": [
    "À mesure que nous augmentons le nombre d'expériences, nous pouvons voir que l'estimation de la probabilité d'obtenir des têtes se rapproche de 0,75, ce qui peut être la * vraie * probabilité d'obtenir une tête. Cette relation peut également être énoncée de la manière suivante:\n",
    "\n",
    "> **Résultat**: La probabilité d'une condition indique la fraction de résultats qui satisfera la condition si l'expérience est répétée un grand nombre de fois.\n",
    "\n",
    "Vous pouvez maintenant répéter l'exercice pour déterminer la probabilité d'avoir une queue.\n",
    "\n",
    "> ** Exercice **: Estimer la probabilité d'obtenir une queue lorsque nous retournons la pièce simulée à l'aide de la fonction `flip_coin` définie précédemment. En comparant les probabilités de «tête» et de «queue», pouvez-vous déterminer si la pièce est juste?\n",
    "\n",
    "* Astuce *: Utilisez la fonction `estimation_probabilité` définie ci-dessus, et définissez une condition` is_tail`."
   ]
  },
  {
   "cell_type": "code",
   "execution_count": null,
   "metadata": {
    "id": "concerned-dryer"
   },
   "outputs": [],
   "source": []
  },
  {
   "cell_type": "code",
   "execution_count": null,
   "metadata": {
    "id": "helpful-fantasy"
   },
   "outputs": [],
   "source": []
  },
  {
   "cell_type": "code",
   "execution_count": null,
   "metadata": {
    "id": "usual-comparison"
   },
   "outputs": [],
   "source": []
  },
  {
   "cell_type": "code",
   "execution_count": null,
   "metadata": {
    "id": "above-fleet"
   },
   "outputs": [],
   "source": []
  },
  {
   "cell_type": "code",
   "execution_count": null,
   "metadata": {
    "id": "tight-explanation"
   },
   "outputs": [],
   "source": []
  },
  {
   "cell_type": "markdown",
   "metadata": {
    "id": "white-nothing"
   },
   "source": [
    "Pour estimer la probabilité de \"prendre une tête\", nous devons compter le nombre de résultats qui correspondent à cette condition.\n",
    "\n",
    "> ** Exercice **: Estimer la probabilité \"d'avoir une tête\" en comptant le nombre de têtes dans `results` et en appliquant la fonction` approx_probability`."
   ]
  },
  {
   "cell_type": "code",
   "execution_count": null,
   "metadata": {
    "id": "miniature-hopkins"
   },
   "outputs": [],
   "source": [
    "def roll_die():\n",
    "    \"\"\"Simulates a die roll\"\"\"\n",
    "    from random import random\n",
    "    x = random()\n",
    "    if x < 0.1: return 1\n",
    "    elif x < 0.3: return 2\n",
    "    elif x < 0.6: return 3\n",
    "    elif x < 0.7: return 4\n",
    "    elif x < 0.9: return 5\n",
    "    else: return 6"
   ]
  },
  {
   "cell_type": "code",
   "execution_count": null,
   "metadata": {
    "id": "painted-telescope"
   },
   "outputs": [],
   "source": []
  },
  {
   "cell_type": "code",
   "execution_count": null,
   "metadata": {
    "id": "homeless-fusion"
   },
   "outputs": [],
   "source": []
  },
  {
   "cell_type": "code",
   "execution_count": null,
   "metadata": {
    "id": "animated-semiconductor"
   },
   "outputs": [],
   "source": []
  },
  {
   "cell_type": "markdown",
   "metadata": {
    "id": "ultimate-answer"
   },
   "source": [
    "> **Exercise**: Given a function `generate` that returns a different number each time it's invoked, estimate the probability that the number returned is divisible by 5.\n",
    "> \n",
    "> Hint: Use the `estimate_probability` function defined above."
   ]
  },
  {
   "cell_type": "code",
   "execution_count": null,
   "metadata": {
    "id": "alike-australian"
   },
   "outputs": [],
   "source": [
    "seed = 3\n",
    "def generate():\n",
    "    global seed\n",
    "    seed = (seed + 9) % 23\n",
    "    return seed"
   ]
  },
  {
   "cell_type": "code",
   "execution_count": null,
   "metadata": {
    "id": "floral-drain"
   },
   "outputs": [],
   "source": []
  },
  {
   "cell_type": "code",
   "execution_count": null,
   "metadata": {
    "id": "julian-attraction"
   },
   "outputs": [],
   "source": []
  },
  {
   "cell_type": "code",
   "execution_count": null,
   "metadata": {
    "id": "significant-absolute"
   },
   "outputs": [],
   "source": []
  },
  {
   "cell_type": "code",
   "execution_count": null,
   "metadata": {
    "id": "serious-manchester"
   },
   "outputs": [],
   "source": []
  },
  {
   "cell_type": "markdown",
   "metadata": {
    "id": "fresh-madison"
   },
   "source": [
    "> **Exercise**: 12 cards have been removed from a full deck of cards. You are not allowed to look at the cards, but you allowed to shuffle the deck, pick a random card, look at it and put it back into the deck. You repeat this process 1000 times and note the suit of the card that was picked. You observe the following:\n",
    "> * Spades ♠️ was picked 300 times\n",
    "> * Clubs ♣️ was picked 250 times\n",
    "> * Hearts ♥️ was picked 250 times\n",
    "> * Diamonds ♦️ was picked 200 times\n",
    ">\n",
    "> Can you use this information to estimate the number of cards belonging to each suit in the partial deck?"
   ]
  },
  {
   "cell_type": "code",
   "execution_count": null,
   "metadata": {
    "id": "confidential-reggae"
   },
   "outputs": [],
   "source": []
  },
  {
   "cell_type": "code",
   "execution_count": null,
   "metadata": {
    "id": "catholic-folder"
   },
   "outputs": [],
   "source": []
  },
  {
   "cell_type": "code",
   "execution_count": null,
   "metadata": {
    "id": "fifteen-bernard"
   },
   "outputs": [],
   "source": []
  },
  {
   "cell_type": "markdown",
   "metadata": {
    "id": "liberal-setup"
   },
   "source": [
    "## Practical Applications of Probability\n",
    "\n",
    "Let's look at some real-world applications of probability.\n",
    "\n",
    "### Counting fish in a pond\n",
    "\n",
    "\n",
    "> **Exercise:** Supposed you cast a net in the middle of a pond and catch 1600 fish. You mark all the fish using a special waterproof ink and release them back into the pond. You return a few days later and cast a net at the same spot. This time you catch 1200 fish and you find that 100 of them are already marked with the special waterproof ink. Can you use this information to estimate the number of fish in the pond?\n",
    "\n",
    "*Hint*: Estimate the probability of find a marked fish in the second catch and compare it with the true probability of catching a marked fish.\n"
   ]
  },
  {
   "cell_type": "code",
   "execution_count": null,
   "metadata": {
    "id": "reasonable-express"
   },
   "outputs": [],
   "source": []
  },
  {
   "cell_type": "code",
   "execution_count": null,
   "metadata": {
    "id": "infinite-longitude"
   },
   "outputs": [],
   "source": []
  },
  {
   "cell_type": "markdown",
   "metadata": {
    "id": "nasty-announcement"
   },
   "source": [
    "At a later point, we will also learn about statistical significance, to determine how reliable the estimate is.\n",
    "\n",
    "### Counting leaves in a Tree\n",
    "\n",
    "> **Exercise**: Come up with a strategy to estimate the number of leaves in a tree. \n",
    "> \n",
    "> *Hint*: See the previous exercise."
   ]
  },
  {
   "cell_type": "code",
   "execution_count": null,
   "metadata": {
    "id": "strategic-extension"
   },
   "outputs": [],
   "source": []
  },
  {
   "cell_type": "code",
   "execution_count": null,
   "metadata": {
    "id": "bacterial-suspect"
   },
   "outputs": [],
   "source": []
  },
  {
   "cell_type": "markdown",
   "metadata": {
    "id": "based-monthly"
   },
   "source": [
    "### Ad Campaign Analysis\n",
    "\n",
    "> **Exercise**: You're running an social network advertising campaign to promote your upcoming course \"Machine Learning with Python: Zero to GBMs\". The course is priced at $\\$400$. The platform charges you $\\$.08$ for every impression of you ad i.e. to display your ad once in a person's feed. \n",
    ">\n",
    "> - The probability that someone clicks on your ad to visit the course page is 0.01\n",
    "> - The probability that someone who visits the course page will sign up for a trial of the course is 0.15\n",
    "> - The probability that someone who signs up for a trail will pay for the course is 0.1\n",
    "> \n",
    "> Given the above information, should you move forward with this ad campaign?"
   ]
  },
  {
   "cell_type": "code",
   "execution_count": null,
   "metadata": {
    "id": "frank-exploration"
   },
   "outputs": [],
   "source": []
  },
  {
   "cell_type": "code",
   "execution_count": null,
   "metadata": {
    "id": "latest-heaven"
   },
   "outputs": [],
   "source": []
  },
  {
   "cell_type": "markdown",
   "metadata": {
    "id": "mexican-society"
   },
   "source": [
    "> **Exercise**: For the above problem, answer the following:\n",
    "> \n",
    "> - How can you determine the probability whether someone clicking on your ad?\n",
    "> - How can you determine the probability whether someone who visits the course page will sign up for a trial?\n",
    "> - How can you determine the probability whether someone who signed up for trial will pay for the course?\n",
    "> \n",
    "> Suggest some strategies for increase each of the above probabilities."
   ]
  },
  {
   "cell_type": "code",
   "execution_count": null,
   "metadata": {
    "id": "about-filename"
   },
   "outputs": [],
   "source": []
  },
  {
   "cell_type": "code",
   "execution_count": null,
   "metadata": {
    "id": "successful-christopher"
   },
   "outputs": [],
   "source": []
  },
  {
   "cell_type": "markdown",
   "metadata": {
    "id": "massive-reviewer"
   },
   "source": [
    "## Independent Events and Compound Probability\n",
    "\n",
    "When we conduct multiple experiments independently (i.e. the result of one of the experiments does not affect the result of the other), we can compute the probability of a combination of results.\n",
    "\n",
    "> **Question:** If you flip a fair coin 2 times, what is the probability of getting a head followed by a tail?\n",
    "\n",
    "We know the the probability of getting a head for the first toss is $1/2$. And the probability of getting a tail for the second toss is also $1/2$, since both tosses are performed independently.\n",
    "\n",
    "<img src=\"https://i.imgur.com/pg1aXVK.png\">\n",
    "\n",
    "There are $2 \\times 2 = 4$ possible outcomes of the combined experiment: $HH$, $HT$, $TH$ and $TT$, and only one of them ($HT$) matches the given condition. Thus the probability of the condition is $1/2$."
   ]
  },
  {
   "cell_type": "code",
   "execution_count": null,
   "metadata": {
    "id": "spiritual-minute"
   },
   "outputs": [],
   "source": [
    "probability(1, 4)"
   ]
  },
  {
   "cell_type": "markdown",
   "metadata": {
    "id": "dominican-omaha"
   },
   "source": [
    "Let's try this with another example and try to derive a general rule.\n",
    "\n",
    "> **Question**: If you flip a fair coin and roll a fair die, what is the probability of getting a head on the coin and an number greater than two on the die?\n",
    "\n",
    "Let $A$ denote the event \"getting a head for the coin toss\" and let $B$ denote the event \"getting a number greater than two for the die roll\". It's easy to see that \n",
    "\n",
    "$$P(A) = 1/2$$ \n",
    "$$P(B) = 4/6$$\n",
    "\n",
    "Based on the notation we defined earlier, $A \\cap B$ represents the event $A \\textrm{ and } B$ i.e. \"getting a head and a number greater than two\". We wish to find $P(A \\cup B)$.\n",
    "\n",
    "When we toss a coin and roll a die, each outcome is a pair consisting of the result of the coin toss and the result of a the die roll. The total number of outcomes is $2 * 6 = 12$ All the possible outcomes are shown below:\n",
    "\n",
    "![](https://i.imgur.com/X1YAqKH.png)\n",
    "\n",
    "\n",
    "Only 1 out of the 2 outcomes of the coin toss matches condition $A$, and only 4 out of the 6 outcomes of the die roll matches condition $B$. Thus, the number of pairs that match both conditions i.e. $A \\cap B$ is $1 \\times 4 = 4$. We can now calculate $P(A \\cap B)$ as follows:\n",
    "\n",
    "$$P(A \\cap B) = \\frac{1 \\times 4}{ 2 \\times 6}$$\n",
    "\n",
    "The above equation can be rewritten as follows:\n",
    "\n",
    "$$P(A \\cap B) = \\frac{1}{2} \\times \\frac{4}{6}$$\n",
    "\n",
    "$$P(A \\cap B) = P(A)P(B)$$\n",
    "\n",
    "Thus, when two or more events are independent, the probability of all of the occurring together is equal to the product of their probabilities.\n",
    "\n",
    "We can now compute the probability of the given condition as follows."
   ]
  },
  {
   "cell_type": "code",
   "execution_count": null,
   "metadata": {
    "id": "previous-diploma"
   },
   "outputs": [],
   "source": [
    "result = probability(1,2) * probability(4, 6)\n",
    "result"
   ]
  },
  {
   "cell_type": "markdown",
   "metadata": {
    "id": "united-novelty"
   },
   "source": [
    "> **Exercise:** If you flip a fair coin 3 times, what is the probability of getting at least two heads?\n"
   ]
  },
  {
   "cell_type": "code",
   "execution_count": null,
   "metadata": {
    "id": "developmental-primary"
   },
   "outputs": [],
   "source": []
  },
  {
   "cell_type": "markdown",
   "metadata": {
    "id": "suffering-appearance"
   },
   "source": [
    "> **Exercise**: If you roll two fair dice, what is the probability of getting a total of 7?"
   ]
  },
  {
   "cell_type": "code",
   "execution_count": null,
   "metadata": {
    "id": "rational-replacement"
   },
   "outputs": [],
   "source": []
  },
  {
   "cell_type": "code",
   "execution_count": null,
   "metadata": {
    "id": "supreme-virtue"
   },
   "outputs": [],
   "source": []
  },
  {
   "cell_type": "markdown",
   "metadata": {
    "id": "metallic-script"
   },
   "source": [
    "> **Exercise:** If you flip a fair coin 10 times, what is the probability of getting exactly four heads?"
   ]
  },
  {
   "cell_type": "code",
   "execution_count": null,
   "metadata": {
    "id": "level-distributor"
   },
   "outputs": [],
   "source": []
  },
  {
   "cell_type": "code",
   "execution_count": null,
   "metadata": {
    "id": "personalized-daisy"
   },
   "outputs": [],
   "source": []
  },
  {
   "cell_type": "markdown",
   "metadata": {
    "id": "integral-pencil"
   },
   "source": [
    "> **Exercise**: What is the difference between independent events and mutually exclusive events? Illustrate with an example."
   ]
  },
  {
   "cell_type": "code",
   "execution_count": null,
   "metadata": {
    "id": "statistical-purple"
   },
   "outputs": [],
   "source": []
  },
  {
   "cell_type": "code",
   "execution_count": null,
   "metadata": {
    "id": "native-property"
   },
   "outputs": [],
   "source": []
  },
  {
   "cell_type": "markdown",
   "metadata": {
    "id": "entertaining-tactics"
   },
   "source": [
    "> **Exercise**: If you pick one card each from five different well shuffled decks of cards, what is the probability that you will end up with a flush (all cards belonging to the same suit)?"
   ]
  },
  {
   "cell_type": "code",
   "execution_count": null,
   "metadata": {
    "id": "damaged-evidence"
   },
   "outputs": [],
   "source": []
  },
  {
   "cell_type": "code",
   "execution_count": null,
   "metadata": {
    "id": "forced-southwest"
   },
   "outputs": [],
   "source": []
  },
  {
   "cell_type": "markdown",
   "metadata": {
    "id": "crazy-julian"
   },
   "source": [
    "> **Exercise**: If you pick five cards from a well shuffled deck of cards one by one, what is the probability that you will end up with a flush (all cards belonging to the same suit)?"
   ]
  },
  {
   "cell_type": "code",
   "execution_count": null,
   "metadata": {
    "id": "surgical-trash"
   },
   "outputs": [],
   "source": []
  },
  {
   "cell_type": "code",
   "execution_count": null,
   "metadata": {
    "id": "mexican-karma"
   },
   "outputs": [],
   "source": []
  },
  {
   "cell_type": "markdown",
   "metadata": {
    "id": "speaking-dominican"
   },
   "source": [
    "## Dependent events and conditional probability\n",
    "\n",
    "In the previous question, the outcome of drawing a second card from a deck is dependent on the outcome of the drawing the first card. In such a case, it's not possible to apply the multiplication rule for independent events. Let's look at some examples of dependent events.\n",
    "\n",
    "\n",
    "> **Question**: A bag contains three green marbles and two red marbles. You draw two marbles from the bag, one by one. If we know that the first marble drawn was green in color, what is the probability that the second marble drawn is red?\n",
    "\n",
    "![](https://i.imgur.com/6AlkxFD.png)\n",
    "\n",
    "\n",
    "Let $A$ denote the condition \"drawing a green marble in the first draw\" and let $B$ denote the condition \"drawing a red marble in the second draw\". \n",
    "\n",
    "\n",
    "We use the notation $P(B | A)$ to denote the probability of the condition $B$ *given* that the condition $A$ holds true i.e. \"probability that the second marble drawn is red if we know that the first marble is green\".\n",
    "\n",
    "\n",
    "![](https://i.imgur.com/zX8qqws.png)\n",
    "\n",
    "If the first marble picked is green, that leaves two green marbles and two red marbles in the bag. We can use this information to compute the probability of the given condition. Any of the four marbles is equally likely to be drawn, and two of them satisfy the condition. Thus $P(B | A) = 2/4 = 0.5$\n",
    "\n",
    "\n"
   ]
  },
  {
   "cell_type": "code",
   "execution_count": null,
   "metadata": {
    "id": "southern-liverpool"
   },
   "outputs": [],
   "source": [
    "probability(2,4)"
   ]
  },
  {
   "cell_type": "markdown",
   "metadata": {
    "id": "differential-miami"
   },
   "source": [
    "> **Question**: A bag contains three green marbles and two red marbles. You draw two marbles from the bag, one by one. What is the probability that the first marble drawn is green and the second marble drawn is red?\n",
    "\n",
    "![](https://i.imgur.com/6AlkxFD.png)\n",
    "\n",
    "Once again, let $A$ denote the condition \"drawing a green marble in the first draw\" and let $B$ denote the condition \"drawing a red marble in the second draw\". This time, we're interested in the probability of $A \\cap B$ i.e. $A \\textrm{ and } B$.\n",
    "\n",
    "When we draw the first marble, it is green with the probability $P(A)$. Once the first marble has been drawn, the second marble drawn is red with the probability $P(B|A)$. Thus, it follows that:\n",
    "\n",
    "$$P(A \\cap B) = P(A) P (B | A)$$\n",
    "\n",
    "This rule is called the **multiplication rule of probability**. We can now compute the required probability as follows:\n"
   ]
  },
  {
   "cell_type": "code",
   "execution_count": null,
   "metadata": {
    "id": "derived-liquid"
   },
   "outputs": [],
   "source": [
    "probability(3,5) * probability(2, 4)"
   ]
  },
  {
   "cell_type": "markdown",
   "metadata": {
    "id": "liable-observation"
   },
   "source": [
    "Thus, for dependent events, we can use the multiplication rule to compute the probability of both events occurring. \n",
    "\n",
    "Independent events are a special case of the multiplication rule. $P(B|A) = P(B)$ for independent events $A$ and $B$. For example, the probability that we \"get a six on a dice roll\" given we \"get a head on coin toss\" is simply the probability of \"getting a six on a dice roll\". Hence, for independent events, \n",
    "\n",
    "$$P(A \\cap B) = P(A) P (B | A) = P(A) P(B)$$"
   ]
  },
  {
   "cell_type": "code",
   "execution_count": null,
   "metadata": {
    "id": "viral-passage"
   },
   "outputs": [],
   "source": []
  },
  {
   "cell_type": "code",
   "execution_count": null,
   "metadata": {
    "id": "accredited-sessions"
   },
   "outputs": [],
   "source": []
  },
  {
   "cell_type": "code",
   "execution_count": null,
   "metadata": {
    "id": "gentle-czech"
   },
   "outputs": [],
   "source": []
  },
  {
   "cell_type": "markdown",
   "metadata": {
    "id": "simplified-marketing"
   },
   "source": [
    "> **Question**: A bag contains three green marbles and two red marbles. You draw two marbles from the bag, one by one. What is the probability that the second marble drawn is red.\n",
    "\n",
    "\n",
    "![](https://i.imgur.com/6AlkxFD.png)\n",
    "\n",
    "This time we don't know the color of the first marble drawn. However, there are exactly two mutually exclusive possibilities:\n",
    "\n",
    "1. The first marble drawn in green and the second marble drawn is red.\n",
    "2. The first marble drawn in red and the second marble drawn is red.\n",
    "\n",
    "Let $A$ denote \"drawing a green marble in the first draw\" and let $B$ denote \"drawing a red marble in the second draw\". It follows that:\n",
    "\n",
    "$$P(B) = P(A \\cap B) + P(A^C \\cap B)$$\n",
    "\n",
    "Using the multiplication rule,\n",
    "\n",
    "$$P(B) = P(A)P(B|A) + P(A^C)P(B|A^C)$$\n",
    "\n",
    "\n",
    "> **Exercise**: Substitute the right values into the above expression to compute the desired probability."
   ]
  },
  {
   "cell_type": "code",
   "execution_count": null,
   "metadata": {
    "id": "complimentary-public"
   },
   "outputs": [],
   "source": []
  },
  {
   "cell_type": "code",
   "execution_count": null,
   "metadata": {
    "id": "equal-creature"
   },
   "outputs": [],
   "source": []
  },
  {
   "cell_type": "code",
   "execution_count": null,
   "metadata": {
    "id": "occupied-annotation"
   },
   "outputs": [],
   "source": []
  },
  {
   "cell_type": "code",
   "execution_count": null,
   "metadata": {
    "id": "minute-heading"
   },
   "outputs": [],
   "source": []
  },
  {
   "cell_type": "markdown",
   "metadata": {
    "id": "electric-mainland"
   },
   "source": [
    "## Bayes Theorem\n",
    "\n",
    "The multiplication rule can be written in two ways:\n",
    "\n",
    "$$P(A \\cap B) = P(A) P (B | A)$$\n",
    "$$P(A \\cap B) = P(B \\cap A) = P(B) P (A | B)$$\n",
    "\n",
    "Thus, it follows that:\n",
    "\n",
    "$$P(B) P (A | B) = P(A) P (B | A)$$\n",
    "\n",
    "The above equation can be rewritten as:\n",
    "\n",
    "$$P (A | B) = \\frac{P(A) P (B | A)}{P(B)}$$\n",
    "\n",
    "This relation is known as the **Bayes theorem**, and it is used to compute probability of $A|B$ using the probability of $B|A$. Bayes theorem has many practical applications. Watch this tutorial for a visual introduction to Bayes theorem: https://youtu.be/HZGCoVF3YvM"
   ]
  },
  {
   "cell_type": "markdown",
   "metadata": {
    "id": "found-teddy"
   },
   "source": [
    "> **Question**: A bag contains three green marbles and two red marbles. You draw two marbles from the bag, one by one. If it is known that the second marble drawn is red, what is the probability that the first marble drawn was green?\n",
    "\n",
    "![](https://i.imgur.com/6AlkxFD.png)\n",
    "\n",
    "Let $A$ denote \"drawing a green marble in the first draw\" and let $B$ denote \"drawing a red marble in the second draw\". We need to compute $P(A|B)$. \n",
    "\n",
    "From the previous problems, we already know the value of $P(A)$, $P(B|A)$ and $P(B)$.\n",
    "\n",
    "\n",
    "Thus, we can now apply Bayes theorem to get:\n",
    "\n",
    "$$P (A | B) = \\frac{P(A) P (B | A)}{P(B)}$$\n",
    "\n",
    "> **Exercise**: Substitute the right values into the above formula to compute the desired probability.\n"
   ]
  },
  {
   "cell_type": "code",
   "execution_count": null,
   "metadata": {
    "id": "nuclear-schema"
   },
   "outputs": [],
   "source": []
  },
  {
   "cell_type": "code",
   "execution_count": null,
   "metadata": {
    "id": "alien-architect"
   },
   "outputs": [],
   "source": []
  },
  {
   "cell_type": "code",
   "execution_count": null,
   "metadata": {
    "id": "banner-chile"
   },
   "outputs": [],
   "source": []
  },
  {
   "cell_type": "markdown",
   "metadata": {
    "id": "understood-arctic"
   },
   "source": [
    "\n",
    "\n",
    "> **Exercise**: Medical records in a clinic indicate that 10% of patients entering the clinic have liver disease and five percent of the clinic's patients are alcoholics. Medical research suggests among patients diagnosed with liver disease, 7% are alcoholics. What is a patient's probability of having liver disease if they are an alcoholic?\n",
    "\n",
    "*Hint*: Let $A$ represent the event \"a person has liver disease\" and $B$ represent the event \"a person is an alcoholic\". Apply Bayes theorem to compute $P(A|B)$\n"
   ]
  },
  {
   "cell_type": "code",
   "execution_count": null,
   "metadata": {
    "id": "stunning-passion"
   },
   "outputs": [],
   "source": []
  },
  {
   "cell_type": "code",
   "execution_count": null,
   "metadata": {
    "id": "stretch-marriage"
   },
   "outputs": [],
   "source": []
  },
  {
   "cell_type": "code",
   "execution_count": null,
   "metadata": {
    "id": "sunset-score"
   },
   "outputs": [],
   "source": []
  },
  {
   "cell_type": "code",
   "execution_count": null,
   "metadata": {
    "id": "sacred-chassis"
   },
   "outputs": [],
   "source": []
  },
  {
   "cell_type": "markdown",
   "metadata": {
    "id": "geological-agenda"
   },
   "source": [
    "> **Exercise**: Given the following statistics, what is the probability that a woman has breast cancer if she has a positive mammogram result?\n",
    ">\n",
    "> - One percent of women over 50 have breast cancer.\n",
    "> - Ninety percent of women who have breast cancer test positive on mammograms.\n",
    "> - Eight percent of women will have false positives.\n",
    "\n",
    "*Hint*: Let $A$ represent the event \"a woman has breast cancer\" and let $B$ represent the event \"a woman as a positive mammogram result\". Apply Bayes theorem to compute $P(A|B)$."
   ]
  },
  {
   "cell_type": "code",
   "execution_count": null,
   "metadata": {
    "id": "artistic-community"
   },
   "outputs": [],
   "source": []
  },
  {
   "cell_type": "code",
   "execution_count": null,
   "metadata": {
    "id": "honest-consistency"
   },
   "outputs": [],
   "source": []
  },
  {
   "cell_type": "code",
   "execution_count": null,
   "metadata": {
    "id": "boolean-shield"
   },
   "outputs": [],
   "source": []
  },
  {
   "cell_type": "code",
   "execution_count": null,
   "metadata": {
    "id": "metallic-migration"
   },
   "outputs": [],
   "source": []
  },
  {
   "cell_type": "markdown",
   "metadata": {
    "id": "dynamic-notification"
   },
   "source": [
    "\n",
    "## Summary\n",
    "\n",
    "Here's a summary of the concepts and results we've covered in this tutorial:\n",
    "\n",
    "\n",
    "1. **Probability**: The probability of a condition/event is a number between 0 and 1. It indicates how likely the event is to occur or how likely it is that a condition holds true.\n",
    "\n",
    "2. **Equally likely outcomes**: When we have several equally likely outcomes, the probability of a condition is defined as\n",
    "\n",
    "$$P(\\textrm{condition}) = \\frac{\\textrm{ No. of outcomes satisfying the condition }} {\\textrm{Number of equally likely outcomes}}$$\n",
    "\n",
    "\n",
    "3. **Estimating probability**: We can estimate the probability of a condition by repeating an experiment several times\n",
    "\n",
    "$$P(\\textrm{condition}) \\approx \\frac{\\textrm{ No. of experiments satisfying the condition }} {\\textrm{No. of experiments conducted}}$$\n",
    "\n",
    "\n",
    "4. **Addition rule**: Given two conditions/events $A$ and $B$, we can compute the probability of either of A or B occurring as follows: \n",
    "\n",
    "\n",
    "$$P(A \\textrm{ or } B) = P(A) + P(B) - P(A \\textrm { and } B)$$\n",
    "\n",
    "$$P(A \\cup B) = P(A) + P(B) - P(A \\cap B)$$\n",
    "\n",
    "\n",
    "5. **Mutually exclusive events**: Two conditions/events $A$ and $B$ are said to be mutually exclusive if they cannot occur together i.e. $P(A \\textrm{ and } B) = 0$. E.g. Getting a 6 and getting a 4 on a die roll are mutually exclusive events. In such a case:\n",
    "   \n",
    "\n",
    "$$P(A \\cup B) = P(A) + P(B)$$\n",
    "\n",
    "6. **Complement of an event** Given an event $A$, the condition $A^C$ represents the condition that $A$ does not occur. It is called the complement of $A$, and its probability is given by the relation:\n",
    "\n",
    "$$P(\\textrm { not } A) = 1 - P(A)$$\n",
    "\n",
    "$$P(A^C) = 1 - P(A)$$\n",
    "\n",
    "7. **Sum of Probabilities**: The sum of probabilities of all the possible mutually exclusive outcomes is 1. The set of all possible outcomes is called the *sample space* and is denoted by $S$.\n",
    "\n",
    "$$P(S) = 1$$\n",
    "\n",
    "\n",
    "8. **Independent Events**: Two events $A$ and $B$ are said to be independent if outcome of one does not affect the outcome of the other. For independent events, \n",
    "\n",
    "\n",
    "$$P(A \\cap B) = P(A)P(B)$$\n",
    "\n",
    "\n",
    "$$P(A \\cup B) = P(A) + P(B) - P(A)P(B)$$\n",
    "\n",
    "9. **Multiplication Rule**: Given two events $A$ and $B$, the probability of both $A$ and $B$ occurring can be computed as follows:\n",
    "\n",
    "\n",
    "$$P(A \\cap B) = P(A)P(B | A)$$\n",
    "\n",
    "$$P(A \\cap B) = P(B)P(A | B)$$\n",
    "\n",
    "10. **Probability of dependent events**: Given two events $A$ and $B$, if the outcome of $B$ is dependent on the outcome of $A$, $P(B)$ can be computed as: \n",
    "\n",
    "$$P(B) = P(A \\cap B) + P(A^C \\cap B)$$\n",
    "\n",
    "$$P(B) = P(A)P(B|A) + P(A^C)P(B|A^C)$$\n",
    "\n",
    "\n",
    "11. **Bayes Theorem**: Given two events $A$ and $B$, we can compute $P(A|B)$ using $P(B|A)$ as follows:\n",
    "\n",
    "$$P(A|B) = \\frac{P(A)P(B|A)}{P(B)}$$\n",
    "\n",
    "Some resources for learning and practice:\n",
    "\n",
    "- [Probability tutorials on Khan Academy](https://www.khanacademy.org/math/statistics-probability/probability-library)\n",
    "- [Problems on Probability](https://www.testprepreview.com/modules/probabilty.htm)\n",
    "- [Probability Interview Questions](https://github.com/kojino/120-Data-Science-Interview-Questions/blob/master/probability.md)\n",
    "- [A visual introduction to probability](https://luminousmen.com/post/data-science-probability)\n",
    "- [A visual explanation of Bayes Theorem](https://www.youtube.com/watch?v=HZGCoVF3YvM)\n"
   ]
  }
 ],
 "metadata": {
  "colab": {
   "name": "introduction_to_probability.ipynb",
   "provenance": []
  },
  "kernelspec": {
   "display_name": "Python 3",
   "language": "python",
   "name": "python3"
  },
  "language_info": {
   "codemirror_mode": {
    "name": "ipython",
    "version": 3
   },
   "file_extension": ".py",
   "mimetype": "text/x-python",
   "name": "python",
   "nbconvert_exporter": "python",
   "pygments_lexer": "ipython3",
   "version": "3.7.0"
  }
 },
 "nbformat": 4,
 "nbformat_minor": 5
}

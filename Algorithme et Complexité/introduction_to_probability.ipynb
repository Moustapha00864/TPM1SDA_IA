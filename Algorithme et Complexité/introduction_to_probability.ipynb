{
  "nbformat": 4,
  "nbformat_minor": 5,
  "metadata": {
    "colab": {
      "name": "introduction_to_probability.ipynb",
      "provenance": []
    },
    "kernelspec": {
      "display_name": "Python 3",
      "language": "python",
      "name": "python3"
    },
    "language_info": {
      "codemirror_mode": {
        "name": "ipython",
        "version": 3
      },
      "file_extension": ".py",
      "mimetype": "text/x-python",
      "name": "python",
      "nbconvert_exporter": "python",
      "pygments_lexer": "ipython3",
      "version": "3.7.0"
    }
  },
  "cells": [
    {
      "cell_type": "markdown",
      "metadata": {
        "id": "relevant-local"
      },
      "source": [
        "# Introduction aux Probabilites \n",
        "\n",
        "\n",
        "\n",
        "![](https://i.imgur.com/OdvIK56.png)\n",
        "\n",
        "\n",
        "La probabilité est un moyen de mesurer et de décrire les chances qu'un événement se produise ou  qu'une certaine condition soit vraie. C'est un outil mathématique utile pour gérer l'incertitude et le caractère aléatoire. Dans ce didacticiel, nous aborderons certains concepts, techniques et résultats fondamentaux en matière de probabilité et apprendrons à calculer / estimer la probabilité d'un événement."
      ],
      "id": "relevant-local"
    },
    {
      "cell_type": "markdown",
      "metadata": {
        "id": "mexican-bunch"
      },
      "source": [
        "\n",
        "\n",
        "Ce didacticiel couvre les sujets suivants:\n",
        "\n",
        "* Introduction au hasard et à l'incertitude\n",
        "* Probabilité d'un événement en cas d'equiprobabilité\n",
        "* Estimation de la probabilité en menant des expériences\n",
        "* Problèmes courants: tirage au sort, jet de dés, cartes à jouer, etc.\n",
        "* Applications pratiques de la probabilité\n",
        "* Règle d'addition de probabilité et d'événements mutuellement exclusifs\n",
        "* Probabilité de complément et somme des probabilités\n",
        "* Séquence d'événements indépendants et combinaisons de comptage\n",
        "* Les événements dépendants et la règle de multiplication des probabilités\n",
        "* Théorème de Bayes et probabilité postérieure"
      ],
      "id": "mexican-bunch"
    },
    {
      "cell_type": "markdown",
      "metadata": {
        "id": "continent-paragraph"
      },
      "source": [
        "\n",
        "\n",
        "\n",
        "### Comment exécuter le code\n",
        "\n",
        "La meilleure façon d'apprendre est d'exécuter le code et de l'expérimenter vous-même. Ce tutoriel est un exécutable [Jupyter notebook] (https://jupyter.org). Vous pouvez exécuter ce didacticiel et expérimenter les exemples de code de plusieurs manières: * en utilisant des ressources en ligne gratuites * (recommandé) ou * sur votre ordinateur *.\n",
        "\n",
        "#### Option 1: exécution à l'aide de ressources en ligne gratuites (1 clic, recommandé)\n",
        "\n",
        "Le moyen le plus simple de commencer à exécuter le code est de cliquer sur le bouton ** Exécuter ** en haut de cette page et de sélectionner ** Exécuter sur le classeur **. Vous pouvez également sélectionner \"Exécuter sur Colab\" ou \"Exécuter sur Kaggle\", mais vous devrez créer un compte sur [Google Colab] (https://colab.research.google.com) ou [Kaggle] (https: //kaggle.com) pour utiliser ces plates-formes.\n",
        "\n",
        "\n",
        "#### Option 2: exécution sur votre ordinateur localement\n",
        "\n",
        "Pour exécuter le code sur votre ordinateur localement, vous devrez configurer [Python] (https://www.python.org), télécharger le notebook et installer les bibliothèques requises. Nous vous recommandons d'utiliser la distribution [Conda] (https://docs.conda.io/projects/conda/en/latest/user-guide/install/) de Python. Cliquez sur le bouton ** Exécuter ** en haut de cette page, sélectionnez l'option ** Exécuter localement ** et suivez les instructions."
      ],
      "id": "continent-paragraph"
    },
    {
      "cell_type": "markdown",
      "metadata": {
        "id": "further-interstate"
      },
      "source": [
        "## Lancer une pièce équitable\n",
        "\n",
        "On dit souvent que les pièces de monnaie ont deux faces: une «tête» et une «queue».\n",
        "\n",
        "<img src=\"https://i.imgur.com/Y80gpdr.png\" width=\"360\">\n",
        "\n",
        "Une pièce *juste* est une pièce qui est également susceptible d'atterrir de chaque côté lorsqu'elle est *lancée* ou *retournée*. Le côté qui apparaît sur le dessus une fois que la pièce a atterri est désigné comme le résultat d'un tirage au sort / retournement de pièces.\n",
        "\n",
        "![](https://media.tenor.com/images/16d4f2d1ab5dfad7224d6b93171926f9/tenor.gif)"
      ],
      "id": "further-interstate"
    },
    {
      "cell_type": "markdown",
      "metadata": {
        "id": "ecological-saturn"
      },
      "source": [
        "\n",
        "\n",
        "Il peut être possible de déterminer le résultat d'un tirage au sort si nous avons des mesures exactes de l'environnement physique et des forces appliquées pour lancer la pièce. Cependant, nous n'avons généralement pas ces informations à portée de main et il est très difficile (voire impossible) d'effectuer toutes ces mesures avec une précision suffisante.\n",
        "\n",
        "\n",
        "L'hypothèse du caractère aléatoire offre une façon de travailler avec des informations limitées et l'incertitude des résultats. Nous disons que lancer une pièce est une *expérience* qui peut conduire à l'un des deux résultats au hasard. La probabilité est la mesure des chances de chaque résultat de survenir.\n",
        "\n",
        "Voici quelques exemples d'aléatoire et d'incertitude:\n",
        "\n",
        "- Météo (température, précipitations, humidité, etc.)\n",
        "- Gagner une loterie d'un million de dollars\n",
        "- Le futur cours de l'action des ordinateurs Apple \n",
        "- Votre ami / frère devine votre mot de passe de messagerie\n",
        "- Un candidat politique remportant une élection\n",
        "- Le PIB d'un pays dans vingt ans\n",
        "\n",
        "N'oubliez pas que nous considérons nombre de ces événements comme étant *aléatoires* non pas parce qu'ils ne sont pas déterministes, mais parce que nous n'avons pas suffisamment d'informations pour déterminer avec précision leur valeur."
      ],
      "id": "ecological-saturn"
    },
    {
      "cell_type": "markdown",
      "metadata": {
        "id": "valid-reform"
      },
      "source": [
        "\n",
        "\n",
        "## Résultats tout aussi probables\n",
        "\n",
        "> **Question**: Si vous lancez une pièce juste, quelle est la **probabilité** de **avoir des têtes**?\n",
        "\n",
        "Lorsque nous avons plusieurs résultats possibles equiprobables, la probabilité d'une condition (également appelée événement) est définie comme:\n",
        "\n",
        "> $$ P (\\textrm {condition}) = \\frac {\\textrm {Nombre de résultats satisfaisant la condition}} {\\textrm {Nombre de résultats également probables}} $$\n",
        "\n",
        "**La probabilité d'une condition / d'un événement est un nombre compris entre 0 et 1.**\n",
        "\n",
        "\n",
        "Nous pouvons définir une fonction «probabilité» pour effectuer ce calcul."
      ],
      "id": "valid-reform"
    },
    {
      "cell_type": "code",
      "metadata": {
        "id": "subject-wallet"
      },
      "source": [
        "def probability(res_satisfaisant_condition, total_resultats):\n",
        "    \"\"\"\n",
        "    Objectif: calcul de la probabilité d'une condition\n",
        "    Méthode: division\n",
        "    Besoins: nombre de résultat satisfaisant la condition, nbre de rslt probabl\n",
        "    Entrées: -\n",
        "    Connues: -\n",
        "    Sorties: probabilité d'une condition\n",
        "    Résultat: -\n",
        "    Hypothèses: nombre de résultat probable compris entre 0 et 1\n",
        "    \"\"\"\n",
        "    return res_satisfaisant_condition/total_resultats"
      ],
      "id": "subject-wallet",
      "execution_count": 171,
      "outputs": []
    },
    {
      "cell_type": "markdown",
      "metadata": {
        "id": "rental-november"
      },
      "source": [
        "Lorsque nous lançons une bonne pièce de monnaie, il n'y a que deux résultats possibles, tous deux également probables: «tête» et «queue». L'un des résultats correspond à la condition «avoir la tête».\n",
        "\n",
        "Avec ces informations, nous pouvons maintenant utiliser la formule pour calculer la probabilité d'avoir une tête."
      ],
      "id": "rental-november"
    },
    {
      "cell_type": "code",
      "metadata": {
        "id": "proper-albert",
        "colab": {
          "base_uri": "https://localhost:8080/"
        },
        "outputId": "f011b9f1-0ced-4228-fd0c-a394a926e0f5"
      },
      "source": [
        "p_head = probability(1, 2)\n",
        "p_head"
      ],
      "id": "proper-albert",
      "execution_count": 172,
      "outputs": [
        {
          "output_type": "execute_result",
          "data": {
            "text/plain": [
              "0.5"
            ]
          },
          "metadata": {
            "tags": []
          },
          "execution_count": 172
        }
      ]
    },
    {
      "cell_type": "markdown",
      "metadata": {
        "id": "structural-twist"
      },
      "source": [
        "Ainsi, la probabilité d'obtenir une «tête» lorsque vous lancez une pièce équitable est de  $ 1 / 2 $ ou $ 0,5 $.\n",
        "\n",
        "Calculez la probabilité de certaines autres conditions en essayant les exercices ci-dessous."
      ],
      "id": "structural-twist"
    },
    {
      "cell_type": "markdown",
      "metadata": {
        "id": "loaded-analyst"
      },
      "source": [
        "> **Exercise**: If you flip a fair coin, what is the probability of **getting a tail**?"
      ],
      "id": "loaded-analyst"
    },
    {
      "cell_type": "code",
      "metadata": {
        "id": "seasonal-development",
        "colab": {
          "base_uri": "https://localhost:8080/"
        },
        "outputId": "1d4b8974-6246-4f20-fad3-d094687154e3"
      },
      "source": [
        "p_tail = probability(1,2)\n",
        "p_tail"
      ],
      "id": "seasonal-development",
      "execution_count": 173,
      "outputs": [
        {
          "output_type": "execute_result",
          "data": {
            "text/plain": [
              "0.5"
            ]
          },
          "metadata": {
            "tags": []
          },
          "execution_count": 173
        }
      ]
    },
    {
      "cell_type": "markdown",
      "metadata": {
        "id": "automotive-nowhere"
      },
      "source": [
        "> **Exercice**: Si vous lancez une bonne pièce, quelle est la probabilité **d'avoir une tête ou une queue**?"
      ],
      "id": "automotive-nowhere"
    },
    {
      "cell_type": "code",
      "metadata": {
        "id": "atlantic-collaboration",
        "colab": {
          "base_uri": "https://localhost:8080/"
        },
        "outputId": "f01aab8c-a3c4-48ee-fb86-a6ab65c04ac1"
      },
      "source": [
        "p_head_or_tail = p_head + p_tail\n",
        "p_head_or_tail"
      ],
      "id": "atlantic-collaboration",
      "execution_count": 174,
      "outputs": [
        {
          "output_type": "execute_result",
          "data": {
            "text/plain": [
              "1.0"
            ]
          },
          "metadata": {
            "tags": []
          },
          "execution_count": 174
        }
      ]
    },
    {
      "cell_type": "markdown",
      "metadata": {
        "id": "welcome-oracle"
      },
      "source": [
        "> **Exercice:** Si vous lancez une bonne pièce de monnaie, quelle est **la probabilité de n'avoir ni tête ni queue**?"
      ],
      "id": "welcome-oracle"
    },
    {
      "cell_type": "code",
      "metadata": {
        "id": "amateur-status",
        "colab": {
          "base_uri": "https://localhost:8080/"
        },
        "outputId": "a0ed18b1-e69d-4b56-f525-ba13843dacf8"
      },
      "source": [
        "p_no_head_no_tail = probability(0,2)\n",
        "p_no_head_no_tail"
      ],
      "id": "amateur-status",
      "execution_count": 175,
      "outputs": [
        {
          "output_type": "execute_result",
          "data": {
            "text/plain": [
              "0.0"
            ]
          },
          "metadata": {
            "tags": []
          },
          "execution_count": 175
        }
      ]
    },
    {
      "cell_type": "markdown",
      "metadata": {
        "id": "outdoor-narrow"
      },
      "source": [
        "> **Exercice**: Si vous lancez une bonne pièce de monnaie, quelle est la probabilité **d'obtenir une tête et une queue** sur le même tirage au sort?"
      ],
      "id": "outdoor-narrow"
    },
    {
      "cell_type": "code",
      "metadata": {
        "id": "bibliographic-satellite",
        "colab": {
          "base_uri": "https://localhost:8080/"
        },
        "outputId": "a9221452-e512-4315-d858-5e406b31be8d"
      },
      "source": [
        "p_head_and_tail = probability(0,2)\n",
        "p_head_and_tail"
      ],
      "id": "bibliographic-satellite",
      "execution_count": 176,
      "outputs": [
        {
          "output_type": "execute_result",
          "data": {
            "text/plain": [
              "0.0"
            ]
          },
          "metadata": {
            "tags": []
          },
          "execution_count": 176
        }
      ]
    },
    {
      "cell_type": "markdown",
      "metadata": {
        "id": "dominican-colorado"
      },
      "source": [
        "> **Exercice**: Si vous lancez une bonne pièce, quelle est la probabilité **qu'il pleuve à Dakar demain**?"
      ],
      "id": "dominican-colorado"
    },
    {
      "cell_type": "code",
      "metadata": {
        "id": "aerial-naples",
        "colab": {
          "base_uri": "https://localhost:8080/"
        },
        "outputId": "1d7ff3a5-d756-4d6b-fd50-0e49aab80df3"
      },
      "source": [
        "p_pleuve_dk = probability(0,2)\n",
        "p_pleuve_dk"
      ],
      "id": "aerial-naples",
      "execution_count": 177,
      "outputs": [
        {
          "output_type": "execute_result",
          "data": {
            "text/plain": [
              "0.0"
            ]
          },
          "metadata": {
            "tags": []
          },
          "execution_count": 177
        }
      ]
    },
    {
      "cell_type": "markdown",
      "metadata": {
        "id": "white-letter"
      },
      "source": [
        "## Lancer des dés\n",
        "\n",
        "Un *dé* (pluriel *dés*) est un cube à 6 faces avec chaque face marquée d'un nombre différent de points (un à six). Lorsqu'un dé est lancé ou lancé, le nombre de points qui apparaît sur la face supérieure une fois le dé au repos est connu comme le résultat du lancer / lancer. Ainsi, les résultats possibles d'un lancer de dé sont 1, 2, 3, 4, 5 et 6.\n",
        "\n",
        "<img src=\"https://i.imgur.com/fVfurkk.png\" width=\"200\">\n",
        "\n",
        "> **Question**: Quelle est la probabilité d'obtenir un quatre quand un dé juste est lancé?\n",
        "\n",
        "Tous les résultats sont également probables pour un dé juste, et le seul résultat 4 satisfait à la condition «obtenir un 4». Ainsi, nous pouvons calculer la probabilité de la condition soit $1/6 $ ou $0,1666 $"
      ],
      "id": "white-letter"
    },
    {
      "cell_type": "code",
      "metadata": {
        "id": "commercial-container",
        "colab": {
          "base_uri": "https://localhost:8080/"
        },
        "outputId": "7e49410f-39e1-4144-e16b-ae2eec4a7b4a"
      },
      "source": [
        "p_4 = probability(1,6)\n",
        "p_4"
      ],
      "id": "commercial-container",
      "execution_count": 178,
      "outputs": [
        {
          "output_type": "execute_result",
          "data": {
            "text/plain": [
              "0.16666666666666666"
            ]
          },
          "metadata": {
            "tags": []
          },
          "execution_count": 178
        }
      ]
    },
    {
      "cell_type": "markdown",
      "metadata": {
        "id": "colored-thailand"
      },
      "source": [
        "> **Question**: Quelle est la probabilité **d'obtenir un nombre pair** lorsqu'un dé juste est lancé?\n",
        "\n"
      ],
      "id": "colored-thailand"
    },
    {
      "cell_type": "code",
      "metadata": {
        "id": "interior-polyester",
        "colab": {
          "base_uri": "https://localhost:8080/"
        },
        "outputId": "55381bbf-7f8a-4904-c3dd-af94b5dabc9d"
      },
      "source": [
        "p_nb_pair = probability(3,6)\n",
        "p_nb_pair"
      ],
      "id": "interior-polyester",
      "execution_count": 179,
      "outputs": [
        {
          "output_type": "execute_result",
          "data": {
            "text/plain": [
              "0.5"
            ]
          },
          "metadata": {
            "tags": []
          },
          "execution_count": 179
        }
      ]
    },
    {
      "cell_type": "markdown",
      "metadata": {
        "id": "increased-union"
      },
      "source": [
        "> **Exercice**: Quelle est la probabilité **d'obtenir un trois ou un six** quand un dé juste est lancé?"
      ],
      "id": "increased-union"
    },
    {
      "cell_type": "code",
      "metadata": {
        "id": "cordless-specialist",
        "colab": {
          "base_uri": "https://localhost:8080/"
        },
        "outputId": "90986ec3-5dbd-449a-c0f4-fc2ad48ebfe0"
      },
      "source": [
        "p_3_or_6 = probability(1,6) + probability(1,6)\n",
        "p_3_or_6"
      ],
      "id": "cordless-specialist",
      "execution_count": 180,
      "outputs": [
        {
          "output_type": "execute_result",
          "data": {
            "text/plain": [
              "0.3333333333333333"
            ]
          },
          "metadata": {
            "tags": []
          },
          "execution_count": 180
        }
      ]
    },
    {
      "cell_type": "markdown",
      "metadata": {
        "id": "exact-respect"
      },
      "source": [
        "> **Exercice**: Quelle est la probabilité **d'obtenir un trois et un six** lorsqu'un dé juste est lancé une fois?"
      ],
      "id": "exact-respect"
    },
    {
      "cell_type": "code",
      "metadata": {
        "id": "commercial-mining",
        "colab": {
          "base_uri": "https://localhost:8080/"
        },
        "outputId": "62716241-97bb-468a-b616-385294fabff5"
      },
      "source": [
        "p_3_and_6 = probability(1,6) * probability(1,6)\n",
        "p_3_and_6"
      ],
      "id": "commercial-mining",
      "execution_count": 181,
      "outputs": [
        {
          "output_type": "execute_result",
          "data": {
            "text/plain": [
              "0.027777777777777776"
            ]
          },
          "metadata": {
            "tags": []
          },
          "execution_count": 181
        }
      ]
    },
    {
      "cell_type": "markdown",
      "metadata": {
        "id": "fifth-store"
      },
      "source": [
        "> **Exercice**: Quelle est la probabilité **d'obtenir un multiple de deux ou un multiple de trois** lorsqu'un dé juste est lancé?"
      ],
      "id": "fifth-store"
    },
    {
      "cell_type": "code",
      "metadata": {
        "id": "congressional-mortality",
        "colab": {
          "base_uri": "https://localhost:8080/"
        },
        "outputId": "b00e9e55-39c3-4e7e-ebab-020309e59b2e"
      },
      "source": [
        "p_multiple_2_or_3 = probability(3,6) + probability(2,6)\n",
        "p_multiple_2_or_3"
      ],
      "id": "congressional-mortality",
      "execution_count": 182,
      "outputs": [
        {
          "output_type": "execute_result",
          "data": {
            "text/plain": [
              "0.8333333333333333"
            ]
          },
          "metadata": {
            "tags": []
          },
          "execution_count": 182
        }
      ]
    },
    {
      "cell_type": "markdown",
      "metadata": {
        "id": "above-pressure"
      },
      "source": [
        "> **Exercice**: Quelle est la probabilité **d'obtenir un trois ou un sept** quand un dé juste est lancé?"
      ],
      "id": "above-pressure"
    },
    {
      "cell_type": "code",
      "metadata": {
        "id": "authorized-suffering",
        "colab": {
          "base_uri": "https://localhost:8080/"
        },
        "outputId": "1ac419dd-1628-400c-8a45-a30cf998dd54"
      },
      "source": [
        "p_3_or_7 = probability(1,6) + probability(0,6)\n",
        "p_3_or_7"
      ],
      "id": "authorized-suffering",
      "execution_count": 183,
      "outputs": [
        {
          "output_type": "execute_result",
          "data": {
            "text/plain": [
              "0.16666666666666666"
            ]
          },
          "metadata": {
            "tags": []
          },
          "execution_count": 183
        }
      ]
    },
    {
      "cell_type": "markdown",
      "metadata": {
        "id": "photographic-cocktail"
      },
      "source": [
        "> **Exercice**: Quelle est la probabilité **d'obtenir un nombre premier** lorsqu'un dé juste est lancé?"
      ],
      "id": "photographic-cocktail"
    },
    {
      "cell_type": "code",
      "metadata": {
        "id": "reserved-refund",
        "colab": {
          "base_uri": "https://localhost:8080/"
        },
        "outputId": "cea973f0-ce75-493b-ac0e-ff70888335e8"
      },
      "source": [
        "p_nb_premier = probability(4,6)\n",
        "p_nb_premier"
      ],
      "id": "reserved-refund",
      "execution_count": 184,
      "outputs": [
        {
          "output_type": "execute_result",
          "data": {
            "text/plain": [
              "0.6666666666666666"
            ]
          },
          "metadata": {
            "tags": []
          },
          "execution_count": 184
        }
      ]
    },
    {
      "cell_type": "markdown",
      "metadata": {
        "id": "qualified-defense"
      },
      "source": [
        "## Playing Cards\n",
        "\n",
        "<img src=\"https://i.imgur.com/F7dXnzB.jpg\" width=\"400\">\n",
        "\n",
        "Un jeu de cartes à jouer se compose de 52 cartes. Chaque carte appartient à l'une des quatre couleurs suivantes: Pique ♠ ️, Trefle ♣ ️, Coeur ♥ ️ ou Carrés ♦ ️. Il y a 13 cartes appartenant à chaque couleur: *As, 2, 3, 4, 5, 6, 7, 8, 9, 10, Valet, Reine* et *Roi*. Les piques et les tréfless sont de couleur noire et les cœurs et les carrés sont de couleur rouge.\n",
        "\n",
        "![](https://i.imgur.com/hJtBa4i.png)\n",
        "\n",
        "\n",
        "\n",
        "Dans un jeu de cartes bien mélangé, n'importe quelle carte est également susceptible de se retrouver à n'importe quelle position de la main d'un joueur.\n",
        "\n",
        "![](https://media.giphy.com/media/8gX7CPRgzNt5gIzHam/giphy.gif)\n"
      ],
      "id": "qualified-defense"
    },
    {
      "cell_type": "markdown",
      "metadata": {
        "id": "foreign-functionality"
      },
      "source": [
        "> **Question**: Quelle est la probabilité de **tirer un roi de cœur** à partir d'un jeu de cartes bien mélangé?"
      ],
      "id": "foreign-functionality"
    },
    {
      "cell_type": "code",
      "metadata": {
        "id": "GA-ksnJnUh6c",
        "colab": {
          "base_uri": "https://localhost:8080/"
        },
        "outputId": "4f1e3217-a77c-4e37-c646-17c63c26cde1"
      },
      "source": [
        "p_roi_coeur = probability(1,52)\n",
        "p_roi_coeur"
      ],
      "id": "GA-ksnJnUh6c",
      "execution_count": 185,
      "outputs": [
        {
          "output_type": "execute_result",
          "data": {
            "text/plain": [
              "0.019230769230769232"
            ]
          },
          "metadata": {
            "tags": []
          },
          "execution_count": 185
        }
      ]
    },
    {
      "cell_type": "markdown",
      "metadata": {
        "id": "technological-rendering"
      },
      "source": [
        "> **Exercice**: Quelle est la probabilité de **tirer une carte rouge** d'un jeu de cartes bien mélangé?\n"
      ],
      "id": "technological-rendering"
    },
    {
      "cell_type": "code",
      "metadata": {
        "id": "postal-brooks",
        "colab": {
          "base_uri": "https://localhost:8080/"
        },
        "outputId": "97eddecf-4754-4f1f-e69b-e5fbb55673a5"
      },
      "source": [
        "# il y'a 26 cartes rouges et 52 carte en tout\n",
        "p_carte_rouge = probability(26, 52)\n",
        "p_carte_rouge"
      ],
      "id": "postal-brooks",
      "execution_count": 186,
      "outputs": [
        {
          "output_type": "execute_result",
          "data": {
            "text/plain": [
              "0.5"
            ]
          },
          "metadata": {
            "tags": []
          },
          "execution_count": 186
        }
      ]
    },
    {
      "cell_type": "markdown",
      "metadata": {
        "id": "significant-shirt"
      },
      "source": [
        "> **Exercice**: Quelle est la probabilité de **tirer un pique rouge** d'un jeu de cartes bien mélangé?"
      ],
      "id": "significant-shirt"
    },
    {
      "cell_type": "code",
      "metadata": {
        "id": "silent-genesis",
        "colab": {
          "base_uri": "https://localhost:8080/"
        },
        "outputId": "f4c9439f-6258-41b5-8a69-60cbda62c6e5"
      },
      "source": [
        "# tous les piques sont noires => evenement impossible\n",
        "p_pique_rouge = probability(0, 52)\n",
        "p_pique_rouge"
      ],
      "id": "silent-genesis",
      "execution_count": 187,
      "outputs": [
        {
          "output_type": "execute_result",
          "data": {
            "text/plain": [
              "0.0"
            ]
          },
          "metadata": {
            "tags": []
          },
          "execution_count": 187
        }
      ]
    },
    {
      "cell_type": "markdown",
      "metadata": {
        "id": "innocent-slave"
      },
      "source": [
        "> **Exercice**: Quelle est la probabilité de **tirer un 7** d'un jeu de cartes bien mélangé?"
      ],
      "id": "innocent-slave"
    },
    {
      "cell_type": "code",
      "metadata": {
        "id": "cognitive-exclusion",
        "colab": {
          "base_uri": "https://localhost:8080/"
        },
        "outputId": "dd08228e-4158-4525-c5e0-0ce9cdf4b43a"
      },
      "source": [
        "# il y'a 4x 7 sur les 52 cartes\n",
        "p_7 = probability(4, 52)\n",
        "p_7"
      ],
      "id": "cognitive-exclusion",
      "execution_count": 188,
      "outputs": [
        {
          "output_type": "execute_result",
          "data": {
            "text/plain": [
              "0.07692307692307693"
            ]
          },
          "metadata": {
            "tags": []
          },
          "execution_count": 188
        }
      ]
    },
    {
      "cell_type": "markdown",
      "metadata": {
        "id": "acquired-player"
      },
      "source": [
        "> **Exercice**: Quelle est la probabilité de **tirer un pique et un valet** d'un jeu de cartes bien mélangé?"
      ],
      "id": "acquired-player"
    },
    {
      "cell_type": "code",
      "metadata": {
        "id": "sensitive-killing",
        "colab": {
          "base_uri": "https://localhost:8080/"
        },
        "outputId": "beebd2bb-965e-40ef-98dc-ef6c5c54ffcf"
      },
      "source": [
        "# il y'a 1 valet sur les 52 piques\n",
        "p_pique_and_valet = probability(1, 52)\n",
        "p_pique_and_valet"
      ],
      "id": "sensitive-killing",
      "execution_count": 189,
      "outputs": [
        {
          "output_type": "execute_result",
          "data": {
            "text/plain": [
              "0.019230769230769232"
            ]
          },
          "metadata": {
            "tags": []
          },
          "execution_count": 189
        }
      ]
    },
    {
      "cell_type": "markdown",
      "metadata": {
        "id": "amino-montana"
      },
      "source": [
        "D'autres problémes sur les probabilités et les cartes: https://www.math-only-math.com/playing-cards-probability.html"
      ],
      "id": "amino-montana"
    },
    {
      "cell_type": "markdown",
      "metadata": {
        "id": "blocked-trance"
      },
      "source": [
        "## Probabilité aux conditions multiples\n",
        "\n",
        "> **Exercice**: Quelle est la probabilité de **tirer un pique ou un valet** d'un jeu de cartes bien mélangé?\n",
        "\n"
      ],
      "id": "blocked-trance"
    },
    {
      "cell_type": "code",
      "metadata": {
        "id": "gp0rmsUrYfw1",
        "colab": {
          "base_uri": "https://localhost:8080/"
        },
        "outputId": "98e6f212-471f-44c3-c233-286fd08968d7"
      },
      "source": [
        "# il y'a 13 piques et 4 valets\n",
        "p_pique_or_valet = probability(13, 52) + probability(4, 52) - probability(1,52)\n",
        "p_pique_or_valet"
      ],
      "id": "gp0rmsUrYfw1",
      "execution_count": 190,
      "outputs": [
        {
          "output_type": "execute_result",
          "data": {
            "text/plain": [
              "0.3076923076923077"
            ]
          },
          "metadata": {
            "tags": []
          },
          "execution_count": 190
        }
      ]
    },
    {
      "cell_type": "markdown",
      "metadata": {
        "id": "documentary-voluntary"
      },
      "source": [
        "\n",
        "\n",
        "> **Question**: Les participants à un cours en ligne comprennent 8 hommes d'Inde, 9 femmes d'Inde, 5 hommes des Etats-Unis et 7 femmes des Etats-Unis. Si un participant est choisi au hasard, quelle est la probabilité que le participant soit indien ou un homme?\n",
        "\n",
        "![](https://i.imgur.com/ZpyrLRt.png)"
      ],
      "id": "documentary-voluntary"
    },
    {
      "cell_type": "markdown",
      "metadata": {
        "id": "identified-accordance"
      },
      "source": [
        "Si nous utilisons les lettres $ A $ et $ B $ pour représenter respectivement les conditions «choisir un Indien» et «choisir un homme», alors nous pouvons déduire la règle générale suivante:\n",
        "$$ P (A \\cup B) = P (A) + P (B) - P (A \\cap B) $$\n",
        "\n",
        "Les symboles $\\cup$ et et $\\cap$ sont souvent utilisés pour représenter \"ou\" (union) et \"et\" (intersection).\n",
        "\n",
        "\n",
        "\n",
        "La relation ci-dessus est appelée la **règle d'addition de probabilité**."
      ],
      "id": "identified-accordance"
    },
    {
      "cell_type": "code",
      "metadata": {
        "id": "simple-morocco",
        "colab": {
          "base_uri": "https://localhost:8080/"
        },
        "outputId": "22cd3479-46df-497d-ec7d-709559e1d386"
      },
      "source": [
        "p_indien_ou_homme = probability(17,29) + probability(13,29) - probability(8,29)\n",
        "p_indien_ou_homme"
      ],
      "id": "simple-morocco",
      "execution_count": 191,
      "outputs": [
        {
          "output_type": "execute_result",
          "data": {
            "text/plain": [
              "0.7586206896551723"
            ]
          },
          "metadata": {
            "tags": []
          },
          "execution_count": 191
        }
      ]
    },
    {
      "cell_type": "markdown",
      "metadata": {
        "id": "abstract-awareness"
      },
      "source": [
        "> **Exercice**: Quelle est la probabilité de tirer une carte rouge ou un 6 dans un jeu de cartes bien mélangé?\n",
        "\n",
        "![](https://i.imgur.com/052OCcH.png)"
      ],
      "id": "abstract-awareness"
    },
    {
      "cell_type": "code",
      "metadata": {
        "id": "interracial-compatibility",
        "colab": {
          "base_uri": "https://localhost:8080/"
        },
        "outputId": "ab38a44b-378e-4292-85ef-b0d76173c641"
      },
      "source": [
        "resultat = probability(26,52) + probability(4,52) - probability(2,52)\n",
        "resultat"
      ],
      "id": "interracial-compatibility",
      "execution_count": 192,
      "outputs": [
        {
          "output_type": "execute_result",
          "data": {
            "text/plain": [
              "0.5384615384615384"
            ]
          },
          "metadata": {
            "tags": []
          },
          "execution_count": 192
        }
      ]
    },
    {
      "cell_type": "markdown",
      "metadata": {
        "id": "political-rehabilitation"
      },
      "source": [
        "> **Exercice**: Les participants à un cours en ligne comprennent 8 hommes d'Inde, 9 femmes d'Inde, 5 hommes des Etats-Unis et 7 femmes des Etats-Unis. Si un participant est choisi au hasard, quelle est la probabilité que le participant soit un américain ou une femme?"
      ],
      "id": "political-rehabilitation"
    },
    {
      "cell_type": "code",
      "metadata": {
        "id": "color-infrastructure",
        "colab": {
          "base_uri": "https://localhost:8080/"
        },
        "outputId": "56b9a688-2405-44dd-9f10-98bf48a84136"
      },
      "source": [
        "resultat = probability(12,29) + probability(16,29) - probability(7,29)\n",
        "resultat"
      ],
      "id": "color-infrastructure",
      "execution_count": 193,
      "outputs": [
        {
          "output_type": "execute_result",
          "data": {
            "text/plain": [
              "0.7241379310344827"
            ]
          },
          "metadata": {
            "tags": []
          },
          "execution_count": 193
        }
      ]
    },
    {
      "cell_type": "markdown",
      "metadata": {
        "id": "fallen-continuity"
      },
      "source": [
        "> **Exercice**: Un sac contient 3 balles rouges, 5 balles bleues et 2 balles vertes. Quelle est la probabilité de ramasser une balle rouge ou verte?"
      ],
      "id": "fallen-continuity"
    },
    {
      "cell_type": "code",
      "metadata": {
        "id": "cellular-monte",
        "colab": {
          "base_uri": "https://localhost:8080/"
        },
        "outputId": "35b8b5c7-7c2b-4a47-efaf-b9c4cd0e352d"
      },
      "source": [
        "resultat = probability(3,10) + probability(2,10) - probability(0,10)\n",
        "resultat"
      ],
      "id": "cellular-monte",
      "execution_count": 194,
      "outputs": [
        {
          "output_type": "execute_result",
          "data": {
            "text/plain": [
              "0.5"
            ]
          },
          "metadata": {
            "tags": []
          },
          "execution_count": 194
        }
      ]
    },
    {
      "cell_type": "markdown",
      "metadata": {
        "id": "soviet-beads"
      },
      "source": [
        "> **Exercice** : Un sac contient 3 balles rouges, 5 balles bleues et 2 balles vertes. Quelle est la probabilité de ramasser une balle jaune ou verte ?"
      ],
      "id": "soviet-beads"
    },
    {
      "cell_type": "code",
      "metadata": {
        "id": "acquired-batch",
        "colab": {
          "base_uri": "https://localhost:8080/"
        },
        "outputId": "d290069d-041d-4047-aa9c-e838089320bf"
      },
      "source": [
        "resultat = probability(0,10) + probability(2,10) - probability(0,10)\n",
        "resultat"
      ],
      "id": "acquired-batch",
      "execution_count": 195,
      "outputs": [
        {
          "output_type": "execute_result",
          "data": {
            "text/plain": [
              "0.2"
            ]
          },
          "metadata": {
            "tags": []
          },
          "execution_count": 195
        }
      ]
    },
    {
      "cell_type": "markdown",
      "metadata": {
        "id": "sustainable-castle"
      },
      "source": [
        "## Evenements mutuellement exclusives\n",
        "\n",
        "Étant donné deux événements $ A $ et $ B $, nous savons que\n",
        "\n",
        "$$ P (A \\cup B) = P (A) + P (B) - P (A \\cap B) $$\n",
        "\n",
        "Dans certains cas, $ P (A \\cap B) $ est $ 0 $ par exemple si on lance un dé juste et que A & B représentent les conditions \"obtenir un 2\" et \"obtenir un 3\" respectivement, alors la condition $ A \\cap B $ représente la condition \"obtenir un 2 et un 3\", ce qui est impossible.\n",
        "\n",
        "Si $ P (A \\cap B) $ vaut 0, alors $ A $ et $ B $ sont dit mutuellement exclusifs, et il s'ensuit que\n",
        "\n",
        "$$ P (A \\cup B) = P (A) + P (B) $$"
      ],
      "id": "sustainable-castle"
    },
    {
      "cell_type": "markdown",
      "metadata": {
        "id": "willing-amount"
      },
      "source": [
        "**Exercice**: Quelle est la probabilité d'obtenir un 2 ou un 3 en lançant un dé juste ?"
      ],
      "id": "willing-amount"
    },
    {
      "cell_type": "code",
      "metadata": {
        "id": "considerable-entity",
        "colab": {
          "base_uri": "https://localhost:8080/"
        },
        "outputId": "1336dfcb-7188-45a2-c324-2a92204cffb0"
      },
      "source": [
        "resultat = probability(1,6) + probability(1,6) - probability(0,6)\n",
        "resultat"
      ],
      "id": "considerable-entity",
      "execution_count": 196,
      "outputs": [
        {
          "output_type": "execute_result",
          "data": {
            "text/plain": [
              "0.3333333333333333"
            ]
          },
          "metadata": {
            "tags": []
          },
          "execution_count": 196
        }
      ]
    },
    {
      "cell_type": "markdown",
      "metadata": {
        "id": "prescription-terrain"
      },
      "source": [
        "**Exercice:** Si vous choisissez au hasard une personne vivant aux États-Unis, quelle est la probabilité que cette personne vive au Texas ou en Californie?\n",
        "<img src=\"https://i.imgur.com/UcZAYl0.png\" width=\"400\">"
      ],
      "id": "prescription-terrain"
    },
    {
      "cell_type": "code",
      "metadata": {
        "id": "nervous-baghdad"
      },
      "source": [
        ""
      ],
      "id": "nervous-baghdad",
      "execution_count": 196,
      "outputs": []
    },
    {
      "cell_type": "code",
      "metadata": {
        "id": "european-biology"
      },
      "source": [
        ""
      ],
      "id": "european-biology",
      "execution_count": 196,
      "outputs": []
    },
    {
      "cell_type": "code",
      "metadata": {
        "id": "weird-accuracy"
      },
      "source": [
        ""
      ],
      "id": "weird-accuracy",
      "execution_count": 196,
      "outputs": []
    },
    {
      "cell_type": "markdown",
      "metadata": {
        "id": "sustainable-clarity"
      },
      "source": [
        "## Probabilité de complément\n",
        "\n",
        "Parfois, nous nous intéressons à la probabilité qu'une condition ne soit pas vraie.\n",
        "\n",
        "> **Question**: Un sac contient 3 boules rouges, 5 boules bleues et 2 boules vertes. Quelle est la probabilité de ramasser une balle qui n'est pas rouge?\n",
        "\n",
        "Il y a 10 boules au total, et 3 d'entre elles sont rouges, donc $10-3  = 7 $ boules ne sont pas rouges. Donc, la probabilité est de 7/10.\n"
      ],
      "id": "sustainable-clarity"
    },
    {
      "cell_type": "code",
      "metadata": {
        "id": "combined-queens",
        "colab": {
          "base_uri": "https://localhost:8080/"
        },
        "outputId": "6fe923bb-c4ef-4eff-fcfb-f82ca65f9ff3"
      },
      "source": [
        "resultat = 1 - probability(3,10)\n",
        "resultat"
      ],
      "id": "combined-queens",
      "execution_count": 197,
      "outputs": [
        {
          "output_type": "execute_result",
          "data": {
            "text/plain": [
              "0.7"
            ]
          },
          "metadata": {
            "tags": []
          },
          "execution_count": 197
        }
      ]
    },
    {
      "cell_type": "markdown",
      "metadata": {
        "id": "gorgeous-navigation"
      },
      "source": [
        "Cependant, nous pouvons également le calculer comme suit:\n",
        "\n",
        "$$ P (\\textrm{pas rouge}) = \\frac {\\textrm {No. de balles} - \\textrm{No. de boules rouges}} {\\textrm{No. de boules}} $$\n",
        "\n",
        "$$ P (\\textrm{pas rouge}) = 1 - \\frac{\\textrm {No. de boules rouges}} {\\textrm {No. de boules}} $$\n",
        "\n",
        "$$ P (\\textrm{pas rouge}) = 1 - P(\\textrm{rouge}) $$\n",
        "\n",
        "Nous pouvons exprimer cela en règle générale. Étant donné un événement $ A $, l'événement $ \\textrm{non}A $ est souvent appelé le * complément * de $ A $ et est représenté par $ A^c $. Ainsi, nous avons la règle générale:\n",
        "\n",
        "\n",
        "\n",
        "$$ P (A ^ C) = 1 - P (A) $$"
      ],
      "id": "gorgeous-navigation"
    },
    {
      "cell_type": "markdown",
      "metadata": {
        "id": "incredible-maintenance"
      },
      "source": [
        "> **Exercice**: Si un dé juste est lancé, quelle est la probabilité que le résultat ne soit pas un nombre premier?"
      ],
      "id": "incredible-maintenance"
    },
    {
      "cell_type": "code",
      "metadata": {
        "id": "judicial-prevention",
        "colab": {
          "base_uri": "https://localhost:8080/"
        },
        "outputId": "cc260fc2-4ff1-44e5-958e-73fec69f144a"
      },
      "source": [
        "resultat = 1 - probability(3, 6)\n",
        "resultat"
      ],
      "id": "judicial-prevention",
      "execution_count": 198,
      "outputs": [
        {
          "output_type": "execute_result",
          "data": {
            "text/plain": [
              "0.5"
            ]
          },
          "metadata": {
            "tags": []
          },
          "execution_count": 198
        }
      ]
    },
    {
      "cell_type": "markdown",
      "metadata": {
        "id": "professional-palace"
      },
      "source": [
        "> **Exercice**: Si vous choisissez une carte au hasard dans un deck bien mélangé, quelle est la probabilité de piocher une carte qui n'est ni un valet ni un pique? (c'est-à-: non valet et non pique)\n",
        "\n",
        "![](https://i.imgur.com/hJtBa4i.png)"
      ],
      "id": "professional-palace"
    },
    {
      "cell_type": "code",
      "metadata": {
        "id": "hindu-breakdown",
        "colab": {
          "base_uri": "https://localhost:8080/"
        },
        "outputId": "504ddcba-ee6b-4a5c-8b30-48b75096c1f8"
      },
      "source": [
        "resultat = 1 - p_pique_or_valet\n",
        "resultat"
      ],
      "id": "hindu-breakdown",
      "execution_count": 199,
      "outputs": [
        {
          "output_type": "execute_result",
          "data": {
            "text/plain": [
              "0.6923076923076923"
            ]
          },
          "metadata": {
            "tags": []
          },
          "execution_count": 199
        }
      ]
    },
    {
      "cell_type": "markdown",
      "metadata": {
        "id": "spiritual-photographer"
      },
      "source": [
        "> **Exercice**: Si un nombre est choisi au hasard dans la liste «[23, 17, 2, 12, 15, 21, 9, 16]», quelle est la probabilité que le nombre ne soit pas un multiple de 3?"
      ],
      "id": "spiritual-photographer"
    },
    {
      "cell_type": "code",
      "metadata": {
        "id": "constitutional-organizer",
        "colab": {
          "base_uri": "https://localhost:8080/"
        },
        "outputId": "c205885c-4ad7-47e8-99d2-aa478f4084e8"
      },
      "source": [
        "resultat = 1 - probability(4,8)\n",
        "resultat"
      ],
      "id": "constitutional-organizer",
      "execution_count": 200,
      "outputs": [
        {
          "output_type": "execute_result",
          "data": {
            "text/plain": [
              "0.5"
            ]
          },
          "metadata": {
            "tags": []
          },
          "execution_count": 200
        }
      ]
    },
    {
      "cell_type": "markdown",
      "metadata": {
        "id": "judicial-collins"
      },
      "source": [
        "> **Exercice:** Si vous choisissez un emplacement aléatoire à l'intérieur de la frontière des États-Unis, quelle est la probabilité que l'emplacement se trouve en dehors du Texas?\n",
        "\n",
        "<img src=\"https://i.imgur.com/5mpChbk.png\">"
      ],
      "id": "judicial-collins"
    },
    {
      "cell_type": "code",
      "metadata": {
        "id": "about-volume"
      },
      "source": [
        ""
      ],
      "id": "about-volume",
      "execution_count": 200,
      "outputs": []
    },
    {
      "cell_type": "markdown",
      "metadata": {
        "id": "collected-cookie"
      },
      "source": [
        "> **Exercice:** Si vous choisissez au hasard une personne vivant aux États-Unis, quelle est la probabilité que cette personne ne vive pas au Texas?\n",
        "\n",
        "<img src=\"https://i.imgur.com/5mpChbk.png\">"
      ],
      "id": "collected-cookie"
    },
    {
      "cell_type": "code",
      "metadata": {
        "id": "elementary-london"
      },
      "source": [
        ""
      ],
      "id": "elementary-london",
      "execution_count": 200,
      "outputs": []
    },
    {
      "cell_type": "code",
      "metadata": {
        "id": "hawaiian-token"
      },
      "source": [
        ""
      ],
      "id": "hawaiian-token",
      "execution_count": 200,
      "outputs": []
    },
    {
      "cell_type": "code",
      "metadata": {
        "id": "backed-carter"
      },
      "source": [
        ""
      ],
      "id": "backed-carter",
      "execution_count": 200,
      "outputs": []
    },
    {
      "cell_type": "markdown",
      "metadata": {
        "id": "basic-intelligence"
      },
      "source": [
        "## Somme des probabilités\n",
        "\n",
        "Rappelez-vous la formule de probabilité:\n",
        "\n",
        "> $$ P (\\textrm{condition}) = \\frac {\\textrm {Nombre de résultats satisfaisant la condition}} {\\textrm {Nombre de résultats également probables}} $$\n",
        "\n",
        "L'ensemble de tous les résultats possibles est appelé ensemble d'échantillons et est souvent représenté par «S». Dans toute expérience, la probabilité que le résultat corresponde à l'un des résultats possibles est de 1. (pouvez-vous le vérifier?)\n",
        "\n",
        "$$ P (S) = 1 $$\n",
        "\n",
        "De plus, s'il y a plusieurs conditions / événements mutuellement exclusifs qui, ensemble, couvrent tous les résultats possibles, alors la **somme de leurs probabilités est 1**. Vérifiez cela en résolvant les exercices suivants."
      ],
      "id": "basic-intelligence"
    },
    {
      "cell_type": "markdown",
      "metadata": {
        "id": "polished-shift"
      },
      "source": [
        "> **Exercises**: If you flip a fair coin, what is the probability of getting a head or a tail?\n",
        "\n",
        "The mutually exclusive conditions/events here are \"head\" and \"tail\". Together they cover all possible outcomes."
      ],
      "id": "polished-shift"
    },
    {
      "cell_type": "code",
      "metadata": {
        "id": "involved-presentation",
        "colab": {
          "base_uri": "https://localhost:8080/"
        },
        "outputId": "6021e886-9cdf-4348-82d3-652f4254c54e"
      },
      "source": [
        "resultat = probability(1,2) + probability(1,2)\n",
        "resultat"
      ],
      "id": "involved-presentation",
      "execution_count": 201,
      "outputs": [
        {
          "output_type": "execute_result",
          "data": {
            "text/plain": [
              "1.0"
            ]
          },
          "metadata": {
            "tags": []
          },
          "execution_count": 201
        }
      ]
    },
    {
      "cell_type": "markdown",
      "metadata": {
        "id": "superb-luther"
      },
      "source": [
        "> **Exercice**: Si vous lancez un dé juste, quelle est la probabilité d'obtenir un 1, 2, 3, 4, 5 ou 6?\n"
      ],
      "id": "superb-luther"
    },
    {
      "cell_type": "code",
      "metadata": {
        "id": "split-manufacturer",
        "colab": {
          "base_uri": "https://localhost:8080/"
        },
        "outputId": "7cfc9bbc-d618-48d9-e084-e24a7c371204"
      },
      "source": [
        "resultat = probability(1,6) * 6\n",
        "resultat"
      ],
      "id": "split-manufacturer",
      "execution_count": 202,
      "outputs": [
        {
          "output_type": "execute_result",
          "data": {
            "text/plain": [
              "1.0"
            ]
          },
          "metadata": {
            "tags": []
          },
          "execution_count": 202
        }
      ]
    },
    {
      "cell_type": "markdown",
      "metadata": {
        "id": "aware-qualification"
      },
      "source": [
        "> **Exercice**: Si vous lancez un dé juste, quelle est la probabilité d'obtenir un nombre pair ou impair?"
      ],
      "id": "aware-qualification"
    },
    {
      "cell_type": "code",
      "metadata": {
        "id": "thick-proxy",
        "colab": {
          "base_uri": "https://localhost:8080/"
        },
        "outputId": "d809ef55-1473-43cf-a186-f703134f4d94"
      },
      "source": [
        "resultat = probability(3,6) + probability(3,6)\n",
        "resultat"
      ],
      "id": "thick-proxy",
      "execution_count": 203,
      "outputs": [
        {
          "output_type": "execute_result",
          "data": {
            "text/plain": [
              "1.0"
            ]
          },
          "metadata": {
            "tags": []
          },
          "execution_count": 203
        }
      ]
    },
    {
      "cell_type": "markdown",
      "metadata": {
        "id": "missing-nitrogen"
      },
      "source": [
        "> **Exercice**: Si vous choisissez une carte au hasard dans un jeu bien mélangé, quelle est la probabilité que la carte appartienne à l'une des quatre suites: Pique, Cœur, Tréfles et Carrés ?"
      ],
      "id": "missing-nitrogen"
    },
    {
      "cell_type": "code",
      "metadata": {
        "id": "medium-ribbon",
        "colab": {
          "base_uri": "https://localhost:8080/"
        },
        "outputId": "b6328e1b-b477-4fce-8833-895676221bf4"
      },
      "source": [
        "resultat = probability(13,52) * 4\n",
        "resultat"
      ],
      "id": "medium-ribbon",
      "execution_count": 204,
      "outputs": [
        {
          "output_type": "execute_result",
          "data": {
            "text/plain": [
              "1.0"
            ]
          },
          "metadata": {
            "tags": []
          },
          "execution_count": 204
        }
      ]
    },
    {
      "cell_type": "markdown",
      "metadata": {
        "id": "welsh-copper"
      },
      "source": [
        "> **Exercice**: Un sac contient 3 balles rouges, 5 balles bleues et 2 balles vertes. Quelle est la probabilité de choisir une balle rouge, verte ou bleue?"
      ],
      "id": "welsh-copper"
    },
    {
      "cell_type": "code",
      "metadata": {
        "id": "educated-warner",
        "colab": {
          "base_uri": "https://localhost:8080/"
        },
        "outputId": "395cabfd-1a9c-4f45-e3c4-f1dcf5cf1ee9"
      },
      "source": [
        "resultat = probability(3,10) + probability(5,10) + probability(2,10)\n",
        "resultat"
      ],
      "id": "educated-warner",
      "execution_count": 205,
      "outputs": [
        {
          "output_type": "execute_result",
          "data": {
            "text/plain": [
              "1.0"
            ]
          },
          "metadata": {
            "tags": []
          },
          "execution_count": 205
        }
      ]
    },
    {
      "cell_type": "markdown",
      "metadata": {
        "id": "stunning-spotlight"
      },
      "source": [
        "## Estimation de la probabilité\n",
        "\n",
        "Parfois, on ne sait pas à l'avance si tous les résultats possibles sont équiprobables. Dans un tel cas, nous pouvons *estimer* la probabilité d'une condition en effectuant des expériences répétées. Par exemple. on peut lancer une pièce mille fois pour estimer la probabilité d'avoir une tête.\n",
        "\n",
        "> $$ P (\\textrm {condition}) \\approx \\frac {\\textrm {Nombre d'expériences satisfaisant la condition}} {\\textrm {No. d'expériences réalisées}} $$\n",
        "\n",
        "Plus nous menons d'expériences, plus nous pouvons nous rapprocher de la *vraie* probabilité de chaque résultat.\n",
        "\n",
        "Définissons une fonction `approx_probability` pour effectuer ce calcul."
      ],
      "id": "stunning-spotlight"
    },
    {
      "cell_type": "code",
      "metadata": {
        "id": "periodic-absorption"
      },
      "source": [
        "def approx_probability(matching_experiments, total_experiments):\n",
        "    \"\"\"\n",
        "    Objectif: estime la probabilité d'un évènement\n",
        "    Méthode: division\n",
        "    Besoins: nombre de fois d'un résultat, total des expérience\n",
        "    Entrées: -\n",
        "    Connues: -\n",
        "    Sorties: estimation de la probabilité d'une condition\n",
        "    Résultat: -\n",
        "    Hypothèses: nombre de résultat probable compris entre 0 et 1\n",
        "    \"\"\"\n",
        "    return matching_experiments / total_experiments"
      ],
      "id": "periodic-absorption",
      "execution_count": 206,
      "outputs": []
    },
    {
      "cell_type": "markdown",
      "metadata": {
        "id": "acceptable-particular"
      },
      "source": [
        "Si nous lançons une pièce 100 fois et qu'elle montre des têtes 48 fois, la probabilité de têtes peut être estimée comme suit:"
      ],
      "id": "acceptable-particular"
    },
    {
      "cell_type": "code",
      "metadata": {
        "id": "aC7mcWE-oZAf",
        "colab": {
          "base_uri": "https://localhost:8080/"
        },
        "outputId": "a02bb1ba-a360-4d8b-ec40-fa4fd1514698"
      },
      "source": [
        "resultat = approx_probability(48,100)\n",
        "resultat"
      ],
      "id": "aC7mcWE-oZAf",
      "execution_count": 207,
      "outputs": [
        {
          "output_type": "execute_result",
          "data": {
            "text/plain": [
              "0.48"
            ]
          },
          "metadata": {
            "tags": []
          },
          "execution_count": 207
        }
      ]
    },
    {
      "cell_type": "markdown",
      "metadata": {
        "id": "ordered-stamp"
      },
      "source": [
        "> **Question**: On vous donne une fonction `flip_coin` définie ci-dessous, qui simule un tirage au sort et renvoie` H` ou `T` pour les résultats\" tête \"ou\" queue \". Trouvez la probabilité d'avoir une tête lorsque nous lançons la pièce."
      ],
      "id": "ordered-stamp"
    },
    {
      "cell_type": "code",
      "metadata": {
        "id": "parliamentary-scratch"
      },
      "source": [
        "from random import random\n",
        "def flip_coin():\n",
        "    \"\"\"\n",
        "    Objectif: simule un tirage au sort\n",
        "    Méthode: random\n",
        "    Besoins: -\n",
        "    Entrées: -\n",
        "    Connues: -\n",
        "    Sorties: H ou T avec 75% de chance d'avoir H\n",
        "    Résultat: -\n",
        "    Hypothèses: -\n",
        "    \"\"\"\n",
        "    return \"H\" if random() < 0.75 else \"T\""
      ],
      "id": "parliamentary-scratch",
      "execution_count": 208,
      "outputs": []
    },
    {
      "cell_type": "code",
      "metadata": {
        "id": "lvl6BAtHs6ki",
        "colab": {
          "base_uri": "https://localhost:8080/",
          "height": 35
        },
        "outputId": "902e4e7f-05de-40a2-ed17-93dde9f543a2"
      },
      "source": [
        "# testons la fonction\n",
        "flip_coin()"
      ],
      "id": "lvl6BAtHs6ki",
      "execution_count": 209,
      "outputs": [
        {
          "output_type": "execute_result",
          "data": {
            "application/vnd.google.colaboratory.intrinsic+json": {
              "type": "string"
            },
            "text/plain": [
              "'H'"
            ]
          },
          "metadata": {
            "tags": []
          },
          "execution_count": 209
        }
      ]
    },
    {
      "cell_type": "markdown",
      "metadata": {
        "id": "stuck-smoke"
      },
      "source": [
        "Each time `flip_coin` is invoked, it results in a 'H' or a 'T'."
      ],
      "id": "stuck-smoke"
    },
    {
      "cell_type": "code",
      "metadata": {
        "id": "considerable-understanding",
        "colab": {
          "base_uri": "https://localhost:8080/"
        },
        "outputId": "d71fb058-f841-4673-9435-2f75a5591aa6"
      },
      "source": [
        "# déclarons une liste que l'on passera la valeur\n",
        "# obtenue à chaque fois qu'on appel flip_coin()\n",
        "n_simulate = 500\n",
        "liste = [flip_coin() for i in range(n_simulate)]\n",
        "liste.count('H')"
      ],
      "id": "considerable-understanding",
      "execution_count": 210,
      "outputs": [
        {
          "output_type": "execute_result",
          "data": {
            "text/plain": [
              "380"
            ]
          },
          "metadata": {
            "tags": []
          },
          "execution_count": 210
        }
      ]
    },
    {
      "cell_type": "markdown",
      "metadata": {
        "id": "j1h1lmCNgTRj"
      },
      "source": [
        "On constate qu'après 500 simulation nous obtenons une valeur qui s'approche de 375. Ce qui signifie que sur les 500 simulations effectuées, on a **357 fois (environ 75%) le résultat 'H'.**<br><br>\n",
        "Essayons à présent de compter à la fois le nombre de **'H'** et de **'T'** puis affichons leur probabilité"
      ],
      "id": "j1h1lmCNgTRj"
    },
    {
      "cell_type": "code",
      "metadata": {
        "id": "charged-prime",
        "colab": {
          "base_uri": "https://localhost:8080/"
        },
        "outputId": "8303ca67-1884-4130-8651-092ebe4b9c61"
      },
      "source": [
        "compteurH, compteurT, n_iter = 0, 0, 100\n",
        "\n",
        "for i in range(n_iter):\n",
        "    resultat = flip_coin()\n",
        "    if resultat == 'H':\n",
        "        compteurH += 1\n",
        "    else:\n",
        "        compteurT += 1\n",
        "\n",
        "print(f\"compteurH : {compteurH} - compteurT : {compteurT}\")\n",
        "print(f\"p_compteurH : {compteurH/n_iter} - p_compteurT : {compteurT/n_iter}\")"
      ],
      "id": "charged-prime",
      "execution_count": 211,
      "outputs": [
        {
          "output_type": "stream",
          "text": [
            "compteurH : 73 - compteurT : 27\n",
            "p_compteurH : 0.73 - p_compteurT : 0.27\n"
          ],
          "name": "stdout"
        }
      ]
    },
    {
      "cell_type": "markdown",
      "metadata": {
        "id": "ar2ICNUoCizA"
      },
      "source": [
        "**Exercice** Reecrivez flip_coin de maniére plus propre avec comme paramétre la probabilité p"
      ],
      "id": "ar2ICNUoCizA"
    },
    {
      "cell_type": "code",
      "metadata": {
        "id": "WWtd1xZkCd6V"
      },
      "source": [
        ""
      ],
      "id": "WWtd1xZkCd6V",
      "execution_count": 211,
      "outputs": []
    },
    {
      "cell_type": "markdown",
      "metadata": {
        "id": "close-excuse"
      },
      "source": [
        "**Exercice:** Ecrire une fonction qui permet de réaliser des experiences aléatoires pour un nombre déterminé  de fois donné. La fonction retourne une liste de résultats"
      ],
      "id": "close-excuse"
    },
    {
      "cell_type": "code",
      "metadata": {
        "id": "historic-bridge"
      },
      "source": [
        "def perform_experiment(experiment, n):\n",
        "    \"\"\"Performs an experiment n times and returns a list of results\"\"\"\n",
        "    results = []\n",
        "    for _ in range(n):\n",
        "        results.append(experiment())\n",
        "    return results"
      ],
      "id": "historic-bridge",
      "execution_count": 212,
      "outputs": []
    },
    {
      "cell_type": "markdown",
      "metadata": {
        "id": "secure-track"
      },
      "source": [
        "We can now simulate 10 coin tosses using `flip_coin` and get the results."
      ],
      "id": "secure-track"
    },
    {
      "cell_type": "code",
      "metadata": {
        "id": "deluxe-recording",
        "colab": {
          "base_uri": "https://localhost:8080/"
        },
        "outputId": "3b1c312b-bca7-4ced-9123-bbf30f0299e1"
      },
      "source": [
        "num_experiments = 1000\n",
        "results = perform_experiment(flip_coin, num_experiments)\n",
        "results"
      ],
      "id": "deluxe-recording",
      "execution_count": 213,
      "outputs": [
        {
          "output_type": "execute_result",
          "data": {
            "text/plain": [
              "['H',\n",
              " 'H',\n",
              " 'H',\n",
              " 'H',\n",
              " 'H',\n",
              " 'H',\n",
              " 'H',\n",
              " 'T',\n",
              " 'T',\n",
              " 'H',\n",
              " 'H',\n",
              " 'H',\n",
              " 'H',\n",
              " 'H',\n",
              " 'T',\n",
              " 'H',\n",
              " 'T',\n",
              " 'H',\n",
              " 'H',\n",
              " 'H',\n",
              " 'H',\n",
              " 'H',\n",
              " 'H',\n",
              " 'T',\n",
              " 'H',\n",
              " 'H',\n",
              " 'H',\n",
              " 'H',\n",
              " 'H',\n",
              " 'T',\n",
              " 'T',\n",
              " 'T',\n",
              " 'T',\n",
              " 'H',\n",
              " 'H',\n",
              " 'T',\n",
              " 'H',\n",
              " 'H',\n",
              " 'H',\n",
              " 'T',\n",
              " 'H',\n",
              " 'T',\n",
              " 'H',\n",
              " 'H',\n",
              " 'H',\n",
              " 'H',\n",
              " 'T',\n",
              " 'H',\n",
              " 'H',\n",
              " 'H',\n",
              " 'H',\n",
              " 'H',\n",
              " 'T',\n",
              " 'H',\n",
              " 'H',\n",
              " 'H',\n",
              " 'H',\n",
              " 'H',\n",
              " 'H',\n",
              " 'H',\n",
              " 'H',\n",
              " 'T',\n",
              " 'T',\n",
              " 'H',\n",
              " 'T',\n",
              " 'H',\n",
              " 'H',\n",
              " 'H',\n",
              " 'H',\n",
              " 'T',\n",
              " 'H',\n",
              " 'T',\n",
              " 'H',\n",
              " 'T',\n",
              " 'H',\n",
              " 'H',\n",
              " 'H',\n",
              " 'H',\n",
              " 'H',\n",
              " 'T',\n",
              " 'H',\n",
              " 'H',\n",
              " 'T',\n",
              " 'H',\n",
              " 'H',\n",
              " 'T',\n",
              " 'H',\n",
              " 'H',\n",
              " 'H',\n",
              " 'H',\n",
              " 'T',\n",
              " 'H',\n",
              " 'H',\n",
              " 'T',\n",
              " 'H',\n",
              " 'H',\n",
              " 'H',\n",
              " 'H',\n",
              " 'H',\n",
              " 'H',\n",
              " 'H',\n",
              " 'H',\n",
              " 'H',\n",
              " 'H',\n",
              " 'H',\n",
              " 'H',\n",
              " 'T',\n",
              " 'H',\n",
              " 'H',\n",
              " 'T',\n",
              " 'H',\n",
              " 'T',\n",
              " 'T',\n",
              " 'H',\n",
              " 'H',\n",
              " 'H',\n",
              " 'H',\n",
              " 'H',\n",
              " 'T',\n",
              " 'H',\n",
              " 'H',\n",
              " 'H',\n",
              " 'T',\n",
              " 'H',\n",
              " 'H',\n",
              " 'T',\n",
              " 'H',\n",
              " 'H',\n",
              " 'T',\n",
              " 'H',\n",
              " 'H',\n",
              " 'H',\n",
              " 'T',\n",
              " 'T',\n",
              " 'H',\n",
              " 'H',\n",
              " 'H',\n",
              " 'H',\n",
              " 'H',\n",
              " 'T',\n",
              " 'T',\n",
              " 'T',\n",
              " 'H',\n",
              " 'H',\n",
              " 'T',\n",
              " 'H',\n",
              " 'H',\n",
              " 'H',\n",
              " 'H',\n",
              " 'H',\n",
              " 'H',\n",
              " 'H',\n",
              " 'T',\n",
              " 'H',\n",
              " 'H',\n",
              " 'H',\n",
              " 'H',\n",
              " 'T',\n",
              " 'H',\n",
              " 'H',\n",
              " 'H',\n",
              " 'H',\n",
              " 'T',\n",
              " 'H',\n",
              " 'H',\n",
              " 'H',\n",
              " 'H',\n",
              " 'H',\n",
              " 'H',\n",
              " 'H',\n",
              " 'T',\n",
              " 'T',\n",
              " 'H',\n",
              " 'T',\n",
              " 'H',\n",
              " 'H',\n",
              " 'H',\n",
              " 'H',\n",
              " 'T',\n",
              " 'H',\n",
              " 'T',\n",
              " 'H',\n",
              " 'H',\n",
              " 'H',\n",
              " 'H',\n",
              " 'T',\n",
              " 'H',\n",
              " 'H',\n",
              " 'T',\n",
              " 'H',\n",
              " 'H',\n",
              " 'H',\n",
              " 'H',\n",
              " 'H',\n",
              " 'H',\n",
              " 'H',\n",
              " 'H',\n",
              " 'H',\n",
              " 'H',\n",
              " 'T',\n",
              " 'H',\n",
              " 'H',\n",
              " 'H',\n",
              " 'T',\n",
              " 'H',\n",
              " 'H',\n",
              " 'H',\n",
              " 'H',\n",
              " 'T',\n",
              " 'H',\n",
              " 'T',\n",
              " 'H',\n",
              " 'H',\n",
              " 'T',\n",
              " 'T',\n",
              " 'H',\n",
              " 'T',\n",
              " 'H',\n",
              " 'H',\n",
              " 'H',\n",
              " 'H',\n",
              " 'H',\n",
              " 'H',\n",
              " 'H',\n",
              " 'T',\n",
              " 'T',\n",
              " 'H',\n",
              " 'H',\n",
              " 'T',\n",
              " 'H',\n",
              " 'H',\n",
              " 'H',\n",
              " 'H',\n",
              " 'H',\n",
              " 'H',\n",
              " 'H',\n",
              " 'H',\n",
              " 'H',\n",
              " 'H',\n",
              " 'H',\n",
              " 'H',\n",
              " 'H',\n",
              " 'H',\n",
              " 'H',\n",
              " 'H',\n",
              " 'T',\n",
              " 'H',\n",
              " 'H',\n",
              " 'H',\n",
              " 'T',\n",
              " 'T',\n",
              " 'H',\n",
              " 'H',\n",
              " 'H',\n",
              " 'H',\n",
              " 'T',\n",
              " 'H',\n",
              " 'H',\n",
              " 'H',\n",
              " 'H',\n",
              " 'T',\n",
              " 'T',\n",
              " 'H',\n",
              " 'T',\n",
              " 'H',\n",
              " 'H',\n",
              " 'H',\n",
              " 'H',\n",
              " 'H',\n",
              " 'T',\n",
              " 'H',\n",
              " 'T',\n",
              " 'H',\n",
              " 'H',\n",
              " 'T',\n",
              " 'H',\n",
              " 'T',\n",
              " 'H',\n",
              " 'T',\n",
              " 'H',\n",
              " 'H',\n",
              " 'H',\n",
              " 'H',\n",
              " 'H',\n",
              " 'H',\n",
              " 'H',\n",
              " 'H',\n",
              " 'H',\n",
              " 'H',\n",
              " 'H',\n",
              " 'T',\n",
              " 'H',\n",
              " 'H',\n",
              " 'H',\n",
              " 'T',\n",
              " 'T',\n",
              " 'H',\n",
              " 'H',\n",
              " 'H',\n",
              " 'H',\n",
              " 'H',\n",
              " 'T',\n",
              " 'T',\n",
              " 'H',\n",
              " 'H',\n",
              " 'T',\n",
              " 'T',\n",
              " 'H',\n",
              " 'H',\n",
              " 'H',\n",
              " 'H',\n",
              " 'H',\n",
              " 'H',\n",
              " 'H',\n",
              " 'T',\n",
              " 'T',\n",
              " 'H',\n",
              " 'H',\n",
              " 'H',\n",
              " 'H',\n",
              " 'H',\n",
              " 'T',\n",
              " 'H',\n",
              " 'T',\n",
              " 'H',\n",
              " 'H',\n",
              " 'H',\n",
              " 'T',\n",
              " 'T',\n",
              " 'H',\n",
              " 'T',\n",
              " 'H',\n",
              " 'H',\n",
              " 'H',\n",
              " 'H',\n",
              " 'H',\n",
              " 'H',\n",
              " 'H',\n",
              " 'H',\n",
              " 'T',\n",
              " 'H',\n",
              " 'H',\n",
              " 'T',\n",
              " 'T',\n",
              " 'H',\n",
              " 'H',\n",
              " 'H',\n",
              " 'T',\n",
              " 'H',\n",
              " 'H',\n",
              " 'H',\n",
              " 'T',\n",
              " 'T',\n",
              " 'H',\n",
              " 'H',\n",
              " 'T',\n",
              " 'H',\n",
              " 'H',\n",
              " 'H',\n",
              " 'H',\n",
              " 'H',\n",
              " 'T',\n",
              " 'T',\n",
              " 'H',\n",
              " 'T',\n",
              " 'H',\n",
              " 'H',\n",
              " 'H',\n",
              " 'T',\n",
              " 'H',\n",
              " 'T',\n",
              " 'H',\n",
              " 'H',\n",
              " 'T',\n",
              " 'H',\n",
              " 'H',\n",
              " 'H',\n",
              " 'H',\n",
              " 'T',\n",
              " 'H',\n",
              " 'T',\n",
              " 'H',\n",
              " 'H',\n",
              " 'H',\n",
              " 'T',\n",
              " 'H',\n",
              " 'H',\n",
              " 'H',\n",
              " 'H',\n",
              " 'H',\n",
              " 'H',\n",
              " 'H',\n",
              " 'H',\n",
              " 'T',\n",
              " 'H',\n",
              " 'H',\n",
              " 'H',\n",
              " 'H',\n",
              " 'T',\n",
              " 'H',\n",
              " 'H',\n",
              " 'T',\n",
              " 'H',\n",
              " 'H',\n",
              " 'T',\n",
              " 'H',\n",
              " 'H',\n",
              " 'H',\n",
              " 'H',\n",
              " 'H',\n",
              " 'H',\n",
              " 'T',\n",
              " 'H',\n",
              " 'T',\n",
              " 'H',\n",
              " 'T',\n",
              " 'H',\n",
              " 'H',\n",
              " 'H',\n",
              " 'H',\n",
              " 'H',\n",
              " 'T',\n",
              " 'T',\n",
              " 'H',\n",
              " 'H',\n",
              " 'H',\n",
              " 'H',\n",
              " 'H',\n",
              " 'H',\n",
              " 'T',\n",
              " 'H',\n",
              " 'H',\n",
              " 'H',\n",
              " 'H',\n",
              " 'H',\n",
              " 'T',\n",
              " 'H',\n",
              " 'H',\n",
              " 'T',\n",
              " 'H',\n",
              " 'T',\n",
              " 'H',\n",
              " 'T',\n",
              " 'H',\n",
              " 'T',\n",
              " 'H',\n",
              " 'H',\n",
              " 'T',\n",
              " 'H',\n",
              " 'H',\n",
              " 'H',\n",
              " 'H',\n",
              " 'T',\n",
              " 'H',\n",
              " 'H',\n",
              " 'T',\n",
              " 'H',\n",
              " 'H',\n",
              " 'H',\n",
              " 'H',\n",
              " 'H',\n",
              " 'H',\n",
              " 'H',\n",
              " 'H',\n",
              " 'H',\n",
              " 'T',\n",
              " 'H',\n",
              " 'H',\n",
              " 'T',\n",
              " 'H',\n",
              " 'H',\n",
              " 'H',\n",
              " 'H',\n",
              " 'T',\n",
              " 'H',\n",
              " 'H',\n",
              " 'H',\n",
              " 'H',\n",
              " 'H',\n",
              " 'T',\n",
              " 'H',\n",
              " 'T',\n",
              " 'H',\n",
              " 'T',\n",
              " 'T',\n",
              " 'T',\n",
              " 'H',\n",
              " 'H',\n",
              " 'H',\n",
              " 'H',\n",
              " 'H',\n",
              " 'T',\n",
              " 'H',\n",
              " 'H',\n",
              " 'H',\n",
              " 'T',\n",
              " 'H',\n",
              " 'H',\n",
              " 'H',\n",
              " 'H',\n",
              " 'H',\n",
              " 'H',\n",
              " 'H',\n",
              " 'H',\n",
              " 'H',\n",
              " 'T',\n",
              " 'H',\n",
              " 'H',\n",
              " 'H',\n",
              " 'T',\n",
              " 'H',\n",
              " 'H',\n",
              " 'T',\n",
              " 'T',\n",
              " 'H',\n",
              " 'H',\n",
              " 'H',\n",
              " 'H',\n",
              " 'H',\n",
              " 'H',\n",
              " 'H',\n",
              " 'H',\n",
              " 'T',\n",
              " 'T',\n",
              " 'H',\n",
              " 'T',\n",
              " 'H',\n",
              " 'H',\n",
              " 'H',\n",
              " 'T',\n",
              " 'H',\n",
              " 'H',\n",
              " 'T',\n",
              " 'H',\n",
              " 'H',\n",
              " 'H',\n",
              " 'H',\n",
              " 'H',\n",
              " 'H',\n",
              " 'H',\n",
              " 'H',\n",
              " 'H',\n",
              " 'H',\n",
              " 'H',\n",
              " 'T',\n",
              " 'H',\n",
              " 'H',\n",
              " 'H',\n",
              " 'H',\n",
              " 'H',\n",
              " 'H',\n",
              " 'H',\n",
              " 'T',\n",
              " 'T',\n",
              " 'H',\n",
              " 'H',\n",
              " 'H',\n",
              " 'T',\n",
              " 'H',\n",
              " 'H',\n",
              " 'T',\n",
              " 'H',\n",
              " 'H',\n",
              " 'H',\n",
              " 'H',\n",
              " 'T',\n",
              " 'H',\n",
              " 'H',\n",
              " 'T',\n",
              " 'H',\n",
              " 'T',\n",
              " 'H',\n",
              " 'H',\n",
              " 'H',\n",
              " 'T',\n",
              " 'H',\n",
              " 'H',\n",
              " 'T',\n",
              " 'H',\n",
              " 'H',\n",
              " 'H',\n",
              " 'H',\n",
              " 'H',\n",
              " 'H',\n",
              " 'H',\n",
              " 'T',\n",
              " 'H',\n",
              " 'H',\n",
              " 'T',\n",
              " 'H',\n",
              " 'H',\n",
              " 'H',\n",
              " 'T',\n",
              " 'H',\n",
              " 'H',\n",
              " 'T',\n",
              " 'H',\n",
              " 'H',\n",
              " 'H',\n",
              " 'T',\n",
              " 'H',\n",
              " 'H',\n",
              " 'T',\n",
              " 'H',\n",
              " 'T',\n",
              " 'T',\n",
              " 'H',\n",
              " 'H',\n",
              " 'H',\n",
              " 'H',\n",
              " 'H',\n",
              " 'T',\n",
              " 'H',\n",
              " 'T',\n",
              " 'T',\n",
              " 'T',\n",
              " 'H',\n",
              " 'H',\n",
              " 'H',\n",
              " 'H',\n",
              " 'H',\n",
              " 'H',\n",
              " 'H',\n",
              " 'T',\n",
              " 'T',\n",
              " 'H',\n",
              " 'H',\n",
              " 'H',\n",
              " 'H',\n",
              " 'T',\n",
              " 'H',\n",
              " 'H',\n",
              " 'H',\n",
              " 'T',\n",
              " 'T',\n",
              " 'H',\n",
              " 'T',\n",
              " 'H',\n",
              " 'H',\n",
              " 'T',\n",
              " 'H',\n",
              " 'T',\n",
              " 'H',\n",
              " 'T',\n",
              " 'H',\n",
              " 'T',\n",
              " 'T',\n",
              " 'H',\n",
              " 'H',\n",
              " 'H',\n",
              " 'H',\n",
              " 'H',\n",
              " 'H',\n",
              " 'T',\n",
              " 'H',\n",
              " 'H',\n",
              " 'H',\n",
              " 'H',\n",
              " 'H',\n",
              " 'T',\n",
              " 'H',\n",
              " 'H',\n",
              " 'T',\n",
              " 'H',\n",
              " 'T',\n",
              " 'H',\n",
              " 'H',\n",
              " 'H',\n",
              " 'H',\n",
              " 'H',\n",
              " 'H',\n",
              " 'H',\n",
              " 'H',\n",
              " 'T',\n",
              " 'H',\n",
              " 'H',\n",
              " 'H',\n",
              " 'T',\n",
              " 'T',\n",
              " 'H',\n",
              " 'H',\n",
              " 'T',\n",
              " 'T',\n",
              " 'T',\n",
              " 'H',\n",
              " 'T',\n",
              " 'H',\n",
              " 'H',\n",
              " 'T',\n",
              " 'H',\n",
              " 'T',\n",
              " 'H',\n",
              " 'H',\n",
              " 'T',\n",
              " 'T',\n",
              " 'H',\n",
              " 'H',\n",
              " 'H',\n",
              " 'H',\n",
              " 'H',\n",
              " 'H',\n",
              " 'H',\n",
              " 'H',\n",
              " 'H',\n",
              " 'H',\n",
              " 'H',\n",
              " 'H',\n",
              " 'T',\n",
              " 'H',\n",
              " 'H',\n",
              " 'H',\n",
              " 'H',\n",
              " 'H',\n",
              " 'T',\n",
              " 'H',\n",
              " 'T',\n",
              " 'H',\n",
              " 'T',\n",
              " 'H',\n",
              " 'H',\n",
              " 'T',\n",
              " 'H',\n",
              " 'H',\n",
              " 'H',\n",
              " 'T',\n",
              " 'H',\n",
              " 'H',\n",
              " 'T',\n",
              " 'H',\n",
              " 'H',\n",
              " 'T',\n",
              " 'T',\n",
              " 'H',\n",
              " 'H',\n",
              " 'T',\n",
              " 'H',\n",
              " 'T',\n",
              " 'H',\n",
              " 'H',\n",
              " 'H',\n",
              " 'H',\n",
              " 'H',\n",
              " 'H',\n",
              " 'H',\n",
              " 'H',\n",
              " 'H',\n",
              " 'H',\n",
              " 'H',\n",
              " 'T',\n",
              " 'H',\n",
              " 'H',\n",
              " 'H',\n",
              " 'H',\n",
              " 'H',\n",
              " 'H',\n",
              " 'H',\n",
              " 'T',\n",
              " 'H',\n",
              " 'H',\n",
              " 'H',\n",
              " 'H',\n",
              " 'H',\n",
              " 'H',\n",
              " 'T',\n",
              " 'H',\n",
              " 'H',\n",
              " 'H',\n",
              " 'H',\n",
              " 'H',\n",
              " 'H',\n",
              " 'H',\n",
              " 'T',\n",
              " 'T',\n",
              " 'H',\n",
              " 'T',\n",
              " 'H',\n",
              " 'H',\n",
              " 'T',\n",
              " 'T',\n",
              " 'H',\n",
              " 'H',\n",
              " 'H',\n",
              " 'H',\n",
              " 'H',\n",
              " 'H',\n",
              " 'T',\n",
              " 'H',\n",
              " 'H',\n",
              " 'H',\n",
              " 'H',\n",
              " 'T',\n",
              " 'H',\n",
              " 'H',\n",
              " 'T',\n",
              " 'H',\n",
              " 'H',\n",
              " 'H',\n",
              " 'H',\n",
              " 'H',\n",
              " 'H',\n",
              " 'H',\n",
              " 'T',\n",
              " 'H',\n",
              " 'T',\n",
              " 'H',\n",
              " 'H',\n",
              " 'H',\n",
              " 'H',\n",
              " 'H',\n",
              " 'H',\n",
              " 'H',\n",
              " 'T',\n",
              " 'H',\n",
              " 'H',\n",
              " 'H',\n",
              " 'H',\n",
              " 'T',\n",
              " 'T',\n",
              " 'H',\n",
              " 'T',\n",
              " 'T',\n",
              " 'H',\n",
              " 'T',\n",
              " 'H',\n",
              " 'H',\n",
              " 'H',\n",
              " 'H',\n",
              " 'H',\n",
              " 'T',\n",
              " 'H',\n",
              " 'H',\n",
              " 'H',\n",
              " 'H',\n",
              " 'H',\n",
              " 'H',\n",
              " 'H',\n",
              " 'H',\n",
              " 'H',\n",
              " 'H',\n",
              " 'H',\n",
              " 'H',\n",
              " 'H',\n",
              " 'H',\n",
              " 'H',\n",
              " 'T',\n",
              " 'H',\n",
              " 'H',\n",
              " 'H',\n",
              " 'H',\n",
              " 'H',\n",
              " 'T',\n",
              " 'T',\n",
              " 'T',\n",
              " 'H',\n",
              " 'H',\n",
              " 'T',\n",
              " 'H',\n",
              " 'H',\n",
              " 'H',\n",
              " 'H',\n",
              " 'H',\n",
              " 'H',\n",
              " 'H',\n",
              " 'T',\n",
              " 'T',\n",
              " 'T',\n",
              " 'H',\n",
              " 'H',\n",
              " 'H',\n",
              " 'H',\n",
              " 'T',\n",
              " 'H',\n",
              " 'H',\n",
              " 'H',\n",
              " 'H',\n",
              " 'T',\n",
              " 'T',\n",
              " 'H',\n",
              " 'H',\n",
              " 'T',\n",
              " 'H',\n",
              " 'H',\n",
              " 'H',\n",
              " 'H',\n",
              " 'H',\n",
              " 'T',\n",
              " 'T',\n",
              " 'H',\n",
              " 'H',\n",
              " 'H',\n",
              " 'H',\n",
              " 'H',\n",
              " 'H',\n",
              " 'T',\n",
              " 'H',\n",
              " 'H',\n",
              " 'T',\n",
              " 'H',\n",
              " 'T',\n",
              " 'H',\n",
              " 'H',\n",
              " 'H',\n",
              " 'H',\n",
              " 'T',\n",
              " 'H',\n",
              " 'H',\n",
              " 'H',\n",
              " 'H',\n",
              " 'H',\n",
              " 'H',\n",
              " 'H',\n",
              " 'T',\n",
              " 'H',\n",
              " 'H',\n",
              " 'H',\n",
              " 'H',\n",
              " 'H',\n",
              " 'H',\n",
              " 'T',\n",
              " 'H',\n",
              " 'T',\n",
              " 'H',\n",
              " 'H',\n",
              " 'T',\n",
              " 'H',\n",
              " 'T',\n",
              " 'H',\n",
              " 'H',\n",
              " 'H',\n",
              " 'H',\n",
              " 'T',\n",
              " 'H',\n",
              " 'H',\n",
              " 'H',\n",
              " 'H',\n",
              " 'H',\n",
              " 'H',\n",
              " 'T',\n",
              " 'T',\n",
              " 'T',\n",
              " 'H',\n",
              " 'H',\n",
              " 'H',\n",
              " 'H',\n",
              " 'H',\n",
              " 'T',\n",
              " 'H',\n",
              " 'T',\n",
              " 'H',\n",
              " 'H',\n",
              " 'T',\n",
              " 'T',\n",
              " 'T',\n",
              " 'H',\n",
              " 'T',\n",
              " 'H',\n",
              " 'H',\n",
              " 'T',\n",
              " 'H',\n",
              " 'T',\n",
              " 'T',\n",
              " 'H',\n",
              " 'H',\n",
              " 'H',\n",
              " 'H',\n",
              " 'H',\n",
              " 'H',\n",
              " 'H',\n",
              " 'H',\n",
              " 'T',\n",
              " 'T',\n",
              " 'T',\n",
              " 'H',\n",
              " 'H',\n",
              " 'H',\n",
              " 'H',\n",
              " 'H',\n",
              " 'H',\n",
              " 'H',\n",
              " 'H',\n",
              " 'H',\n",
              " 'T',\n",
              " 'T',\n",
              " 'H',\n",
              " 'H',\n",
              " 'T',\n",
              " 'T',\n",
              " 'H',\n",
              " 'T',\n",
              " 'H',\n",
              " 'H',\n",
              " 'H',\n",
              " 'H',\n",
              " 'T',\n",
              " 'H',\n",
              " 'H',\n",
              " 'H',\n",
              " 'H',\n",
              " 'H',\n",
              " 'H']"
            ]
          },
          "metadata": {
            "tags": []
          },
          "execution_count": 213
        }
      ]
    },
    {
      "cell_type": "markdown",
      "metadata": {
        "id": "horizontal-techno"
      },
      "source": [
        "Pour estimer la probabilité de \"prendre une tête\", nous devons compter le nombre de résultats qui correspondent à cette condition.\n",
        "\n",
        "> **Exercice**: Estimer la probabilité \"d'avoir une tête\" en comptant le nombre de têtes dans `results` et en appliquant la fonction` approx_probability`."
      ],
      "id": "horizontal-techno"
    },
    {
      "cell_type": "code",
      "metadata": {
        "id": "combined-terrain",
        "colab": {
          "base_uri": "https://localhost:8080/"
        },
        "outputId": "b469362b-515d-49de-aa98-9e2b7a62fa28"
      },
      "source": [
        "estimation_prob = approx_probability(results.count('T'), len(results))\n",
        "estimation_prob"
      ],
      "id": "combined-terrain",
      "execution_count": 214,
      "outputs": [
        {
          "output_type": "execute_result",
          "data": {
            "text/plain": [
              "0.262"
            ]
          },
          "metadata": {
            "tags": []
          },
          "execution_count": 214
        }
      ]
    },
    {
      "cell_type": "markdown",
      "metadata": {
        "id": "liked-choir"
      },
      "source": [
        "Le comptage manuel des résultats correspondants est fastidieux et sujet aux erreurs, définissons donc une fonction pour compter le nombre de résultats qui correspondent à une condition donnée."
      ],
      "id": "liked-choir"
    },
    {
      "cell_type": "code",
      "metadata": {
        "id": "smoking-national"
      },
      "source": [
        "def count_matching(condition, results):\n",
        "    \"\"\"Counts the number of results matching a given condition\"\"\"\n",
        "    matched = 0\n",
        "    for result in results:\n",
        "        if condition(result):\n",
        "            matched += 1\n",
        "    return matched"
      ],
      "id": "smoking-national",
      "execution_count": 215,
      "outputs": []
    },
    {
      "cell_type": "markdown",
      "metadata": {
        "id": "opening-train"
      },
      "source": [
        "**Remarque** La condition d'argument est elle-même une fonction qui accepte un seul résultat comme argument, et renvoie True si le résultat satisfait la condition, et False dans le cas contraire.\n",
        "\n",
        "Voici une condition is_head qui vérifie si un résultat est une tête."
      ],
      "id": "opening-train"
    },
    {
      "cell_type": "code",
      "metadata": {
        "id": "oriented-latex"
      },
      "source": [
        "def is_head(result):\n",
        "    \"\"\"Checks if a result is head\"\"\"\n",
        "    return result == 'H'"
      ],
      "id": "oriented-latex",
      "execution_count": 216,
      "outputs": []
    },
    {
      "cell_type": "code",
      "metadata": {
        "id": "minute-rally",
        "colab": {
          "base_uri": "https://localhost:8080/"
        },
        "outputId": "6d362c16-8585-4b0e-8bf6-2bb14b012f44"
      },
      "source": [
        "is_head('H')"
      ],
      "id": "minute-rally",
      "execution_count": 217,
      "outputs": [
        {
          "output_type": "execute_result",
          "data": {
            "text/plain": [
              "True"
            ]
          },
          "metadata": {
            "tags": []
          },
          "execution_count": 217
        }
      ]
    },
    {
      "cell_type": "code",
      "metadata": {
        "id": "aggressive-patient",
        "colab": {
          "base_uri": "https://localhost:8080/"
        },
        "outputId": "8d6c2f58-9e8e-4b09-9c98-904a7d438cbd"
      },
      "source": [
        "is_head('T')"
      ],
      "id": "aggressive-patient",
      "execution_count": 218,
      "outputs": [
        {
          "output_type": "execute_result",
          "data": {
            "text/plain": [
              "False"
            ]
          },
          "metadata": {
            "tags": []
          },
          "execution_count": 218
        }
      ]
    },
    {
      "cell_type": "markdown",
      "metadata": {
        "id": "needed-seventh"
      },
      "source": [
        "**Exercice:** Nous pouvons utiliser `is_head` et` count_matching` pour compter le nombre de têtes dans `results`."
      ],
      "id": "needed-seventh"
    },
    {
      "cell_type": "code",
      "metadata": {
        "id": "industrial-start",
        "colab": {
          "base_uri": "https://localhost:8080/"
        },
        "outputId": "133be114-31f2-403a-a18a-072209c630c1"
      },
      "source": [
        "nb_head = count_matching(is_head, results)\n",
        "nb_head"
      ],
      "id": "industrial-start",
      "execution_count": 219,
      "outputs": [
        {
          "output_type": "execute_result",
          "data": {
            "text/plain": [
              "738"
            ]
          },
          "metadata": {
            "tags": []
          },
          "execution_count": 219
        }
      ]
    },
    {
      "cell_type": "markdown",
      "metadata": {
        "id": "aquatic-texas"
      },
      "source": [
        "**Exercice**  utiliser `approx_probability` pour estimer la probabilité d'avoir une tête en jetant la pièce donnée."
      ],
      "id": "aquatic-texas"
    },
    {
      "cell_type": "code",
      "metadata": {
        "id": "accomplished-douglas",
        "colab": {
          "base_uri": "https://localhost:8080/"
        },
        "outputId": "4735c489-8acf-4347-d588-3c7f57c246bd"
      },
      "source": [
        "p_app_head = approx_probability(nb_head, len(results))\n",
        "p_app_head"
      ],
      "id": "accomplished-douglas",
      "execution_count": 220,
      "outputs": [
        {
          "output_type": "execute_result",
          "data": {
            "text/plain": [
              "0.738"
            ]
          },
          "metadata": {
            "tags": []
          },
          "execution_count": 220
        }
      ]
    },
    {
      "cell_type": "markdown",
      "metadata": {
        "id": "instructional-listening"
      },
      "source": [
        "On dirait que la probabilité d'obtenir une face en lançant la pièce donnée est d'environ 0,7. Gardez à l'esprit qu'il s'agit d'une estimation de la probabilité non *vraie* de la condition.\n",
        "\n",
        "Pour améliorer notre estimation, il serait utile de répéter l'expérience 100, 1000 ou 10000 fois. Completer la fonction  `estimation_probabilité` qui effectue une expérience un nombre de fois donné et estime la probabilité d'une condition."
      ],
      "id": "instructional-listening"
    },
    {
      "cell_type": "code",
      "metadata": {
        "id": "extended-husband"
      },
      "source": [
        "def estimate_probability(experiment, condition, n):\n",
        "    \"\"\"Performs an experiment `n` times and estimates the probability of a condition\"\"\"\n",
        "    results = perform_experiment(experiment, n)\n",
        "    matched = count_matching(condition, results)\n",
        "    return approx_probability(matched, n)"
      ],
      "id": "extended-husband",
      "execution_count": 221,
      "outputs": []
    },
    {
      "cell_type": "markdown",
      "metadata": {
        "id": "quiet-senior"
      },
      "source": [
        "We can now improve our probability estimate."
      ],
      "id": "quiet-senior"
    },
    {
      "cell_type": "code",
      "metadata": {
        "id": "other-approval",
        "colab": {
          "base_uri": "https://localhost:8080/"
        },
        "outputId": "8f6e07c5-2e22-435d-8812-9925e2a70006"
      },
      "source": [
        "estimate_probability(flip_coin, is_head, 100)"
      ],
      "id": "other-approval",
      "execution_count": 222,
      "outputs": [
        {
          "output_type": "execute_result",
          "data": {
            "text/plain": [
              "0.74"
            ]
          },
          "metadata": {
            "tags": []
          },
          "execution_count": 222
        }
      ]
    },
    {
      "cell_type": "code",
      "metadata": {
        "id": "terminal-yahoo",
        "colab": {
          "base_uri": "https://localhost:8080/"
        },
        "outputId": "9c24b5b9-68f9-4265-9315-06c4eb0c0d55"
      },
      "source": [
        "estimate_probability(flip_coin, is_head, 1000)"
      ],
      "id": "terminal-yahoo",
      "execution_count": 223,
      "outputs": [
        {
          "output_type": "execute_result",
          "data": {
            "text/plain": [
              "0.752"
            ]
          },
          "metadata": {
            "tags": []
          },
          "execution_count": 223
        }
      ]
    },
    {
      "cell_type": "code",
      "metadata": {
        "id": "gorgeous-weather",
        "colab": {
          "base_uri": "https://localhost:8080/"
        },
        "outputId": "ee8b5e6b-f5a2-44e6-9f35-6666ada52831"
      },
      "source": [
        "estimate_probability(flip_coin, is_head, 10000)"
      ],
      "id": "gorgeous-weather",
      "execution_count": 224,
      "outputs": [
        {
          "output_type": "execute_result",
          "data": {
            "text/plain": [
              "0.7569"
            ]
          },
          "metadata": {
            "tags": []
          },
          "execution_count": 224
        }
      ]
    },
    {
      "cell_type": "code",
      "metadata": {
        "id": "naughty-volleyball",
        "colab": {
          "base_uri": "https://localhost:8080/"
        },
        "outputId": "fa73c699-9685-4e1a-c741-f3d92883fd31"
      },
      "source": [
        "estimate_probability(flip_coin, is_head, 100000)"
      ],
      "id": "naughty-volleyball",
      "execution_count": 225,
      "outputs": [
        {
          "output_type": "execute_result",
          "data": {
            "text/plain": [
              "0.7502"
            ]
          },
          "metadata": {
            "tags": []
          },
          "execution_count": 225
        }
      ]
    },
    {
      "cell_type": "code",
      "metadata": {
        "id": "_yq41TyAipv9"
      },
      "source": [
        "import seaborn as sns"
      ],
      "id": "_yq41TyAipv9",
      "execution_count": 226,
      "outputs": []
    },
    {
      "cell_type": "code",
      "metadata": {
        "id": "Db16whAHiu3i",
        "colab": {
          "base_uri": "https://localhost:8080/"
        },
        "outputId": "7e8cdc60-1f7a-40a2-ce72-94b4bee27189"
      },
      "source": [
        "e_prob = {value:estimate_probability(flip_coin, is_head, value) for value in (100, 1000, 10000, 100000)}\n",
        "e_prob"
      ],
      "id": "Db16whAHiu3i",
      "execution_count": 227,
      "outputs": [
        {
          "output_type": "execute_result",
          "data": {
            "text/plain": [
              "{100: 0.62, 1000: 0.726, 10000: 0.7486, 100000: 0.75117}"
            ]
          },
          "metadata": {
            "tags": []
          },
          "execution_count": 227
        }
      ]
    },
    {
      "cell_type": "code",
      "metadata": {
        "id": "ZWg6YsXjjrP-"
      },
      "source": [
        "import pandas as pd\n",
        "e_prob = pd.DataFrame(list(e_prob.items()),columns = ['nb_experience','resultat_obtenu']) "
      ],
      "id": "ZWg6YsXjjrP-",
      "execution_count": 228,
      "outputs": []
    },
    {
      "cell_type": "code",
      "metadata": {
        "id": "AThp-dyX9BZX",
        "colab": {
          "base_uri": "https://localhost:8080/",
          "height": 175
        },
        "outputId": "37eaaa45-70ef-41aa-c8a4-f5a7158a8419"
      },
      "source": [
        "e_prob"
      ],
      "id": "AThp-dyX9BZX",
      "execution_count": 229,
      "outputs": [
        {
          "output_type": "execute_result",
          "data": {
            "text/html": [
              "<div>\n",
              "<style scoped>\n",
              "    .dataframe tbody tr th:only-of-type {\n",
              "        vertical-align: middle;\n",
              "    }\n",
              "\n",
              "    .dataframe tbody tr th {\n",
              "        vertical-align: top;\n",
              "    }\n",
              "\n",
              "    .dataframe thead th {\n",
              "        text-align: right;\n",
              "    }\n",
              "</style>\n",
              "<table border=\"1\" class=\"dataframe\">\n",
              "  <thead>\n",
              "    <tr style=\"text-align: right;\">\n",
              "      <th></th>\n",
              "      <th>nb_experience</th>\n",
              "      <th>resultat_obtenu</th>\n",
              "    </tr>\n",
              "  </thead>\n",
              "  <tbody>\n",
              "    <tr>\n",
              "      <th>0</th>\n",
              "      <td>100</td>\n",
              "      <td>0.62000</td>\n",
              "    </tr>\n",
              "    <tr>\n",
              "      <th>1</th>\n",
              "      <td>1000</td>\n",
              "      <td>0.72600</td>\n",
              "    </tr>\n",
              "    <tr>\n",
              "      <th>2</th>\n",
              "      <td>10000</td>\n",
              "      <td>0.74860</td>\n",
              "    </tr>\n",
              "    <tr>\n",
              "      <th>3</th>\n",
              "      <td>100000</td>\n",
              "      <td>0.75117</td>\n",
              "    </tr>\n",
              "  </tbody>\n",
              "</table>\n",
              "</div>"
            ],
            "text/plain": [
              "   nb_experience  resultat_obtenu\n",
              "0            100          0.62000\n",
              "1           1000          0.72600\n",
              "2          10000          0.74860\n",
              "3         100000          0.75117"
            ]
          },
          "metadata": {
            "tags": []
          },
          "execution_count": 229
        }
      ]
    },
    {
      "cell_type": "code",
      "metadata": {
        "id": "mnGN-FZejnA8",
        "outputId": "ac239986-69bb-4013-d43a-3860d134c7d1",
        "colab": {
          "base_uri": "https://localhost:8080/",
          "height": 382
        }
      },
      "source": [
        "sns.displot(e_prob['resultat_obtenu'])"
      ],
      "id": "mnGN-FZejnA8",
      "execution_count": 251,
      "outputs": [
        {
          "output_type": "execute_result",
          "data": {
            "text/plain": [
              "<seaborn.axisgrid.FacetGrid at 0x7f49cbe9d990>"
            ]
          },
          "metadata": {
            "tags": []
          },
          "execution_count": 251
        },
        {
          "output_type": "display_data",
          "data": {
            "image/png": "[encoded data removed]",
            "text/plain": [
              "<Figure size 360x360 with 1 Axes>"
            ]
          },
          "metadata": {
            "tags": []
          }
        }
      ]
    },
    {
      "cell_type": "code",
      "metadata": {
        "id": "sEC-Cjavjmfm"
      },
      "source": [
        ""
      ],
      "id": "sEC-Cjavjmfm",
      "execution_count": null,
      "outputs": []
    },
    {
      "cell_type": "code",
      "metadata": {
        "id": "xfVL_ASwNxn9",
        "outputId": "a56fbebd-be9b-415c-de81-1ea6b4be9a4d",
        "colab": {
          "base_uri": "https://localhost:8080/",
          "height": 302
        }
      },
      "source": [
        "sns.barplot(x='nb_experience', y='resultat_obtenu', data=e_prob)"
      ],
      "id": "xfVL_ASwNxn9",
      "execution_count": 250,
      "outputs": [
        {
          "output_type": "execute_result",
          "data": {
            "text/plain": [
              "<matplotlib.axes._subplots.AxesSubplot at 0x7f49d027ae90>"
            ]
          },
          "metadata": {
            "tags": []
          },
          "execution_count": 250
        },
        {
          "output_type": "display_data",
          "data": {
            "image/png": "[encoded data removed]",
            "text/plain": [
              "<Figure size 432x288 with 1 Axes>"
            ]
          },
          "metadata": {
            "tags": []
          }
        }
      ]
    },
    {
      "cell_type": "markdown",
      "metadata": {
        "id": "robust-alert"
      },
      "source": [
        "À mesure que nous augmentons le nombre d'expériences, nous pouvons voir que l'estimation de la probabilité d'obtenir des têtes se rapproche de 0,75, ce qui peut être la *vraie* probabilité d'obtenir une tête. Cette relation peut également être énoncée de la manière suivante:\n",
        "\n",
        "> **Résultat**: La probabilité d'une condition indique la fraction de résultats qui satisfera la condition si l'expérience est répétée un grand nombre de fois.\n",
        "\n",
        "Vous pouvez maintenant répéter l'exercice pour déterminer la probabilité d'avoir une queue.\n",
        "\n",
        "> **Exercice**: Estimer la probabilité d'obtenir une queue lorsque nous retournons la pièce simulée à l'aide de la fonction `flip_coin` définie précédemment. En comparant les probabilités de «tête» et de «queue», pouvez-vous déterminer si la pièce est juste?\n",
        "\n",
        "*Astuce*: Utilisez la fonction `estimation_probabilité` définie ci-dessus, et définissez une condition` is_tail`."
      ],
      "id": "robust-alert"
    },
    {
      "cell_type": "code",
      "metadata": {
        "id": "concerned-dryer"
      },
      "source": [
        "def is_tail(result):\n",
        "    return result == 'T'"
      ],
      "id": "concerned-dryer",
      "execution_count": 230,
      "outputs": []
    },
    {
      "cell_type": "code",
      "metadata": {
        "id": "helpful-fantasy",
        "colab": {
          "base_uri": "https://localhost:8080/"
        },
        "outputId": "a7f3f447-9558-4bde-9e47-f5c3cca8e240"
      },
      "source": [
        "estimate_probability(flip_coin, is_tail, 100)"
      ],
      "id": "helpful-fantasy",
      "execution_count": 231,
      "outputs": [
        {
          "output_type": "execute_result",
          "data": {
            "text/plain": [
              "0.19"
            ]
          },
          "metadata": {
            "tags": []
          },
          "execution_count": 231
        }
      ]
    },
    {
      "cell_type": "code",
      "metadata": {
        "id": "usual-comparison",
        "colab": {
          "base_uri": "https://localhost:8080/"
        },
        "outputId": "d459b0ab-5884-4f48-f0f5-78ce25083edf"
      },
      "source": [
        "estimate_probability(flip_coin, is_tail, 1000)"
      ],
      "id": "usual-comparison",
      "execution_count": 232,
      "outputs": [
        {
          "output_type": "execute_result",
          "data": {
            "text/plain": [
              "0.25"
            ]
          },
          "metadata": {
            "tags": []
          },
          "execution_count": 232
        }
      ]
    },
    {
      "cell_type": "code",
      "metadata": {
        "id": "above-fleet",
        "colab": {
          "base_uri": "https://localhost:8080/"
        },
        "outputId": "c6d38c8a-ded3-4499-a5a9-c5b43ce0ad31"
      },
      "source": [
        "estimate_probability(flip_coin, is_tail, 10000)"
      ],
      "id": "above-fleet",
      "execution_count": 233,
      "outputs": [
        {
          "output_type": "execute_result",
          "data": {
            "text/plain": [
              "0.2525"
            ]
          },
          "metadata": {
            "tags": []
          },
          "execution_count": 233
        }
      ]
    },
    {
      "cell_type": "code",
      "metadata": {
        "id": "tight-explanation",
        "colab": {
          "base_uri": "https://localhost:8080/"
        },
        "outputId": "e9ae4f7d-0c11-46fb-c15d-5173a2293272"
      },
      "source": [
        "estimate_probability(flip_coin, is_tail, 100000)"
      ],
      "id": "tight-explanation",
      "execution_count": 234,
      "outputs": [
        {
          "output_type": "execute_result",
          "data": {
            "text/plain": [
              "0.25014"
            ]
          },
          "metadata": {
            "tags": []
          },
          "execution_count": 234
        }
      ]
    },
    {
      "cell_type": "markdown",
      "metadata": {
        "id": "white-nothing"
      },
      "source": [
        "Pour estimer la probabilité de \"prendre une tête\", nous devons compter le nombre de résultats qui correspondent à cette condition.\n",
        "\n",
        "> **Exercice**: Estimer la probabilité \"d'avoir une tête\" en comptant le nombre de têtes dans `results` et en appliquant la fonction` approx_probability`."
      ],
      "id": "white-nothing"
    },
    {
      "cell_type": "code",
      "metadata": {
        "id": "miniature-hopkins"
      },
      "source": [
        "def roll_die():\n",
        "    \"\"\"Simulates a die roll\"\"\"\n",
        "    from random import random\n",
        "    x = random()\n",
        "    if x < 0.1: return 1\n",
        "    elif x < 0.3: return 2\n",
        "    elif x < 0.6: return 3\n",
        "    elif x < 0.7: return 4\n",
        "    elif x < 0.9: return 5\n",
        "    else: return 6"
      ],
      "id": "miniature-hopkins",
      "execution_count": 235,
      "outputs": []
    },
    {
      "cell_type": "code",
      "metadata": {
        "id": "painted-telescope"
      },
      "source": [
        ""
      ],
      "id": "painted-telescope",
      "execution_count": 235,
      "outputs": []
    },
    {
      "cell_type": "code",
      "metadata": {
        "id": "homeless-fusion"
      },
      "source": [
        ""
      ],
      "id": "homeless-fusion",
      "execution_count": 235,
      "outputs": []
    },
    {
      "cell_type": "code",
      "metadata": {
        "id": "animated-semiconductor"
      },
      "source": [
        ""
      ],
      "id": "animated-semiconductor",
      "execution_count": 235,
      "outputs": []
    },
    {
      "cell_type": "markdown",
      "metadata": {
        "id": "ultimate-answer"
      },
      "source": [
        "> **Exercise**: Given a function `generate` that returns a different number each time it's invoked, estimate the probability that the number returned is divisible by 5.\n",
        "> \n",
        "> Hint: Use the `estimate_probability` function defined above."
      ],
      "id": "ultimate-answer"
    },
    {
      "cell_type": "code",
      "metadata": {
        "id": "alike-australian"
      },
      "source": [
        "seed = 3\n",
        "def generate():\n",
        "    global seed\n",
        "    seed = (seed + 9) % 23\n",
        "    return seed"
      ],
      "id": "alike-australian",
      "execution_count": 236,
      "outputs": []
    },
    {
      "cell_type": "code",
      "metadata": {
        "id": "floral-drain"
      },
      "source": [
        ""
      ],
      "id": "floral-drain",
      "execution_count": 236,
      "outputs": []
    },
    {
      "cell_type": "code",
      "metadata": {
        "id": "julian-attraction"
      },
      "source": [
        ""
      ],
      "id": "julian-attraction",
      "execution_count": 236,
      "outputs": []
    },
    {
      "cell_type": "code",
      "metadata": {
        "id": "significant-absolute"
      },
      "source": [
        ""
      ],
      "id": "significant-absolute",
      "execution_count": 236,
      "outputs": []
    },
    {
      "cell_type": "code",
      "metadata": {
        "id": "serious-manchester"
      },
      "source": [
        ""
      ],
      "id": "serious-manchester",
      "execution_count": 236,
      "outputs": []
    },
    {
      "cell_type": "markdown",
      "metadata": {
        "id": "fresh-madison"
      },
      "source": [
        "> **Exercise**: 12 cards have been removed from a full deck of cards. You are not allowed to look at the cards, but you allowed to shuffle the deck, pick a random card, look at it and put it back into the deck. You repeat this process 1000 times and note the suit of the card that was picked. You observe the following:\n",
        "> * Spades ♠️ was picked 300 times\n",
        "> * Clubs ♣️ was picked 250 times\n",
        "> * Hearts ♥️ was picked 250 times\n",
        "> * Diamonds ♦️ was picked 200 times\n",
        ">\n",
        "> Can you use this information to estimate the number of cards belonging to each suit in the partial deck?"
      ],
      "id": "fresh-madison"
    },
    {
      "cell_type": "code",
      "metadata": {
        "id": "confidential-reggae"
      },
      "source": [
        ""
      ],
      "id": "confidential-reggae",
      "execution_count": 236,
      "outputs": []
    },
    {
      "cell_type": "code",
      "metadata": {
        "id": "catholic-folder"
      },
      "source": [
        ""
      ],
      "id": "catholic-folder",
      "execution_count": 236,
      "outputs": []
    },
    {
      "cell_type": "code",
      "metadata": {
        "id": "fifteen-bernard"
      },
      "source": [
        ""
      ],
      "id": "fifteen-bernard",
      "execution_count": 236,
      "outputs": []
    },
    {
      "cell_type": "markdown",
      "metadata": {
        "id": "liberal-setup"
      },
      "source": [
        "## Practical Applications of Probability\n",
        "\n",
        "Let's look at some real-world applications of probability.\n",
        "\n",
        "### Counting fish in a pond\n",
        "\n",
        "\n",
        "> **Exercise:** Supposed you cast a net in the middle of a pond and catch 1600 fish. You mark all the fish using a special waterproof ink and release them back into the pond. You return a few days later and cast a net at the same spot. This time you catch 1200 fish and you find that 100 of them are already marked with the special waterproof ink. Can you use this information to estimate the number of fish in the pond?\n",
        "\n",
        "*Hint*: Estimate the probability of find a marked fish in the second catch and compare it with the true probability of catching a marked fish.\n"
      ],
      "id": "liberal-setup"
    },
    {
      "cell_type": "code",
      "metadata": {
        "id": "reasonable-express"
      },
      "source": [
        ""
      ],
      "id": "reasonable-express",
      "execution_count": 236,
      "outputs": []
    },
    {
      "cell_type": "code",
      "metadata": {
        "id": "infinite-longitude"
      },
      "source": [
        ""
      ],
      "id": "infinite-longitude",
      "execution_count": 236,
      "outputs": []
    },
    {
      "cell_type": "markdown",
      "metadata": {
        "id": "nasty-announcement"
      },
      "source": [
        "At a later point, we will also learn about statistical significance, to determine how reliable the estimate is.\n",
        "\n",
        "### Counting leaves in a Tree\n",
        "\n",
        "> **Exercise**: Come up with a strategy to estimate the number of leaves in a tree. \n",
        "> \n",
        "> *Hint*: See the previous exercise."
      ],
      "id": "nasty-announcement"
    },
    {
      "cell_type": "code",
      "metadata": {
        "id": "strategic-extension"
      },
      "source": [
        ""
      ],
      "id": "strategic-extension",
      "execution_count": 236,
      "outputs": []
    },
    {
      "cell_type": "code",
      "metadata": {
        "id": "bacterial-suspect"
      },
      "source": [
        ""
      ],
      "id": "bacterial-suspect",
      "execution_count": 236,
      "outputs": []
    },
    {
      "cell_type": "markdown",
      "metadata": {
        "id": "based-monthly"
      },
      "source": [
        "### Ad Campaign Analysis\n",
        "\n",
        "> **Exercise**: You're running an social network advertising campaign to promote your upcoming course \"Machine Learning with Python: Zero to GBMs\". The course is priced at $\\$400$. The platform charges you $\\$.08$ for every impression of you ad i.e. to display your ad once in a person's feed. \n",
        ">\n",
        "> - The probability that someone clicks on your ad to visit the course page is 0.01\n",
        "> - The probability that someone who visits the course page will sign up for a trial of the course is 0.15\n",
        "> - The probability that someone who signs up for a trail will pay for the course is 0.1\n",
        "> \n",
        "> Given the above information, should you move forward with this ad campaign?"
      ],
      "id": "based-monthly"
    },
    {
      "cell_type": "code",
      "metadata": {
        "id": "frank-exploration"
      },
      "source": [
        ""
      ],
      "id": "frank-exploration",
      "execution_count": 236,
      "outputs": []
    },
    {
      "cell_type": "code",
      "metadata": {
        "id": "latest-heaven"
      },
      "source": [
        ""
      ],
      "id": "latest-heaven",
      "execution_count": 236,
      "outputs": []
    },
    {
      "cell_type": "markdown",
      "metadata": {
        "id": "mexican-society"
      },
      "source": [
        "> **Exercise**: For the above problem, answer the following:\n",
        "> \n",
        "> - How can you determine the probability whether someone clicking on your ad?\n",
        "> - How can you determine the probability whether someone who visits the course page will sign up for a trial?\n",
        "> - How can you determine the probability whether someone who signed up for trial will pay for the course?\n",
        "> \n",
        "> Suggest some strategies for increase each of the above probabilities."
      ],
      "id": "mexican-society"
    },
    {
      "cell_type": "code",
      "metadata": {
        "id": "about-filename"
      },
      "source": [
        ""
      ],
      "id": "about-filename",
      "execution_count": 236,
      "outputs": []
    },
    {
      "cell_type": "code",
      "metadata": {
        "id": "successful-christopher"
      },
      "source": [
        ""
      ],
      "id": "successful-christopher",
      "execution_count": 236,
      "outputs": []
    },
    {
      "cell_type": "markdown",
      "metadata": {
        "id": "massive-reviewer"
      },
      "source": [
        "## Independent Events and Compound Probability\n",
        "\n",
        "When we conduct multiple experiments independently (i.e. the result of one of the experiments does not affect the result of the other), we can compute the probability of a combination of results.\n",
        "\n",
        "> **Question:** If you flip a fair coin 2 times, what is the probability of getting a head followed by a tail?\n",
        "\n",
        "We know the the probability of getting a head for the first toss is $1/2$. And the probability of getting a tail for the second toss is also $1/2$, since both tosses are performed independently.\n",
        "\n",
        "<img src=\"https://i.imgur.com/pg1aXVK.png\">\n",
        "\n",
        "There are $2 \\times 2 = 4$ possible outcomes of the combined experiment: $HH$, $HT$, $TH$ and $TT$, and only one of them ($HT$) matches the given condition. Thus the probability of the condition is $1/2$."
      ],
      "id": "massive-reviewer"
    },
    {
      "cell_type": "code",
      "metadata": {
        "id": "spiritual-minute",
        "colab": {
          "base_uri": "https://localhost:8080/"
        },
        "outputId": "9b87abda-1601-4d94-8cb9-d0274b5e3c76"
      },
      "source": [
        "probability(1, 4)"
      ],
      "id": "spiritual-minute",
      "execution_count": 237,
      "outputs": [
        {
          "output_type": "execute_result",
          "data": {
            "text/plain": [
              "0.25"
            ]
          },
          "metadata": {
            "tags": []
          },
          "execution_count": 237
        }
      ]
    },
    {
      "cell_type": "markdown",
      "metadata": {
        "id": "dominican-omaha"
      },
      "source": [
        "Let's try this with another example and try to derive a general rule.\n",
        "\n",
        "> **Question**: If you flip a fair coin and roll a fair die, what is the probability of getting a head on the coin and an number greater than two on the die?\n",
        "\n",
        "Let $A$ denote the event \"getting a head for the coin toss\" and let $B$ denote the event \"getting a number greater than two for the die roll\". It's easy to see that \n",
        "\n",
        "$$P(A) = 1/2$$ \n",
        "$$P(B) = 4/6$$\n",
        "\n",
        "Based on the notation we defined earlier, $A \\cap B$ represents the event $A \\textrm{ and } B$ i.e. \"getting a head and a number greater than two\". We wish to find $P(A \\cup B)$.\n",
        "\n",
        "When we toss a coin and roll a die, each outcome is a pair consisting of the result of the coin toss and the result of a the die roll. The total number of outcomes is $2 * 6 = 12$ All the possible outcomes are shown below:\n",
        "\n",
        "![](https://i.imgur.com/X1YAqKH.png)\n",
        "\n",
        "\n",
        "Only 1 out of the 2 outcomes of the coin toss matches condition $A$, and only 4 out of the 6 outcomes of the die roll matches condition $B$. Thus, the number of pairs that match both conditions i.e. $A \\cap B$ is $1 \\times 4 = 4$. We can now calculate $P(A \\cap B)$ as follows:\n",
        "\n",
        "$$P(A \\cap B) = \\frac{1 \\times 4}{ 2 \\times 6}$$\n",
        "\n",
        "The above equation can be rewritten as follows:\n",
        "\n",
        "$$P(A \\cap B) = \\frac{1}{2} \\times \\frac{4}{6}$$\n",
        "\n",
        "$$P(A \\cap B) = P(A)P(B)$$\n",
        "\n",
        "Thus, when two or more events are independent, the probability of all of the occurring together is equal to the product of their probabilities.\n",
        "\n",
        "We can now compute the probability of the given condition as follows."
      ],
      "id": "dominican-omaha"
    },
    {
      "cell_type": "code",
      "metadata": {
        "id": "previous-diploma",
        "colab": {
          "base_uri": "https://localhost:8080/"
        },
        "outputId": "1acdc402-9d78-4ad2-97d6-da4fc03547b9"
      },
      "source": [
        "result = probability(1,2) * probability(4, 6)\n",
        "result"
      ],
      "id": "previous-diploma",
      "execution_count": 238,
      "outputs": [
        {
          "output_type": "execute_result",
          "data": {
            "text/plain": [
              "0.3333333333333333"
            ]
          },
          "metadata": {
            "tags": []
          },
          "execution_count": 238
        }
      ]
    },
    {
      "cell_type": "markdown",
      "metadata": {
        "id": "united-novelty"
      },
      "source": [
        "> **Exercise:** If you flip a fair coin 3 times, what is the probability of getting at least two heads?\n"
      ],
      "id": "united-novelty"
    },
    {
      "cell_type": "code",
      "metadata": {
        "id": "developmental-primary"
      },
      "source": [
        ""
      ],
      "id": "developmental-primary",
      "execution_count": 238,
      "outputs": []
    },
    {
      "cell_type": "markdown",
      "metadata": {
        "id": "suffering-appearance"
      },
      "source": [
        "> **Exercise**: If you roll two fair dice, what is the probability of getting a total of 7?"
      ],
      "id": "suffering-appearance"
    },
    {
      "cell_type": "code",
      "metadata": {
        "id": "rational-replacement"
      },
      "source": [
        ""
      ],
      "id": "rational-replacement",
      "execution_count": 238,
      "outputs": []
    },
    {
      "cell_type": "code",
      "metadata": {
        "id": "supreme-virtue"
      },
      "source": [
        ""
      ],
      "id": "supreme-virtue",
      "execution_count": 238,
      "outputs": []
    },
    {
      "cell_type": "markdown",
      "metadata": {
        "id": "metallic-script"
      },
      "source": [
        "> **Exercise:** If you flip a fair coin 10 times, what is the probability of getting exactly four heads?"
      ],
      "id": "metallic-script"
    },
    {
      "cell_type": "code",
      "metadata": {
        "id": "level-distributor"
      },
      "source": [
        ""
      ],
      "id": "level-distributor",
      "execution_count": 238,
      "outputs": []
    },
    {
      "cell_type": "code",
      "metadata": {
        "id": "personalized-daisy"
      },
      "source": [
        ""
      ],
      "id": "personalized-daisy",
      "execution_count": 238,
      "outputs": []
    },
    {
      "cell_type": "markdown",
      "metadata": {
        "id": "integral-pencil"
      },
      "source": [
        "> **Exercise**: What is the difference between independent events and mutually exclusive events? Illustrate with an example."
      ],
      "id": "integral-pencil"
    },
    {
      "cell_type": "code",
      "metadata": {
        "id": "statistical-purple"
      },
      "source": [
        ""
      ],
      "id": "statistical-purple",
      "execution_count": 238,
      "outputs": []
    },
    {
      "cell_type": "code",
      "metadata": {
        "id": "native-property"
      },
      "source": [
        ""
      ],
      "id": "native-property",
      "execution_count": 238,
      "outputs": []
    },
    {
      "cell_type": "markdown",
      "metadata": {
        "id": "entertaining-tactics"
      },
      "source": [
        "> **Exercise**: If you pick one card each from five different well shuffled decks of cards, what is the probability that you will end up with a flush (all cards belonging to the same suit)?"
      ],
      "id": "entertaining-tactics"
    },
    {
      "cell_type": "code",
      "metadata": {
        "id": "damaged-evidence"
      },
      "source": [
        ""
      ],
      "id": "damaged-evidence",
      "execution_count": 238,
      "outputs": []
    },
    {
      "cell_type": "code",
      "metadata": {
        "id": "forced-southwest"
      },
      "source": [
        ""
      ],
      "id": "forced-southwest",
      "execution_count": 238,
      "outputs": []
    },
    {
      "cell_type": "markdown",
      "metadata": {
        "id": "crazy-julian"
      },
      "source": [
        "> **Exercise**: If you pick five cards from a well shuffled deck of cards one by one, what is the probability that you will end up with a flush (all cards belonging to the same suit)?"
      ],
      "id": "crazy-julian"
    },
    {
      "cell_type": "code",
      "metadata": {
        "id": "surgical-trash"
      },
      "source": [
        ""
      ],
      "id": "surgical-trash",
      "execution_count": 238,
      "outputs": []
    },
    {
      "cell_type": "code",
      "metadata": {
        "id": "mexican-karma"
      },
      "source": [
        ""
      ],
      "id": "mexican-karma",
      "execution_count": 238,
      "outputs": []
    },
    {
      "cell_type": "markdown",
      "metadata": {
        "id": "speaking-dominican"
      },
      "source": [
        "## Dependent events and conditional probability\n",
        "\n",
        "In the previous question, the outcome of drawing a second card from a deck is dependent on the outcome of the drawing the first card. In such a case, it's not possible to apply the multiplication rule for independent events. Let's look at some examples of dependent events.\n",
        "\n",
        "\n",
        "> **Question**: A bag contains three green marbles and two red marbles. You draw two marbles from the bag, one by one. If we know that the first marble drawn was green in color, what is the probability that the second marble drawn is red?\n",
        "\n",
        "![](https://i.imgur.com/6AlkxFD.png)\n",
        "\n",
        "\n",
        "Let $A$ denote the condition \"drawing a green marble in the first draw\" and let $B$ denote the condition \"drawing a red marble in the second draw\". \n",
        "\n",
        "\n",
        "We use the notation $P(B | A)$ to denote the probability of the condition $B$ *given* that the condition $A$ holds true i.e. \"probability that the second marble drawn is red if we know that the first marble is green\".\n",
        "\n",
        "\n",
        "![](https://i.imgur.com/zX8qqws.png)\n",
        "\n",
        "If the first marble picked is green, that leaves two green marbles and two red marbles in the bag. We can use this information to compute the probability of the given condition. Any of the four marbles is equally likely to be drawn, and two of them satisfy the condition. Thus $P(B | A) = 2/4 = 0.5$\n",
        "\n",
        "\n"
      ],
      "id": "speaking-dominican"
    },
    {
      "cell_type": "code",
      "metadata": {
        "id": "southern-liverpool",
        "colab": {
          "base_uri": "https://localhost:8080/"
        },
        "outputId": "14d9dfa9-8956-4e6e-97e8-4fad5718e3a4"
      },
      "source": [
        "probability(2,4)"
      ],
      "id": "southern-liverpool",
      "execution_count": 239,
      "outputs": [
        {
          "output_type": "execute_result",
          "data": {
            "text/plain": [
              "0.5"
            ]
          },
          "metadata": {
            "tags": []
          },
          "execution_count": 239
        }
      ]
    },
    {
      "cell_type": "markdown",
      "metadata": {
        "id": "differential-miami"
      },
      "source": [
        "> **Question**: A bag contains three green marbles and two red marbles. You draw two marbles from the bag, one by one. What is the probability that the first marble drawn is green and the second marble drawn is red?\n",
        "\n",
        "![](https://i.imgur.com/6AlkxFD.png)\n",
        "\n",
        "Once again, let $A$ denote the condition \"drawing a green marble in the first draw\" and let $B$ denote the condition \"drawing a red marble in the second draw\". This time, we're interested in the probability of $A \\cap B$ i.e. $A \\textrm{ and } B$.\n",
        "\n",
        "When we draw the first marble, it is green with the probability $P(A)$. Once the first marble has been drawn, the second marble drawn is red with the probability $P(B|A)$. Thus, it follows that:\n",
        "\n",
        "$$P(A \\cap B) = P(A) P (B | A)$$\n",
        "\n",
        "This rule is called the **multiplication rule of probability**. We can now compute the required probability as follows:\n"
      ],
      "id": "differential-miami"
    },
    {
      "cell_type": "code",
      "metadata": {
        "id": "derived-liquid",
        "colab": {
          "base_uri": "https://localhost:8080/"
        },
        "outputId": "528de3b9-c915-48e0-9930-783292a3f9cb"
      },
      "source": [
        "probability(3,5) * probability(2, 4)"
      ],
      "id": "derived-liquid",
      "execution_count": 240,
      "outputs": [
        {
          "output_type": "execute_result",
          "data": {
            "text/plain": [
              "0.3"
            ]
          },
          "metadata": {
            "tags": []
          },
          "execution_count": 240
        }
      ]
    },
    {
      "cell_type": "markdown",
      "metadata": {
        "id": "liable-observation"
      },
      "source": [
        "Thus, for dependent events, we can use the multiplication rule to compute the probability of both events occurring. \n",
        "\n",
        "Independent events are a special case of the multiplication rule. $P(B|A) = P(B)$ for independent events $A$ and $B$. For example, the probability that we \"get a six on a dice roll\" given we \"get a head on coin toss\" is simply the probability of \"getting a six on a dice roll\". Hence, for independent events, \n",
        "\n",
        "$$P(A \\cap B) = P(A) P (B | A) = P(A) P(B)$$"
      ],
      "id": "liable-observation"
    },
    {
      "cell_type": "code",
      "metadata": {
        "id": "viral-passage"
      },
      "source": [
        ""
      ],
      "id": "viral-passage",
      "execution_count": 240,
      "outputs": []
    },
    {
      "cell_type": "code",
      "metadata": {
        "id": "accredited-sessions"
      },
      "source": [
        ""
      ],
      "id": "accredited-sessions",
      "execution_count": 240,
      "outputs": []
    },
    {
      "cell_type": "code",
      "metadata": {
        "id": "gentle-czech"
      },
      "source": [
        ""
      ],
      "id": "gentle-czech",
      "execution_count": 240,
      "outputs": []
    },
    {
      "cell_type": "markdown",
      "metadata": {
        "id": "simplified-marketing"
      },
      "source": [
        "> **Question**: A bag contains three green marbles and two red marbles. You draw two marbles from the bag, one by one. What is the probability that the second marble drawn is red.\n",
        "\n",
        "\n",
        "![](https://i.imgur.com/6AlkxFD.png)\n",
        "\n",
        "This time we don't know the color of the first marble drawn. However, there are exactly two mutually exclusive possibilities:\n",
        "\n",
        "1. The first marble drawn in green and the second marble drawn is red.\n",
        "2. The first marble drawn in red and the second marble drawn is red.\n",
        "\n",
        "Let $A$ denote \"drawing a green marble in the first draw\" and let $B$ denote \"drawing a red marble in the second draw\". It follows that:\n",
        "\n",
        "$$P(B) = P(A \\cap B) + P(A^C \\cap B)$$\n",
        "\n",
        "Using the multiplication rule,\n",
        "\n",
        "$$P(B) = P(A)P(B|A) + P(A^C)P(B|A^C)$$\n",
        "\n",
        "\n",
        "> **Exercise**: Substitute the right values into the above expression to compute the desired probability."
      ],
      "id": "simplified-marketing"
    },
    {
      "cell_type": "code",
      "metadata": {
        "id": "complimentary-public"
      },
      "source": [
        ""
      ],
      "id": "complimentary-public",
      "execution_count": 240,
      "outputs": []
    },
    {
      "cell_type": "code",
      "metadata": {
        "id": "equal-creature"
      },
      "source": [
        ""
      ],
      "id": "equal-creature",
      "execution_count": 240,
      "outputs": []
    },
    {
      "cell_type": "code",
      "metadata": {
        "id": "occupied-annotation"
      },
      "source": [
        ""
      ],
      "id": "occupied-annotation",
      "execution_count": 240,
      "outputs": []
    },
    {
      "cell_type": "code",
      "metadata": {
        "id": "minute-heading"
      },
      "source": [
        ""
      ],
      "id": "minute-heading",
      "execution_count": 240,
      "outputs": []
    },
    {
      "cell_type": "markdown",
      "metadata": {
        "id": "electric-mainland"
      },
      "source": [
        "## Bayes Theorem\n",
        "\n",
        "The multiplication rule can be written in two ways:\n",
        "\n",
        "$$P(A \\cap B) = P(A) P (B | A)$$\n",
        "$$P(A \\cap B) = P(B \\cap A) = P(B) P (A | B)$$\n",
        "\n",
        "Thus, it follows that:\n",
        "\n",
        "$$P(B) P (A | B) = P(A) P (B | A)$$\n",
        "\n",
        "The above equation can be rewritten as:\n",
        "\n",
        "$$P (A | B) = \\frac{P(A) P (B | A)}{P(B)}$$\n",
        "\n",
        "This relation is known as the **Bayes theorem**, and it is used to compute probability of $A|B$ using the probability of $B|A$. Bayes theorem has many practical applications. Watch this tutorial for a visual introduction to Bayes theorem: https://youtu.be/HZGCoVF3YvM"
      ],
      "id": "electric-mainland"
    },
    {
      "cell_type": "markdown",
      "metadata": {
        "id": "found-teddy"
      },
      "source": [
        "> **Question**: A bag contains three green marbles and two red marbles. You draw two marbles from the bag, one by one. If it is known that the second marble drawn is red, what is the probability that the first marble drawn was green?\n",
        "\n",
        "![](https://i.imgur.com/6AlkxFD.png)\n",
        "\n",
        "Let $A$ denote \"drawing a green marble in the first draw\" and let $B$ denote \"drawing a red marble in the second draw\". We need to compute $P(A|B)$. \n",
        "\n",
        "From the previous problems, we already know the value of $P(A)$, $P(B|A)$ and $P(B)$.\n",
        "\n",
        "\n",
        "Thus, we can now apply Bayes theorem to get:\n",
        "\n",
        "$$P (A | B) = \\frac{P(A) P (B | A)}{P(B)}$$\n",
        "\n",
        "> **Exercise**: Substitute the right values into the above formula to compute the desired probability.\n"
      ],
      "id": "found-teddy"
    },
    {
      "cell_type": "code",
      "metadata": {
        "id": "nuclear-schema"
      },
      "source": [
        ""
      ],
      "id": "nuclear-schema",
      "execution_count": 240,
      "outputs": []
    },
    {
      "cell_type": "code",
      "metadata": {
        "id": "alien-architect"
      },
      "source": [
        ""
      ],
      "id": "alien-architect",
      "execution_count": 240,
      "outputs": []
    },
    {
      "cell_type": "code",
      "metadata": {
        "id": "banner-chile"
      },
      "source": [
        ""
      ],
      "id": "banner-chile",
      "execution_count": 240,
      "outputs": []
    },
    {
      "cell_type": "markdown",
      "metadata": {
        "id": "understood-arctic"
      },
      "source": [
        "\n",
        "\n",
        "> **Exercise**: Medical records in a clinic indicate that 10% of patients entering the clinic have liver disease and five percent of the clinic's patients are alcoholics. Medical research suggests among patients diagnosed with liver disease, 7% are alcoholics. What is a patient's probability of having liver disease if they are an alcoholic?\n",
        "\n",
        "*Hint*: Let $A$ represent the event \"a person has liver disease\" and $B$ represent the event \"a person is an alcoholic\". Apply Bayes theorem to compute $P(A|B)$\n"
      ],
      "id": "understood-arctic"
    },
    {
      "cell_type": "code",
      "metadata": {
        "id": "stunning-passion"
      },
      "source": [
        ""
      ],
      "id": "stunning-passion",
      "execution_count": 240,
      "outputs": []
    },
    {
      "cell_type": "code",
      "metadata": {
        "id": "stretch-marriage"
      },
      "source": [
        ""
      ],
      "id": "stretch-marriage",
      "execution_count": 240,
      "outputs": []
    },
    {
      "cell_type": "code",
      "metadata": {
        "id": "sunset-score"
      },
      "source": [
        ""
      ],
      "id": "sunset-score",
      "execution_count": 240,
      "outputs": []
    },
    {
      "cell_type": "code",
      "metadata": {
        "id": "sacred-chassis"
      },
      "source": [
        ""
      ],
      "id": "sacred-chassis",
      "execution_count": 240,
      "outputs": []
    },
    {
      "cell_type": "markdown",
      "metadata": {
        "id": "geological-agenda"
      },
      "source": [
        "> **Exercise**: Given the following statistics, what is the probability that a woman has breast cancer if she has a positive mammogram result?\n",
        ">\n",
        "> - One percent of women over 50 have breast cancer.\n",
        "> - Ninety percent of women who have breast cancer test positive on mammograms.\n",
        "> - Eight percent of women will have false positives.\n",
        "\n",
        "*Hint*: Let $A$ represent the event \"a woman has breast cancer\" and let $B$ represent the event \"a woman as a positive mammogram result\". Apply Bayes theorem to compute $P(A|B)$."
      ],
      "id": "geological-agenda"
    },
    {
      "cell_type": "code",
      "metadata": {
        "id": "artistic-community"
      },
      "source": [
        ""
      ],
      "id": "artistic-community",
      "execution_count": 240,
      "outputs": []
    },
    {
      "cell_type": "code",
      "metadata": {
        "id": "honest-consistency"
      },
      "source": [
        ""
      ],
      "id": "honest-consistency",
      "execution_count": 240,
      "outputs": []
    },
    {
      "cell_type": "code",
      "metadata": {
        "id": "boolean-shield"
      },
      "source": [
        ""
      ],
      "id": "boolean-shield",
      "execution_count": 240,
      "outputs": []
    },
    {
      "cell_type": "code",
      "metadata": {
        "id": "metallic-migration"
      },
      "source": [
        ""
      ],
      "id": "metallic-migration",
      "execution_count": 240,
      "outputs": []
    },
    {
      "cell_type": "markdown",
      "metadata": {
        "id": "dynamic-notification"
      },
      "source": [
        "\n",
        "## Summary\n",
        "\n",
        "Here's a summary of the concepts and results we've covered in this tutorial:\n",
        "\n",
        "\n",
        "1. **Probability**: The probability of a condition/event is a number between 0 and 1. It indicates how likely the event is to occur or how likely it is that a condition holds true.\n",
        "\n",
        "2. **Equally likely outcomes**: When we have several equally likely outcomes, the probability of a condition is defined as\n",
        "\n",
        "$$P(\\textrm{condition}) = \\frac{\\textrm{ No. of outcomes satisfying the condition }} {\\textrm{Number of equally likely outcomes}}$$\n",
        "\n",
        "\n",
        "3. **Estimating probability**: We can estimate the probability of a condition by repeating an experiment several times\n",
        "\n",
        "$$P(\\textrm{condition}) \\approx \\frac{\\textrm{ No. of experiments satisfying the condition }} {\\textrm{No. of experiments conducted}}$$\n",
        "\n",
        "\n",
        "4. **Addition rule**: Given two conditions/events $A$ and $B$, we can compute the probability of either of A or B occurring as follows: \n",
        "\n",
        "\n",
        "$$P(A \\textrm{ or } B) = P(A) + P(B) - P(A \\textrm { and } B)$$\n",
        "\n",
        "$$P(A \\cup B) = P(A) + P(B) - P(A \\cap B)$$\n",
        "\n",
        "\n",
        "5. **Mutually exclusive events**: Two conditions/events $A$ and $B$ are said to be mutually exclusive if they cannot occur together i.e. $P(A \\textrm{ and } B) = 0$. E.g. Getting a 6 and getting a 4 on a die roll are mutually exclusive events. In such a case:\n",
        "   \n",
        "\n",
        "$$P(A \\cup B) = P(A) + P(B)$$\n",
        "\n",
        "6. **Complement of an event** Given an event $A$, the condition $A^C$ represents the condition that $A$ does not occur. It is called the complement of $A$, and its probability is given by the relation:\n",
        "\n",
        "$$P(\\textrm { not } A) = 1 - P(A)$$\n",
        "\n",
        "$$P(A^C) = 1 - P(A)$$\n",
        "\n",
        "7. **Sum of Probabilities**: The sum of probabilities of all the possible mutually exclusive outcomes is 1. The set of all possible outcomes is called the *sample space* and is denoted by $S$.\n",
        "\n",
        "$$P(S) = 1$$\n",
        "\n",
        "\n",
        "8. **Independent Events**: Two events $A$ and $B$ are said to be independent if outcome of one does not affect the outcome of the other. For independent events, \n",
        "\n",
        "\n",
        "$$P(A \\cap B) = P(A)P(B)$$\n",
        "\n",
        "\n",
        "$$P(A \\cup B) = P(A) + P(B) - P(A)P(B)$$\n",
        "\n",
        "9. **Multiplication Rule**: Given two events $A$ and $B$, the probability of both $A$ and $B$ occurring can be computed as follows:\n",
        "\n",
        "\n",
        "$$P(A \\cap B) = P(A)P(B | A)$$\n",
        "\n",
        "$$P(A \\cap B) = P(B)P(A | B)$$\n",
        "\n",
        "10. **Probability of dependent events**: Given two events $A$ and $B$, if the outcome of $B$ is dependent on the outcome of $A$, $P(B)$ can be computed as: \n",
        "\n",
        "$$P(B) = P(A \\cap B) + P(A^C \\cap B)$$\n",
        "\n",
        "$$P(B) = P(A)P(B|A) + P(A^C)P(B|A^C)$$\n",
        "\n",
        "\n",
        "11. **Bayes Theorem**: Given two events $A$ and $B$, we can compute $P(A|B)$ using $P(B|A)$ as follows:\n",
        "\n",
        "$$P(A|B) = \\frac{P(A)P(B|A)}{P(B)}$$\n",
        "\n",
        "Some resources for learning and practice:\n",
        "\n",
        "- [Probability tutorials on Khan Academy](https://www.khanacademy.org/math/statistics-probability/probability-library)\n",
        "- [Problems on Probability](https://www.testprepreview.com/modules/probabilty.htm)\n",
        "- [Probability Interview Questions](https://github.com/kojino/120-Data-Science-Interview-Questions/blob/master/probability.md)\n",
        "- [A visual introduction to probability](https://luminousmen.com/post/data-science-probability)\n",
        "- [A visual explanation of Bayes Theorem](https://www.youtube.com/watch?v=HZGCoVF3YvM)\n"
      ],
      "id": "dynamic-notification"
    }
  ]
}